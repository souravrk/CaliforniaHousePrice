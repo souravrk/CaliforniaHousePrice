{
  "nbformat": 4,
  "nbformat_minor": 0,
  "metadata": {
    "colab": {
      "provenance": []
    },
    "kernelspec": {
      "name": "python3",
      "display_name": "Python 3"
    },
    "language_info": {
      "name": "python"
    }
  },
  "cells": [
    {
      "cell_type": "code",
      "source": [
        "from google.colab import drive\n",
        "drive.mount('/content/drive')"
      ],
      "metadata": {
        "colab": {
          "base_uri": "https://localhost:8080/"
        },
        "id": "I5Vm1ygrp0gT",
        "outputId": "01986efb-64e0-45f5-aff0-18bc6e534882"
      },
      "execution_count": 24,
      "outputs": [
        {
          "output_type": "stream",
          "name": "stdout",
          "text": [
            "Drive already mounted at /content/drive; to attempt to forcibly remount, call drive.mount(\"/content/drive\", force_remount=True).\n"
          ]
        }
      ]
    },
    {
      "cell_type": "code",
      "source": [
        "!unzip /content/drive/MyDrive/Keggle/HousePrice.zip"
      ],
      "metadata": {
        "colab": {
          "base_uri": "https://localhost:8080/"
        },
        "id": "HZbFDEcPuPAT",
        "outputId": "5a31fdb4-75c7-4cff-ab47-fac133d41e18"
      },
      "execution_count": 25,
      "outputs": [
        {
          "output_type": "stream",
          "name": "stdout",
          "text": [
            "Archive:  /content/drive/MyDrive/Keggle/HousePrice.zip\n",
            "replace housing.csv? [y]es, [n]o, [A]ll, [N]one, [r]ename: "
          ]
        }
      ]
    },
    {
      "cell_type": "code",
      "source": [
        "df = pd.read_csv('/content/housing.csv')"
      ],
      "metadata": {
        "id": "U6BCHSUavY1S"
      },
      "execution_count": 26,
      "outputs": []
    },
    {
      "cell_type": "code",
      "source": [
        "import pandas as pd\n"
      ],
      "metadata": {
        "id": "CEo9KTlQwWt5"
      },
      "execution_count": 27,
      "outputs": []
    },
    {
      "cell_type": "code",
      "source": [
        "df"
      ],
      "metadata": {
        "colab": {
          "base_uri": "https://localhost:8080/",
          "height": 487
        },
        "id": "8bbRZYaPwywH",
        "outputId": "e1dfc7f8-6c30-423b-fcb7-f59d595aa302"
      },
      "execution_count": 28,
      "outputs": [
        {
          "output_type": "execute_result",
          "data": {
            "text/plain": [
              "       longitude  latitude  housing_median_age  total_rooms  total_bedrooms  \\\n",
              "0        -122.23     37.88                41.0        880.0           129.0   \n",
              "1        -122.22     37.86                21.0       7099.0          1106.0   \n",
              "2        -122.24     37.85                52.0       1467.0           190.0   \n",
              "3        -122.25     37.85                52.0       1274.0           235.0   \n",
              "4        -122.25     37.85                52.0       1627.0           280.0   \n",
              "...          ...       ...                 ...          ...             ...   \n",
              "20635    -121.09     39.48                25.0       1665.0           374.0   \n",
              "20636    -121.21     39.49                18.0        697.0           150.0   \n",
              "20637    -121.22     39.43                17.0       2254.0           485.0   \n",
              "20638    -121.32     39.43                18.0       1860.0           409.0   \n",
              "20639    -121.24     39.37                16.0       2785.0           616.0   \n",
              "\n",
              "       population  households  median_income  median_house_value  \\\n",
              "0           322.0       126.0         8.3252            452600.0   \n",
              "1          2401.0      1138.0         8.3014            358500.0   \n",
              "2           496.0       177.0         7.2574            352100.0   \n",
              "3           558.0       219.0         5.6431            341300.0   \n",
              "4           565.0       259.0         3.8462            342200.0   \n",
              "...           ...         ...            ...                 ...   \n",
              "20635       845.0       330.0         1.5603             78100.0   \n",
              "20636       356.0       114.0         2.5568             77100.0   \n",
              "20637      1007.0       433.0         1.7000             92300.0   \n",
              "20638       741.0       349.0         1.8672             84700.0   \n",
              "20639      1387.0       530.0         2.3886             89400.0   \n",
              "\n",
              "      ocean_proximity  \n",
              "0            NEAR BAY  \n",
              "1            NEAR BAY  \n",
              "2            NEAR BAY  \n",
              "3            NEAR BAY  \n",
              "4            NEAR BAY  \n",
              "...               ...  \n",
              "20635          INLAND  \n",
              "20636          INLAND  \n",
              "20637          INLAND  \n",
              "20638          INLAND  \n",
              "20639          INLAND  \n",
              "\n",
              "[20640 rows x 10 columns]"
            ],
            "text/html": [
              "\n",
              "  <div id=\"df-3e08c42a-20f4-4f02-8c57-0b09cff7a60d\">\n",
              "    <div class=\"colab-df-container\">\n",
              "      <div>\n",
              "<style scoped>\n",
              "    .dataframe tbody tr th:only-of-type {\n",
              "        vertical-align: middle;\n",
              "    }\n",
              "\n",
              "    .dataframe tbody tr th {\n",
              "        vertical-align: top;\n",
              "    }\n",
              "\n",
              "    .dataframe thead th {\n",
              "        text-align: right;\n",
              "    }\n",
              "</style>\n",
              "<table border=\"1\" class=\"dataframe\">\n",
              "  <thead>\n",
              "    <tr style=\"text-align: right;\">\n",
              "      <th></th>\n",
              "      <th>longitude</th>\n",
              "      <th>latitude</th>\n",
              "      <th>housing_median_age</th>\n",
              "      <th>total_rooms</th>\n",
              "      <th>total_bedrooms</th>\n",
              "      <th>population</th>\n",
              "      <th>households</th>\n",
              "      <th>median_income</th>\n",
              "      <th>median_house_value</th>\n",
              "      <th>ocean_proximity</th>\n",
              "    </tr>\n",
              "  </thead>\n",
              "  <tbody>\n",
              "    <tr>\n",
              "      <th>0</th>\n",
              "      <td>-122.23</td>\n",
              "      <td>37.88</td>\n",
              "      <td>41.0</td>\n",
              "      <td>880.0</td>\n",
              "      <td>129.0</td>\n",
              "      <td>322.0</td>\n",
              "      <td>126.0</td>\n",
              "      <td>8.3252</td>\n",
              "      <td>452600.0</td>\n",
              "      <td>NEAR BAY</td>\n",
              "    </tr>\n",
              "    <tr>\n",
              "      <th>1</th>\n",
              "      <td>-122.22</td>\n",
              "      <td>37.86</td>\n",
              "      <td>21.0</td>\n",
              "      <td>7099.0</td>\n",
              "      <td>1106.0</td>\n",
              "      <td>2401.0</td>\n",
              "      <td>1138.0</td>\n",
              "      <td>8.3014</td>\n",
              "      <td>358500.0</td>\n",
              "      <td>NEAR BAY</td>\n",
              "    </tr>\n",
              "    <tr>\n",
              "      <th>2</th>\n",
              "      <td>-122.24</td>\n",
              "      <td>37.85</td>\n",
              "      <td>52.0</td>\n",
              "      <td>1467.0</td>\n",
              "      <td>190.0</td>\n",
              "      <td>496.0</td>\n",
              "      <td>177.0</td>\n",
              "      <td>7.2574</td>\n",
              "      <td>352100.0</td>\n",
              "      <td>NEAR BAY</td>\n",
              "    </tr>\n",
              "    <tr>\n",
              "      <th>3</th>\n",
              "      <td>-122.25</td>\n",
              "      <td>37.85</td>\n",
              "      <td>52.0</td>\n",
              "      <td>1274.0</td>\n",
              "      <td>235.0</td>\n",
              "      <td>558.0</td>\n",
              "      <td>219.0</td>\n",
              "      <td>5.6431</td>\n",
              "      <td>341300.0</td>\n",
              "      <td>NEAR BAY</td>\n",
              "    </tr>\n",
              "    <tr>\n",
              "      <th>4</th>\n",
              "      <td>-122.25</td>\n",
              "      <td>37.85</td>\n",
              "      <td>52.0</td>\n",
              "      <td>1627.0</td>\n",
              "      <td>280.0</td>\n",
              "      <td>565.0</td>\n",
              "      <td>259.0</td>\n",
              "      <td>3.8462</td>\n",
              "      <td>342200.0</td>\n",
              "      <td>NEAR BAY</td>\n",
              "    </tr>\n",
              "    <tr>\n",
              "      <th>...</th>\n",
              "      <td>...</td>\n",
              "      <td>...</td>\n",
              "      <td>...</td>\n",
              "      <td>...</td>\n",
              "      <td>...</td>\n",
              "      <td>...</td>\n",
              "      <td>...</td>\n",
              "      <td>...</td>\n",
              "      <td>...</td>\n",
              "      <td>...</td>\n",
              "    </tr>\n",
              "    <tr>\n",
              "      <th>20635</th>\n",
              "      <td>-121.09</td>\n",
              "      <td>39.48</td>\n",
              "      <td>25.0</td>\n",
              "      <td>1665.0</td>\n",
              "      <td>374.0</td>\n",
              "      <td>845.0</td>\n",
              "      <td>330.0</td>\n",
              "      <td>1.5603</td>\n",
              "      <td>78100.0</td>\n",
              "      <td>INLAND</td>\n",
              "    </tr>\n",
              "    <tr>\n",
              "      <th>20636</th>\n",
              "      <td>-121.21</td>\n",
              "      <td>39.49</td>\n",
              "      <td>18.0</td>\n",
              "      <td>697.0</td>\n",
              "      <td>150.0</td>\n",
              "      <td>356.0</td>\n",
              "      <td>114.0</td>\n",
              "      <td>2.5568</td>\n",
              "      <td>77100.0</td>\n",
              "      <td>INLAND</td>\n",
              "    </tr>\n",
              "    <tr>\n",
              "      <th>20637</th>\n",
              "      <td>-121.22</td>\n",
              "      <td>39.43</td>\n",
              "      <td>17.0</td>\n",
              "      <td>2254.0</td>\n",
              "      <td>485.0</td>\n",
              "      <td>1007.0</td>\n",
              "      <td>433.0</td>\n",
              "      <td>1.7000</td>\n",
              "      <td>92300.0</td>\n",
              "      <td>INLAND</td>\n",
              "    </tr>\n",
              "    <tr>\n",
              "      <th>20638</th>\n",
              "      <td>-121.32</td>\n",
              "      <td>39.43</td>\n",
              "      <td>18.0</td>\n",
              "      <td>1860.0</td>\n",
              "      <td>409.0</td>\n",
              "      <td>741.0</td>\n",
              "      <td>349.0</td>\n",
              "      <td>1.8672</td>\n",
              "      <td>84700.0</td>\n",
              "      <td>INLAND</td>\n",
              "    </tr>\n",
              "    <tr>\n",
              "      <th>20639</th>\n",
              "      <td>-121.24</td>\n",
              "      <td>39.37</td>\n",
              "      <td>16.0</td>\n",
              "      <td>2785.0</td>\n",
              "      <td>616.0</td>\n",
              "      <td>1387.0</td>\n",
              "      <td>530.0</td>\n",
              "      <td>2.3886</td>\n",
              "      <td>89400.0</td>\n",
              "      <td>INLAND</td>\n",
              "    </tr>\n",
              "  </tbody>\n",
              "</table>\n",
              "<p>20640 rows × 10 columns</p>\n",
              "</div>\n",
              "      <button class=\"colab-df-convert\" onclick=\"convertToInteractive('df-3e08c42a-20f4-4f02-8c57-0b09cff7a60d')\"\n",
              "              title=\"Convert this dataframe to an interactive table.\"\n",
              "              style=\"display:none;\">\n",
              "        \n",
              "  <svg xmlns=\"http://www.w3.org/2000/svg\" height=\"24px\"viewBox=\"0 0 24 24\"\n",
              "       width=\"24px\">\n",
              "    <path d=\"M0 0h24v24H0V0z\" fill=\"none\"/>\n",
              "    <path d=\"M18.56 5.44l.94 2.06.94-2.06 2.06-.94-2.06-.94-.94-2.06-.94 2.06-2.06.94zm-11 1L8.5 8.5l.94-2.06 2.06-.94-2.06-.94L8.5 2.5l-.94 2.06-2.06.94zm10 10l.94 2.06.94-2.06 2.06-.94-2.06-.94-.94-2.06-.94 2.06-2.06.94z\"/><path d=\"M17.41 7.96l-1.37-1.37c-.4-.4-.92-.59-1.43-.59-.52 0-1.04.2-1.43.59L10.3 9.45l-7.72 7.72c-.78.78-.78 2.05 0 2.83L4 21.41c.39.39.9.59 1.41.59.51 0 1.02-.2 1.41-.59l7.78-7.78 2.81-2.81c.8-.78.8-2.07 0-2.86zM5.41 20L4 18.59l7.72-7.72 1.47 1.35L5.41 20z\"/>\n",
              "  </svg>\n",
              "      </button>\n",
              "      \n",
              "  <style>\n",
              "    .colab-df-container {\n",
              "      display:flex;\n",
              "      flex-wrap:wrap;\n",
              "      gap: 12px;\n",
              "    }\n",
              "\n",
              "    .colab-df-convert {\n",
              "      background-color: #E8F0FE;\n",
              "      border: none;\n",
              "      border-radius: 50%;\n",
              "      cursor: pointer;\n",
              "      display: none;\n",
              "      fill: #1967D2;\n",
              "      height: 32px;\n",
              "      padding: 0 0 0 0;\n",
              "      width: 32px;\n",
              "    }\n",
              "\n",
              "    .colab-df-convert:hover {\n",
              "      background-color: #E2EBFA;\n",
              "      box-shadow: 0px 1px 2px rgba(60, 64, 67, 0.3), 0px 1px 3px 1px rgba(60, 64, 67, 0.15);\n",
              "      fill: #174EA6;\n",
              "    }\n",
              "\n",
              "    [theme=dark] .colab-df-convert {\n",
              "      background-color: #3B4455;\n",
              "      fill: #D2E3FC;\n",
              "    }\n",
              "\n",
              "    [theme=dark] .colab-df-convert:hover {\n",
              "      background-color: #434B5C;\n",
              "      box-shadow: 0px 1px 3px 1px rgba(0, 0, 0, 0.15);\n",
              "      filter: drop-shadow(0px 1px 2px rgba(0, 0, 0, 0.3));\n",
              "      fill: #FFFFFF;\n",
              "    }\n",
              "  </style>\n",
              "\n",
              "      <script>\n",
              "        const buttonEl =\n",
              "          document.querySelector('#df-3e08c42a-20f4-4f02-8c57-0b09cff7a60d button.colab-df-convert');\n",
              "        buttonEl.style.display =\n",
              "          google.colab.kernel.accessAllowed ? 'block' : 'none';\n",
              "\n",
              "        async function convertToInteractive(key) {\n",
              "          const element = document.querySelector('#df-3e08c42a-20f4-4f02-8c57-0b09cff7a60d');\n",
              "          const dataTable =\n",
              "            await google.colab.kernel.invokeFunction('convertToInteractive',\n",
              "                                                     [key], {});\n",
              "          if (!dataTable) return;\n",
              "\n",
              "          const docLinkHtml = 'Like what you see? Visit the ' +\n",
              "            '<a target=\"_blank\" href=https://colab.research.google.com/notebooks/data_table.ipynb>data table notebook</a>'\n",
              "            + ' to learn more about interactive tables.';\n",
              "          element.innerHTML = '';\n",
              "          dataTable['output_type'] = 'display_data';\n",
              "          await google.colab.output.renderOutput(dataTable, element);\n",
              "          const docLink = document.createElement('div');\n",
              "          docLink.innerHTML = docLinkHtml;\n",
              "          element.appendChild(docLink);\n",
              "        }\n",
              "      </script>\n",
              "    </div>\n",
              "  </div>\n",
              "  "
            ]
          },
          "metadata": {},
          "execution_count": 28
        }
      ]
    },
    {
      "cell_type": "code",
      "source": [
        "df['ocean_proximity'].value_counts()"
      ],
      "metadata": {
        "colab": {
          "base_uri": "https://localhost:8080/"
        },
        "id": "rYv0SegmxCqN",
        "outputId": "e185f7a2-919d-44ca-d7b7-faf2c684aa4c"
      },
      "execution_count": 29,
      "outputs": [
        {
          "output_type": "execute_result",
          "data": {
            "text/plain": [
              "<1H OCEAN     9136\n",
              "INLAND        6551\n",
              "NEAR OCEAN    2658\n",
              "NEAR BAY      2290\n",
              "ISLAND           5\n",
              "Name: ocean_proximity, dtype: int64"
            ]
          },
          "metadata": {},
          "execution_count": 29
        }
      ]
    },
    {
      "cell_type": "code",
      "source": [
        "df_shuffled = df.sample(n=len(df), random_state=1)\n",
        "df_shuffled"
      ],
      "metadata": {
        "colab": {
          "base_uri": "https://localhost:8080/",
          "height": 487
        },
        "id": "0Yk2197sx9DU",
        "outputId": "9da8140c-cd3f-4b02-cedd-f3c42eb0829d"
      },
      "execution_count": 30,
      "outputs": [
        {
          "output_type": "execute_result",
          "data": {
            "text/plain": [
              "       longitude  latitude  housing_median_age  total_rooms  total_bedrooms  \\\n",
              "4712     -118.36     34.06                39.0       2810.0           670.0   \n",
              "2151     -119.78     36.78                37.0       2185.0           455.0   \n",
              "15927    -122.42     37.73                46.0       1819.0           411.0   \n",
              "82       -122.28     37.81                52.0        340.0            97.0   \n",
              "8161     -118.13     33.82                37.0       1530.0           290.0   \n",
              "...          ...       ...                 ...          ...             ...   \n",
              "10955    -117.88     33.76                17.0       1768.0           474.0   \n",
              "17289    -119.63     34.42                42.0       1765.0           263.0   \n",
              "5192     -118.26     33.93                42.0       1433.0           295.0   \n",
              "12172    -117.16     33.73                10.0       2381.0           454.0   \n",
              "235      -122.20     37.79                35.0       1802.0           459.0   \n",
              "\n",
              "       population  households  median_income  median_house_value  \\\n",
              "4712       1109.0       624.0         3.2500            355000.0   \n",
              "2151       1143.0       438.0         1.9784             70700.0   \n",
              "15927      1534.0       406.0         4.0132            229400.0   \n",
              "82          200.0        87.0         1.5208            112500.0   \n",
              "8161        711.0       283.0         5.1795            225400.0   \n",
              "...           ...         ...            ...                 ...   \n",
              "10955      1079.0       436.0         1.7823            205300.0   \n",
              "17289       753.0       260.0         8.5608            500001.0   \n",
              "5192        775.0       293.0         1.1326            104800.0   \n",
              "12172      1323.0       477.0         2.6322            140700.0   \n",
              "235        1009.0       390.0         2.3036            126000.0   \n",
              "\n",
              "      ocean_proximity  \n",
              "4712        <1H OCEAN  \n",
              "2151           INLAND  \n",
              "15927        NEAR BAY  \n",
              "82           NEAR BAY  \n",
              "8161        <1H OCEAN  \n",
              "...               ...  \n",
              "10955       <1H OCEAN  \n",
              "17289       <1H OCEAN  \n",
              "5192        <1H OCEAN  \n",
              "12172          INLAND  \n",
              "235          NEAR BAY  \n",
              "\n",
              "[20640 rows x 10 columns]"
            ],
            "text/html": [
              "\n",
              "  <div id=\"df-5ece406b-79a7-4ce2-b996-42b2e69d02ff\">\n",
              "    <div class=\"colab-df-container\">\n",
              "      <div>\n",
              "<style scoped>\n",
              "    .dataframe tbody tr th:only-of-type {\n",
              "        vertical-align: middle;\n",
              "    }\n",
              "\n",
              "    .dataframe tbody tr th {\n",
              "        vertical-align: top;\n",
              "    }\n",
              "\n",
              "    .dataframe thead th {\n",
              "        text-align: right;\n",
              "    }\n",
              "</style>\n",
              "<table border=\"1\" class=\"dataframe\">\n",
              "  <thead>\n",
              "    <tr style=\"text-align: right;\">\n",
              "      <th></th>\n",
              "      <th>longitude</th>\n",
              "      <th>latitude</th>\n",
              "      <th>housing_median_age</th>\n",
              "      <th>total_rooms</th>\n",
              "      <th>total_bedrooms</th>\n",
              "      <th>population</th>\n",
              "      <th>households</th>\n",
              "      <th>median_income</th>\n",
              "      <th>median_house_value</th>\n",
              "      <th>ocean_proximity</th>\n",
              "    </tr>\n",
              "  </thead>\n",
              "  <tbody>\n",
              "    <tr>\n",
              "      <th>4712</th>\n",
              "      <td>-118.36</td>\n",
              "      <td>34.06</td>\n",
              "      <td>39.0</td>\n",
              "      <td>2810.0</td>\n",
              "      <td>670.0</td>\n",
              "      <td>1109.0</td>\n",
              "      <td>624.0</td>\n",
              "      <td>3.2500</td>\n",
              "      <td>355000.0</td>\n",
              "      <td>&lt;1H OCEAN</td>\n",
              "    </tr>\n",
              "    <tr>\n",
              "      <th>2151</th>\n",
              "      <td>-119.78</td>\n",
              "      <td>36.78</td>\n",
              "      <td>37.0</td>\n",
              "      <td>2185.0</td>\n",
              "      <td>455.0</td>\n",
              "      <td>1143.0</td>\n",
              "      <td>438.0</td>\n",
              "      <td>1.9784</td>\n",
              "      <td>70700.0</td>\n",
              "      <td>INLAND</td>\n",
              "    </tr>\n",
              "    <tr>\n",
              "      <th>15927</th>\n",
              "      <td>-122.42</td>\n",
              "      <td>37.73</td>\n",
              "      <td>46.0</td>\n",
              "      <td>1819.0</td>\n",
              "      <td>411.0</td>\n",
              "      <td>1534.0</td>\n",
              "      <td>406.0</td>\n",
              "      <td>4.0132</td>\n",
              "      <td>229400.0</td>\n",
              "      <td>NEAR BAY</td>\n",
              "    </tr>\n",
              "    <tr>\n",
              "      <th>82</th>\n",
              "      <td>-122.28</td>\n",
              "      <td>37.81</td>\n",
              "      <td>52.0</td>\n",
              "      <td>340.0</td>\n",
              "      <td>97.0</td>\n",
              "      <td>200.0</td>\n",
              "      <td>87.0</td>\n",
              "      <td>1.5208</td>\n",
              "      <td>112500.0</td>\n",
              "      <td>NEAR BAY</td>\n",
              "    </tr>\n",
              "    <tr>\n",
              "      <th>8161</th>\n",
              "      <td>-118.13</td>\n",
              "      <td>33.82</td>\n",
              "      <td>37.0</td>\n",
              "      <td>1530.0</td>\n",
              "      <td>290.0</td>\n",
              "      <td>711.0</td>\n",
              "      <td>283.0</td>\n",
              "      <td>5.1795</td>\n",
              "      <td>225400.0</td>\n",
              "      <td>&lt;1H OCEAN</td>\n",
              "    </tr>\n",
              "    <tr>\n",
              "      <th>...</th>\n",
              "      <td>...</td>\n",
              "      <td>...</td>\n",
              "      <td>...</td>\n",
              "      <td>...</td>\n",
              "      <td>...</td>\n",
              "      <td>...</td>\n",
              "      <td>...</td>\n",
              "      <td>...</td>\n",
              "      <td>...</td>\n",
              "      <td>...</td>\n",
              "    </tr>\n",
              "    <tr>\n",
              "      <th>10955</th>\n",
              "      <td>-117.88</td>\n",
              "      <td>33.76</td>\n",
              "      <td>17.0</td>\n",
              "      <td>1768.0</td>\n",
              "      <td>474.0</td>\n",
              "      <td>1079.0</td>\n",
              "      <td>436.0</td>\n",
              "      <td>1.7823</td>\n",
              "      <td>205300.0</td>\n",
              "      <td>&lt;1H OCEAN</td>\n",
              "    </tr>\n",
              "    <tr>\n",
              "      <th>17289</th>\n",
              "      <td>-119.63</td>\n",
              "      <td>34.42</td>\n",
              "      <td>42.0</td>\n",
              "      <td>1765.0</td>\n",
              "      <td>263.0</td>\n",
              "      <td>753.0</td>\n",
              "      <td>260.0</td>\n",
              "      <td>8.5608</td>\n",
              "      <td>500001.0</td>\n",
              "      <td>&lt;1H OCEAN</td>\n",
              "    </tr>\n",
              "    <tr>\n",
              "      <th>5192</th>\n",
              "      <td>-118.26</td>\n",
              "      <td>33.93</td>\n",
              "      <td>42.0</td>\n",
              "      <td>1433.0</td>\n",
              "      <td>295.0</td>\n",
              "      <td>775.0</td>\n",
              "      <td>293.0</td>\n",
              "      <td>1.1326</td>\n",
              "      <td>104800.0</td>\n",
              "      <td>&lt;1H OCEAN</td>\n",
              "    </tr>\n",
              "    <tr>\n",
              "      <th>12172</th>\n",
              "      <td>-117.16</td>\n",
              "      <td>33.73</td>\n",
              "      <td>10.0</td>\n",
              "      <td>2381.0</td>\n",
              "      <td>454.0</td>\n",
              "      <td>1323.0</td>\n",
              "      <td>477.0</td>\n",
              "      <td>2.6322</td>\n",
              "      <td>140700.0</td>\n",
              "      <td>INLAND</td>\n",
              "    </tr>\n",
              "    <tr>\n",
              "      <th>235</th>\n",
              "      <td>-122.20</td>\n",
              "      <td>37.79</td>\n",
              "      <td>35.0</td>\n",
              "      <td>1802.0</td>\n",
              "      <td>459.0</td>\n",
              "      <td>1009.0</td>\n",
              "      <td>390.0</td>\n",
              "      <td>2.3036</td>\n",
              "      <td>126000.0</td>\n",
              "      <td>NEAR BAY</td>\n",
              "    </tr>\n",
              "  </tbody>\n",
              "</table>\n",
              "<p>20640 rows × 10 columns</p>\n",
              "</div>\n",
              "      <button class=\"colab-df-convert\" onclick=\"convertToInteractive('df-5ece406b-79a7-4ce2-b996-42b2e69d02ff')\"\n",
              "              title=\"Convert this dataframe to an interactive table.\"\n",
              "              style=\"display:none;\">\n",
              "        \n",
              "  <svg xmlns=\"http://www.w3.org/2000/svg\" height=\"24px\"viewBox=\"0 0 24 24\"\n",
              "       width=\"24px\">\n",
              "    <path d=\"M0 0h24v24H0V0z\" fill=\"none\"/>\n",
              "    <path d=\"M18.56 5.44l.94 2.06.94-2.06 2.06-.94-2.06-.94-.94-2.06-.94 2.06-2.06.94zm-11 1L8.5 8.5l.94-2.06 2.06-.94-2.06-.94L8.5 2.5l-.94 2.06-2.06.94zm10 10l.94 2.06.94-2.06 2.06-.94-2.06-.94-.94-2.06-.94 2.06-2.06.94z\"/><path d=\"M17.41 7.96l-1.37-1.37c-.4-.4-.92-.59-1.43-.59-.52 0-1.04.2-1.43.59L10.3 9.45l-7.72 7.72c-.78.78-.78 2.05 0 2.83L4 21.41c.39.39.9.59 1.41.59.51 0 1.02-.2 1.41-.59l7.78-7.78 2.81-2.81c.8-.78.8-2.07 0-2.86zM5.41 20L4 18.59l7.72-7.72 1.47 1.35L5.41 20z\"/>\n",
              "  </svg>\n",
              "      </button>\n",
              "      \n",
              "  <style>\n",
              "    .colab-df-container {\n",
              "      display:flex;\n",
              "      flex-wrap:wrap;\n",
              "      gap: 12px;\n",
              "    }\n",
              "\n",
              "    .colab-df-convert {\n",
              "      background-color: #E8F0FE;\n",
              "      border: none;\n",
              "      border-radius: 50%;\n",
              "      cursor: pointer;\n",
              "      display: none;\n",
              "      fill: #1967D2;\n",
              "      height: 32px;\n",
              "      padding: 0 0 0 0;\n",
              "      width: 32px;\n",
              "    }\n",
              "\n",
              "    .colab-df-convert:hover {\n",
              "      background-color: #E2EBFA;\n",
              "      box-shadow: 0px 1px 2px rgba(60, 64, 67, 0.3), 0px 1px 3px 1px rgba(60, 64, 67, 0.15);\n",
              "      fill: #174EA6;\n",
              "    }\n",
              "\n",
              "    [theme=dark] .colab-df-convert {\n",
              "      background-color: #3B4455;\n",
              "      fill: #D2E3FC;\n",
              "    }\n",
              "\n",
              "    [theme=dark] .colab-df-convert:hover {\n",
              "      background-color: #434B5C;\n",
              "      box-shadow: 0px 1px 3px 1px rgba(0, 0, 0, 0.15);\n",
              "      filter: drop-shadow(0px 1px 2px rgba(0, 0, 0, 0.3));\n",
              "      fill: #FFFFFF;\n",
              "    }\n",
              "  </style>\n",
              "\n",
              "      <script>\n",
              "        const buttonEl =\n",
              "          document.querySelector('#df-5ece406b-79a7-4ce2-b996-42b2e69d02ff button.colab-df-convert');\n",
              "        buttonEl.style.display =\n",
              "          google.colab.kernel.accessAllowed ? 'block' : 'none';\n",
              "\n",
              "        async function convertToInteractive(key) {\n",
              "          const element = document.querySelector('#df-5ece406b-79a7-4ce2-b996-42b2e69d02ff');\n",
              "          const dataTable =\n",
              "            await google.colab.kernel.invokeFunction('convertToInteractive',\n",
              "                                                     [key], {});\n",
              "          if (!dataTable) return;\n",
              "\n",
              "          const docLinkHtml = 'Like what you see? Visit the ' +\n",
              "            '<a target=\"_blank\" href=https://colab.research.google.com/notebooks/data_table.ipynb>data table notebook</a>'\n",
              "            + ' to learn more about interactive tables.';\n",
              "          element.innerHTML = '';\n",
              "          dataTable['output_type'] = 'display_data';\n",
              "          await google.colab.output.renderOutput(dataTable, element);\n",
              "          const docLink = document.createElement('div');\n",
              "          docLink.innerHTML = docLinkHtml;\n",
              "          element.appendChild(docLink);\n",
              "        }\n",
              "      </script>\n",
              "    </div>\n",
              "  </div>\n",
              "  "
            ]
          },
          "metadata": {},
          "execution_count": 30
        }
      ]
    },
    {
      "cell_type": "code",
      "source": [
        "pd.get_dummies(df_shuffled['ocean_proximity']).head()"
      ],
      "metadata": {
        "colab": {
          "base_uri": "https://localhost:8080/",
          "height": 206
        },
        "id": "RQbsosB9y-am",
        "outputId": "22310efc-7505-49c4-eca3-1b9427a90dee"
      },
      "execution_count": 31,
      "outputs": [
        {
          "output_type": "execute_result",
          "data": {
            "text/plain": [
              "       <1H OCEAN  INLAND  ISLAND  NEAR BAY  NEAR OCEAN\n",
              "4712           1       0       0         0           0\n",
              "2151           0       1       0         0           0\n",
              "15927          0       0       0         1           0\n",
              "82             0       0       0         1           0\n",
              "8161           1       0       0         0           0"
            ],
            "text/html": [
              "\n",
              "  <div id=\"df-9848d9dc-f3c4-4f6c-800f-13ba9e75bb7c\">\n",
              "    <div class=\"colab-df-container\">\n",
              "      <div>\n",
              "<style scoped>\n",
              "    .dataframe tbody tr th:only-of-type {\n",
              "        vertical-align: middle;\n",
              "    }\n",
              "\n",
              "    .dataframe tbody tr th {\n",
              "        vertical-align: top;\n",
              "    }\n",
              "\n",
              "    .dataframe thead th {\n",
              "        text-align: right;\n",
              "    }\n",
              "</style>\n",
              "<table border=\"1\" class=\"dataframe\">\n",
              "  <thead>\n",
              "    <tr style=\"text-align: right;\">\n",
              "      <th></th>\n",
              "      <th>&lt;1H OCEAN</th>\n",
              "      <th>INLAND</th>\n",
              "      <th>ISLAND</th>\n",
              "      <th>NEAR BAY</th>\n",
              "      <th>NEAR OCEAN</th>\n",
              "    </tr>\n",
              "  </thead>\n",
              "  <tbody>\n",
              "    <tr>\n",
              "      <th>4712</th>\n",
              "      <td>1</td>\n",
              "      <td>0</td>\n",
              "      <td>0</td>\n",
              "      <td>0</td>\n",
              "      <td>0</td>\n",
              "    </tr>\n",
              "    <tr>\n",
              "      <th>2151</th>\n",
              "      <td>0</td>\n",
              "      <td>1</td>\n",
              "      <td>0</td>\n",
              "      <td>0</td>\n",
              "      <td>0</td>\n",
              "    </tr>\n",
              "    <tr>\n",
              "      <th>15927</th>\n",
              "      <td>0</td>\n",
              "      <td>0</td>\n",
              "      <td>0</td>\n",
              "      <td>1</td>\n",
              "      <td>0</td>\n",
              "    </tr>\n",
              "    <tr>\n",
              "      <th>82</th>\n",
              "      <td>0</td>\n",
              "      <td>0</td>\n",
              "      <td>0</td>\n",
              "      <td>1</td>\n",
              "      <td>0</td>\n",
              "    </tr>\n",
              "    <tr>\n",
              "      <th>8161</th>\n",
              "      <td>1</td>\n",
              "      <td>0</td>\n",
              "      <td>0</td>\n",
              "      <td>0</td>\n",
              "      <td>0</td>\n",
              "    </tr>\n",
              "  </tbody>\n",
              "</table>\n",
              "</div>\n",
              "      <button class=\"colab-df-convert\" onclick=\"convertToInteractive('df-9848d9dc-f3c4-4f6c-800f-13ba9e75bb7c')\"\n",
              "              title=\"Convert this dataframe to an interactive table.\"\n",
              "              style=\"display:none;\">\n",
              "        \n",
              "  <svg xmlns=\"http://www.w3.org/2000/svg\" height=\"24px\"viewBox=\"0 0 24 24\"\n",
              "       width=\"24px\">\n",
              "    <path d=\"M0 0h24v24H0V0z\" fill=\"none\"/>\n",
              "    <path d=\"M18.56 5.44l.94 2.06.94-2.06 2.06-.94-2.06-.94-.94-2.06-.94 2.06-2.06.94zm-11 1L8.5 8.5l.94-2.06 2.06-.94-2.06-.94L8.5 2.5l-.94 2.06-2.06.94zm10 10l.94 2.06.94-2.06 2.06-.94-2.06-.94-.94-2.06-.94 2.06-2.06.94z\"/><path d=\"M17.41 7.96l-1.37-1.37c-.4-.4-.92-.59-1.43-.59-.52 0-1.04.2-1.43.59L10.3 9.45l-7.72 7.72c-.78.78-.78 2.05 0 2.83L4 21.41c.39.39.9.59 1.41.59.51 0 1.02-.2 1.41-.59l7.78-7.78 2.81-2.81c.8-.78.8-2.07 0-2.86zM5.41 20L4 18.59l7.72-7.72 1.47 1.35L5.41 20z\"/>\n",
              "  </svg>\n",
              "      </button>\n",
              "      \n",
              "  <style>\n",
              "    .colab-df-container {\n",
              "      display:flex;\n",
              "      flex-wrap:wrap;\n",
              "      gap: 12px;\n",
              "    }\n",
              "\n",
              "    .colab-df-convert {\n",
              "      background-color: #E8F0FE;\n",
              "      border: none;\n",
              "      border-radius: 50%;\n",
              "      cursor: pointer;\n",
              "      display: none;\n",
              "      fill: #1967D2;\n",
              "      height: 32px;\n",
              "      padding: 0 0 0 0;\n",
              "      width: 32px;\n",
              "    }\n",
              "\n",
              "    .colab-df-convert:hover {\n",
              "      background-color: #E2EBFA;\n",
              "      box-shadow: 0px 1px 2px rgba(60, 64, 67, 0.3), 0px 1px 3px 1px rgba(60, 64, 67, 0.15);\n",
              "      fill: #174EA6;\n",
              "    }\n",
              "\n",
              "    [theme=dark] .colab-df-convert {\n",
              "      background-color: #3B4455;\n",
              "      fill: #D2E3FC;\n",
              "    }\n",
              "\n",
              "    [theme=dark] .colab-df-convert:hover {\n",
              "      background-color: #434B5C;\n",
              "      box-shadow: 0px 1px 3px 1px rgba(0, 0, 0, 0.15);\n",
              "      filter: drop-shadow(0px 1px 2px rgba(0, 0, 0, 0.3));\n",
              "      fill: #FFFFFF;\n",
              "    }\n",
              "  </style>\n",
              "\n",
              "      <script>\n",
              "        const buttonEl =\n",
              "          document.querySelector('#df-9848d9dc-f3c4-4f6c-800f-13ba9e75bb7c button.colab-df-convert');\n",
              "        buttonEl.style.display =\n",
              "          google.colab.kernel.accessAllowed ? 'block' : 'none';\n",
              "\n",
              "        async function convertToInteractive(key) {\n",
              "          const element = document.querySelector('#df-9848d9dc-f3c4-4f6c-800f-13ba9e75bb7c');\n",
              "          const dataTable =\n",
              "            await google.colab.kernel.invokeFunction('convertToInteractive',\n",
              "                                                     [key], {});\n",
              "          if (!dataTable) return;\n",
              "\n",
              "          const docLinkHtml = 'Like what you see? Visit the ' +\n",
              "            '<a target=\"_blank\" href=https://colab.research.google.com/notebooks/data_table.ipynb>data table notebook</a>'\n",
              "            + ' to learn more about interactive tables.';\n",
              "          element.innerHTML = '';\n",
              "          dataTable['output_type'] = 'display_data';\n",
              "          await google.colab.output.renderOutput(dataTable, element);\n",
              "          const docLink = document.createElement('div');\n",
              "          docLink.innerHTML = docLinkHtml;\n",
              "          element.appendChild(docLink);\n",
              "        }\n",
              "      </script>\n",
              "    </div>\n",
              "  </div>\n",
              "  "
            ]
          },
          "metadata": {},
          "execution_count": 31
        }
      ]
    },
    {
      "cell_type": "code",
      "source": [
        "df_shuffled.drop('ocean_proximity', axis=1).head()"
      ],
      "metadata": {
        "colab": {
          "base_uri": "https://localhost:8080/",
          "height": 270
        },
        "id": "xXg0fPRxNhTp",
        "outputId": "e9a290b4-8d29-4d09-cebe-ec191fa22ec4"
      },
      "execution_count": 32,
      "outputs": [
        {
          "output_type": "execute_result",
          "data": {
            "text/plain": [
              "       longitude  latitude  housing_median_age  total_rooms  total_bedrooms  \\\n",
              "4712     -118.36     34.06                39.0       2810.0           670.0   \n",
              "2151     -119.78     36.78                37.0       2185.0           455.0   \n",
              "15927    -122.42     37.73                46.0       1819.0           411.0   \n",
              "82       -122.28     37.81                52.0        340.0            97.0   \n",
              "8161     -118.13     33.82                37.0       1530.0           290.0   \n",
              "\n",
              "       population  households  median_income  median_house_value  \n",
              "4712       1109.0       624.0         3.2500            355000.0  \n",
              "2151       1143.0       438.0         1.9784             70700.0  \n",
              "15927      1534.0       406.0         4.0132            229400.0  \n",
              "82          200.0        87.0         1.5208            112500.0  \n",
              "8161        711.0       283.0         5.1795            225400.0  "
            ],
            "text/html": [
              "\n",
              "  <div id=\"df-f34a094f-1bc7-4578-8253-7042b9c8ac59\">\n",
              "    <div class=\"colab-df-container\">\n",
              "      <div>\n",
              "<style scoped>\n",
              "    .dataframe tbody tr th:only-of-type {\n",
              "        vertical-align: middle;\n",
              "    }\n",
              "\n",
              "    .dataframe tbody tr th {\n",
              "        vertical-align: top;\n",
              "    }\n",
              "\n",
              "    .dataframe thead th {\n",
              "        text-align: right;\n",
              "    }\n",
              "</style>\n",
              "<table border=\"1\" class=\"dataframe\">\n",
              "  <thead>\n",
              "    <tr style=\"text-align: right;\">\n",
              "      <th></th>\n",
              "      <th>longitude</th>\n",
              "      <th>latitude</th>\n",
              "      <th>housing_median_age</th>\n",
              "      <th>total_rooms</th>\n",
              "      <th>total_bedrooms</th>\n",
              "      <th>population</th>\n",
              "      <th>households</th>\n",
              "      <th>median_income</th>\n",
              "      <th>median_house_value</th>\n",
              "    </tr>\n",
              "  </thead>\n",
              "  <tbody>\n",
              "    <tr>\n",
              "      <th>4712</th>\n",
              "      <td>-118.36</td>\n",
              "      <td>34.06</td>\n",
              "      <td>39.0</td>\n",
              "      <td>2810.0</td>\n",
              "      <td>670.0</td>\n",
              "      <td>1109.0</td>\n",
              "      <td>624.0</td>\n",
              "      <td>3.2500</td>\n",
              "      <td>355000.0</td>\n",
              "    </tr>\n",
              "    <tr>\n",
              "      <th>2151</th>\n",
              "      <td>-119.78</td>\n",
              "      <td>36.78</td>\n",
              "      <td>37.0</td>\n",
              "      <td>2185.0</td>\n",
              "      <td>455.0</td>\n",
              "      <td>1143.0</td>\n",
              "      <td>438.0</td>\n",
              "      <td>1.9784</td>\n",
              "      <td>70700.0</td>\n",
              "    </tr>\n",
              "    <tr>\n",
              "      <th>15927</th>\n",
              "      <td>-122.42</td>\n",
              "      <td>37.73</td>\n",
              "      <td>46.0</td>\n",
              "      <td>1819.0</td>\n",
              "      <td>411.0</td>\n",
              "      <td>1534.0</td>\n",
              "      <td>406.0</td>\n",
              "      <td>4.0132</td>\n",
              "      <td>229400.0</td>\n",
              "    </tr>\n",
              "    <tr>\n",
              "      <th>82</th>\n",
              "      <td>-122.28</td>\n",
              "      <td>37.81</td>\n",
              "      <td>52.0</td>\n",
              "      <td>340.0</td>\n",
              "      <td>97.0</td>\n",
              "      <td>200.0</td>\n",
              "      <td>87.0</td>\n",
              "      <td>1.5208</td>\n",
              "      <td>112500.0</td>\n",
              "    </tr>\n",
              "    <tr>\n",
              "      <th>8161</th>\n",
              "      <td>-118.13</td>\n",
              "      <td>33.82</td>\n",
              "      <td>37.0</td>\n",
              "      <td>1530.0</td>\n",
              "      <td>290.0</td>\n",
              "      <td>711.0</td>\n",
              "      <td>283.0</td>\n",
              "      <td>5.1795</td>\n",
              "      <td>225400.0</td>\n",
              "    </tr>\n",
              "  </tbody>\n",
              "</table>\n",
              "</div>\n",
              "      <button class=\"colab-df-convert\" onclick=\"convertToInteractive('df-f34a094f-1bc7-4578-8253-7042b9c8ac59')\"\n",
              "              title=\"Convert this dataframe to an interactive table.\"\n",
              "              style=\"display:none;\">\n",
              "        \n",
              "  <svg xmlns=\"http://www.w3.org/2000/svg\" height=\"24px\"viewBox=\"0 0 24 24\"\n",
              "       width=\"24px\">\n",
              "    <path d=\"M0 0h24v24H0V0z\" fill=\"none\"/>\n",
              "    <path d=\"M18.56 5.44l.94 2.06.94-2.06 2.06-.94-2.06-.94-.94-2.06-.94 2.06-2.06.94zm-11 1L8.5 8.5l.94-2.06 2.06-.94-2.06-.94L8.5 2.5l-.94 2.06-2.06.94zm10 10l.94 2.06.94-2.06 2.06-.94-2.06-.94-.94-2.06-.94 2.06-2.06.94z\"/><path d=\"M17.41 7.96l-1.37-1.37c-.4-.4-.92-.59-1.43-.59-.52 0-1.04.2-1.43.59L10.3 9.45l-7.72 7.72c-.78.78-.78 2.05 0 2.83L4 21.41c.39.39.9.59 1.41.59.51 0 1.02-.2 1.41-.59l7.78-7.78 2.81-2.81c.8-.78.8-2.07 0-2.86zM5.41 20L4 18.59l7.72-7.72 1.47 1.35L5.41 20z\"/>\n",
              "  </svg>\n",
              "      </button>\n",
              "      \n",
              "  <style>\n",
              "    .colab-df-container {\n",
              "      display:flex;\n",
              "      flex-wrap:wrap;\n",
              "      gap: 12px;\n",
              "    }\n",
              "\n",
              "    .colab-df-convert {\n",
              "      background-color: #E8F0FE;\n",
              "      border: none;\n",
              "      border-radius: 50%;\n",
              "      cursor: pointer;\n",
              "      display: none;\n",
              "      fill: #1967D2;\n",
              "      height: 32px;\n",
              "      padding: 0 0 0 0;\n",
              "      width: 32px;\n",
              "    }\n",
              "\n",
              "    .colab-df-convert:hover {\n",
              "      background-color: #E2EBFA;\n",
              "      box-shadow: 0px 1px 2px rgba(60, 64, 67, 0.3), 0px 1px 3px 1px rgba(60, 64, 67, 0.15);\n",
              "      fill: #174EA6;\n",
              "    }\n",
              "\n",
              "    [theme=dark] .colab-df-convert {\n",
              "      background-color: #3B4455;\n",
              "      fill: #D2E3FC;\n",
              "    }\n",
              "\n",
              "    [theme=dark] .colab-df-convert:hover {\n",
              "      background-color: #434B5C;\n",
              "      box-shadow: 0px 1px 3px 1px rgba(0, 0, 0, 0.15);\n",
              "      filter: drop-shadow(0px 1px 2px rgba(0, 0, 0, 0.3));\n",
              "      fill: #FFFFFF;\n",
              "    }\n",
              "  </style>\n",
              "\n",
              "      <script>\n",
              "        const buttonEl =\n",
              "          document.querySelector('#df-f34a094f-1bc7-4578-8253-7042b9c8ac59 button.colab-df-convert');\n",
              "        buttonEl.style.display =\n",
              "          google.colab.kernel.accessAllowed ? 'block' : 'none';\n",
              "\n",
              "        async function convertToInteractive(key) {\n",
              "          const element = document.querySelector('#df-f34a094f-1bc7-4578-8253-7042b9c8ac59');\n",
              "          const dataTable =\n",
              "            await google.colab.kernel.invokeFunction('convertToInteractive',\n",
              "                                                     [key], {});\n",
              "          if (!dataTable) return;\n",
              "\n",
              "          const docLinkHtml = 'Like what you see? Visit the ' +\n",
              "            '<a target=\"_blank\" href=https://colab.research.google.com/notebooks/data_table.ipynb>data table notebook</a>'\n",
              "            + ' to learn more about interactive tables.';\n",
              "          element.innerHTML = '';\n",
              "          dataTable['output_type'] = 'display_data';\n",
              "          await google.colab.output.renderOutput(dataTable, element);\n",
              "          const docLink = document.createElement('div');\n",
              "          docLink.innerHTML = docLinkHtml;\n",
              "          element.appendChild(docLink);\n",
              "        }\n",
              "      </script>\n",
              "    </div>\n",
              "  </div>\n",
              "  "
            ]
          },
          "metadata": {},
          "execution_count": 32
        }
      ]
    },
    {
      "cell_type": "code",
      "source": [
        "df_final = pd.concat([df_shuffled.drop('ocean_proximity', axis=1),\n",
        "                     pd.get_dummies(df_shuffled['ocean_proximity'])],axis=1)\n",
        "df_final"
      ],
      "metadata": {
        "colab": {
          "base_uri": "https://localhost:8080/",
          "height": 505
        },
        "id": "IW8XPhb3OM8J",
        "outputId": "52f9dae3-39bb-4328-8058-a893600122f1"
      },
      "execution_count": 33,
      "outputs": [
        {
          "output_type": "execute_result",
          "data": {
            "text/plain": [
              "       longitude  latitude  housing_median_age  total_rooms  total_bedrooms  \\\n",
              "4712     -118.36     34.06                39.0       2810.0           670.0   \n",
              "2151     -119.78     36.78                37.0       2185.0           455.0   \n",
              "15927    -122.42     37.73                46.0       1819.0           411.0   \n",
              "82       -122.28     37.81                52.0        340.0            97.0   \n",
              "8161     -118.13     33.82                37.0       1530.0           290.0   \n",
              "...          ...       ...                 ...          ...             ...   \n",
              "10955    -117.88     33.76                17.0       1768.0           474.0   \n",
              "17289    -119.63     34.42                42.0       1765.0           263.0   \n",
              "5192     -118.26     33.93                42.0       1433.0           295.0   \n",
              "12172    -117.16     33.73                10.0       2381.0           454.0   \n",
              "235      -122.20     37.79                35.0       1802.0           459.0   \n",
              "\n",
              "       population  households  median_income  median_house_value  <1H OCEAN  \\\n",
              "4712       1109.0       624.0         3.2500            355000.0          1   \n",
              "2151       1143.0       438.0         1.9784             70700.0          0   \n",
              "15927      1534.0       406.0         4.0132            229400.0          0   \n",
              "82          200.0        87.0         1.5208            112500.0          0   \n",
              "8161        711.0       283.0         5.1795            225400.0          1   \n",
              "...           ...         ...            ...                 ...        ...   \n",
              "10955      1079.0       436.0         1.7823            205300.0          1   \n",
              "17289       753.0       260.0         8.5608            500001.0          1   \n",
              "5192        775.0       293.0         1.1326            104800.0          1   \n",
              "12172      1323.0       477.0         2.6322            140700.0          0   \n",
              "235        1009.0       390.0         2.3036            126000.0          0   \n",
              "\n",
              "       INLAND  ISLAND  NEAR BAY  NEAR OCEAN  \n",
              "4712        0       0         0           0  \n",
              "2151        1       0         0           0  \n",
              "15927       0       0         1           0  \n",
              "82          0       0         1           0  \n",
              "8161        0       0         0           0  \n",
              "...       ...     ...       ...         ...  \n",
              "10955       0       0         0           0  \n",
              "17289       0       0         0           0  \n",
              "5192        0       0         0           0  \n",
              "12172       1       0         0           0  \n",
              "235         0       0         1           0  \n",
              "\n",
              "[20640 rows x 14 columns]"
            ],
            "text/html": [
              "\n",
              "  <div id=\"df-b359cacb-9c83-47de-9147-d3fe3b8868f7\">\n",
              "    <div class=\"colab-df-container\">\n",
              "      <div>\n",
              "<style scoped>\n",
              "    .dataframe tbody tr th:only-of-type {\n",
              "        vertical-align: middle;\n",
              "    }\n",
              "\n",
              "    .dataframe tbody tr th {\n",
              "        vertical-align: top;\n",
              "    }\n",
              "\n",
              "    .dataframe thead th {\n",
              "        text-align: right;\n",
              "    }\n",
              "</style>\n",
              "<table border=\"1\" class=\"dataframe\">\n",
              "  <thead>\n",
              "    <tr style=\"text-align: right;\">\n",
              "      <th></th>\n",
              "      <th>longitude</th>\n",
              "      <th>latitude</th>\n",
              "      <th>housing_median_age</th>\n",
              "      <th>total_rooms</th>\n",
              "      <th>total_bedrooms</th>\n",
              "      <th>population</th>\n",
              "      <th>households</th>\n",
              "      <th>median_income</th>\n",
              "      <th>median_house_value</th>\n",
              "      <th>&lt;1H OCEAN</th>\n",
              "      <th>INLAND</th>\n",
              "      <th>ISLAND</th>\n",
              "      <th>NEAR BAY</th>\n",
              "      <th>NEAR OCEAN</th>\n",
              "    </tr>\n",
              "  </thead>\n",
              "  <tbody>\n",
              "    <tr>\n",
              "      <th>4712</th>\n",
              "      <td>-118.36</td>\n",
              "      <td>34.06</td>\n",
              "      <td>39.0</td>\n",
              "      <td>2810.0</td>\n",
              "      <td>670.0</td>\n",
              "      <td>1109.0</td>\n",
              "      <td>624.0</td>\n",
              "      <td>3.2500</td>\n",
              "      <td>355000.0</td>\n",
              "      <td>1</td>\n",
              "      <td>0</td>\n",
              "      <td>0</td>\n",
              "      <td>0</td>\n",
              "      <td>0</td>\n",
              "    </tr>\n",
              "    <tr>\n",
              "      <th>2151</th>\n",
              "      <td>-119.78</td>\n",
              "      <td>36.78</td>\n",
              "      <td>37.0</td>\n",
              "      <td>2185.0</td>\n",
              "      <td>455.0</td>\n",
              "      <td>1143.0</td>\n",
              "      <td>438.0</td>\n",
              "      <td>1.9784</td>\n",
              "      <td>70700.0</td>\n",
              "      <td>0</td>\n",
              "      <td>1</td>\n",
              "      <td>0</td>\n",
              "      <td>0</td>\n",
              "      <td>0</td>\n",
              "    </tr>\n",
              "    <tr>\n",
              "      <th>15927</th>\n",
              "      <td>-122.42</td>\n",
              "      <td>37.73</td>\n",
              "      <td>46.0</td>\n",
              "      <td>1819.0</td>\n",
              "      <td>411.0</td>\n",
              "      <td>1534.0</td>\n",
              "      <td>406.0</td>\n",
              "      <td>4.0132</td>\n",
              "      <td>229400.0</td>\n",
              "      <td>0</td>\n",
              "      <td>0</td>\n",
              "      <td>0</td>\n",
              "      <td>1</td>\n",
              "      <td>0</td>\n",
              "    </tr>\n",
              "    <tr>\n",
              "      <th>82</th>\n",
              "      <td>-122.28</td>\n",
              "      <td>37.81</td>\n",
              "      <td>52.0</td>\n",
              "      <td>340.0</td>\n",
              "      <td>97.0</td>\n",
              "      <td>200.0</td>\n",
              "      <td>87.0</td>\n",
              "      <td>1.5208</td>\n",
              "      <td>112500.0</td>\n",
              "      <td>0</td>\n",
              "      <td>0</td>\n",
              "      <td>0</td>\n",
              "      <td>1</td>\n",
              "      <td>0</td>\n",
              "    </tr>\n",
              "    <tr>\n",
              "      <th>8161</th>\n",
              "      <td>-118.13</td>\n",
              "      <td>33.82</td>\n",
              "      <td>37.0</td>\n",
              "      <td>1530.0</td>\n",
              "      <td>290.0</td>\n",
              "      <td>711.0</td>\n",
              "      <td>283.0</td>\n",
              "      <td>5.1795</td>\n",
              "      <td>225400.0</td>\n",
              "      <td>1</td>\n",
              "      <td>0</td>\n",
              "      <td>0</td>\n",
              "      <td>0</td>\n",
              "      <td>0</td>\n",
              "    </tr>\n",
              "    <tr>\n",
              "      <th>...</th>\n",
              "      <td>...</td>\n",
              "      <td>...</td>\n",
              "      <td>...</td>\n",
              "      <td>...</td>\n",
              "      <td>...</td>\n",
              "      <td>...</td>\n",
              "      <td>...</td>\n",
              "      <td>...</td>\n",
              "      <td>...</td>\n",
              "      <td>...</td>\n",
              "      <td>...</td>\n",
              "      <td>...</td>\n",
              "      <td>...</td>\n",
              "      <td>...</td>\n",
              "    </tr>\n",
              "    <tr>\n",
              "      <th>10955</th>\n",
              "      <td>-117.88</td>\n",
              "      <td>33.76</td>\n",
              "      <td>17.0</td>\n",
              "      <td>1768.0</td>\n",
              "      <td>474.0</td>\n",
              "      <td>1079.0</td>\n",
              "      <td>436.0</td>\n",
              "      <td>1.7823</td>\n",
              "      <td>205300.0</td>\n",
              "      <td>1</td>\n",
              "      <td>0</td>\n",
              "      <td>0</td>\n",
              "      <td>0</td>\n",
              "      <td>0</td>\n",
              "    </tr>\n",
              "    <tr>\n",
              "      <th>17289</th>\n",
              "      <td>-119.63</td>\n",
              "      <td>34.42</td>\n",
              "      <td>42.0</td>\n",
              "      <td>1765.0</td>\n",
              "      <td>263.0</td>\n",
              "      <td>753.0</td>\n",
              "      <td>260.0</td>\n",
              "      <td>8.5608</td>\n",
              "      <td>500001.0</td>\n",
              "      <td>1</td>\n",
              "      <td>0</td>\n",
              "      <td>0</td>\n",
              "      <td>0</td>\n",
              "      <td>0</td>\n",
              "    </tr>\n",
              "    <tr>\n",
              "      <th>5192</th>\n",
              "      <td>-118.26</td>\n",
              "      <td>33.93</td>\n",
              "      <td>42.0</td>\n",
              "      <td>1433.0</td>\n",
              "      <td>295.0</td>\n",
              "      <td>775.0</td>\n",
              "      <td>293.0</td>\n",
              "      <td>1.1326</td>\n",
              "      <td>104800.0</td>\n",
              "      <td>1</td>\n",
              "      <td>0</td>\n",
              "      <td>0</td>\n",
              "      <td>0</td>\n",
              "      <td>0</td>\n",
              "    </tr>\n",
              "    <tr>\n",
              "      <th>12172</th>\n",
              "      <td>-117.16</td>\n",
              "      <td>33.73</td>\n",
              "      <td>10.0</td>\n",
              "      <td>2381.0</td>\n",
              "      <td>454.0</td>\n",
              "      <td>1323.0</td>\n",
              "      <td>477.0</td>\n",
              "      <td>2.6322</td>\n",
              "      <td>140700.0</td>\n",
              "      <td>0</td>\n",
              "      <td>1</td>\n",
              "      <td>0</td>\n",
              "      <td>0</td>\n",
              "      <td>0</td>\n",
              "    </tr>\n",
              "    <tr>\n",
              "      <th>235</th>\n",
              "      <td>-122.20</td>\n",
              "      <td>37.79</td>\n",
              "      <td>35.0</td>\n",
              "      <td>1802.0</td>\n",
              "      <td>459.0</td>\n",
              "      <td>1009.0</td>\n",
              "      <td>390.0</td>\n",
              "      <td>2.3036</td>\n",
              "      <td>126000.0</td>\n",
              "      <td>0</td>\n",
              "      <td>0</td>\n",
              "      <td>0</td>\n",
              "      <td>1</td>\n",
              "      <td>0</td>\n",
              "    </tr>\n",
              "  </tbody>\n",
              "</table>\n",
              "<p>20640 rows × 14 columns</p>\n",
              "</div>\n",
              "      <button class=\"colab-df-convert\" onclick=\"convertToInteractive('df-b359cacb-9c83-47de-9147-d3fe3b8868f7')\"\n",
              "              title=\"Convert this dataframe to an interactive table.\"\n",
              "              style=\"display:none;\">\n",
              "        \n",
              "  <svg xmlns=\"http://www.w3.org/2000/svg\" height=\"24px\"viewBox=\"0 0 24 24\"\n",
              "       width=\"24px\">\n",
              "    <path d=\"M0 0h24v24H0V0z\" fill=\"none\"/>\n",
              "    <path d=\"M18.56 5.44l.94 2.06.94-2.06 2.06-.94-2.06-.94-.94-2.06-.94 2.06-2.06.94zm-11 1L8.5 8.5l.94-2.06 2.06-.94-2.06-.94L8.5 2.5l-.94 2.06-2.06.94zm10 10l.94 2.06.94-2.06 2.06-.94-2.06-.94-.94-2.06-.94 2.06-2.06.94z\"/><path d=\"M17.41 7.96l-1.37-1.37c-.4-.4-.92-.59-1.43-.59-.52 0-1.04.2-1.43.59L10.3 9.45l-7.72 7.72c-.78.78-.78 2.05 0 2.83L4 21.41c.39.39.9.59 1.41.59.51 0 1.02-.2 1.41-.59l7.78-7.78 2.81-2.81c.8-.78.8-2.07 0-2.86zM5.41 20L4 18.59l7.72-7.72 1.47 1.35L5.41 20z\"/>\n",
              "  </svg>\n",
              "      </button>\n",
              "      \n",
              "  <style>\n",
              "    .colab-df-container {\n",
              "      display:flex;\n",
              "      flex-wrap:wrap;\n",
              "      gap: 12px;\n",
              "    }\n",
              "\n",
              "    .colab-df-convert {\n",
              "      background-color: #E8F0FE;\n",
              "      border: none;\n",
              "      border-radius: 50%;\n",
              "      cursor: pointer;\n",
              "      display: none;\n",
              "      fill: #1967D2;\n",
              "      height: 32px;\n",
              "      padding: 0 0 0 0;\n",
              "      width: 32px;\n",
              "    }\n",
              "\n",
              "    .colab-df-convert:hover {\n",
              "      background-color: #E2EBFA;\n",
              "      box-shadow: 0px 1px 2px rgba(60, 64, 67, 0.3), 0px 1px 3px 1px rgba(60, 64, 67, 0.15);\n",
              "      fill: #174EA6;\n",
              "    }\n",
              "\n",
              "    [theme=dark] .colab-df-convert {\n",
              "      background-color: #3B4455;\n",
              "      fill: #D2E3FC;\n",
              "    }\n",
              "\n",
              "    [theme=dark] .colab-df-convert:hover {\n",
              "      background-color: #434B5C;\n",
              "      box-shadow: 0px 1px 3px 1px rgba(0, 0, 0, 0.15);\n",
              "      filter: drop-shadow(0px 1px 2px rgba(0, 0, 0, 0.3));\n",
              "      fill: #FFFFFF;\n",
              "    }\n",
              "  </style>\n",
              "\n",
              "      <script>\n",
              "        const buttonEl =\n",
              "          document.querySelector('#df-b359cacb-9c83-47de-9147-d3fe3b8868f7 button.colab-df-convert');\n",
              "        buttonEl.style.display =\n",
              "          google.colab.kernel.accessAllowed ? 'block' : 'none';\n",
              "\n",
              "        async function convertToInteractive(key) {\n",
              "          const element = document.querySelector('#df-b359cacb-9c83-47de-9147-d3fe3b8868f7');\n",
              "          const dataTable =\n",
              "            await google.colab.kernel.invokeFunction('convertToInteractive',\n",
              "                                                     [key], {});\n",
              "          if (!dataTable) return;\n",
              "\n",
              "          const docLinkHtml = 'Like what you see? Visit the ' +\n",
              "            '<a target=\"_blank\" href=https://colab.research.google.com/notebooks/data_table.ipynb>data table notebook</a>'\n",
              "            + ' to learn more about interactive tables.';\n",
              "          element.innerHTML = '';\n",
              "          dataTable['output_type'] = 'display_data';\n",
              "          await google.colab.output.renderOutput(dataTable, element);\n",
              "          const docLink = document.createElement('div');\n",
              "          docLink.innerHTML = docLinkHtml;\n",
              "          element.appendChild(docLink);\n",
              "        }\n",
              "      </script>\n",
              "    </div>\n",
              "  </div>\n",
              "  "
            ]
          },
          "metadata": {},
          "execution_count": 33
        }
      ]
    },
    {
      "cell_type": "code",
      "source": [
        "df_final = df_final[['longitude',\t'latitude',\t\n",
        "                                     'housing_median_age',\t'total_rooms',\t\n",
        "                                     'total_bedrooms',\t'population',\t\n",
        "                                     'households',\t'median_income',\t\n",
        "                                     '<1H OCEAN',\t\n",
        "                                     'INLAND',\t'ISLAND',\t\n",
        "                                     'NEAR BAY',\t'NEAR OCEAN', 'median_house_value']]\n",
        "df_final"
      ],
      "metadata": {
        "colab": {
          "base_uri": "https://localhost:8080/",
          "height": 505
        },
        "id": "Q0h32wCGO7pm",
        "outputId": "684fbf36-ba29-43ec-ab44-812bad35b931"
      },
      "execution_count": 34,
      "outputs": [
        {
          "output_type": "execute_result",
          "data": {
            "text/plain": [
              "       longitude  latitude  housing_median_age  total_rooms  total_bedrooms  \\\n",
              "4712     -118.36     34.06                39.0       2810.0           670.0   \n",
              "2151     -119.78     36.78                37.0       2185.0           455.0   \n",
              "15927    -122.42     37.73                46.0       1819.0           411.0   \n",
              "82       -122.28     37.81                52.0        340.0            97.0   \n",
              "8161     -118.13     33.82                37.0       1530.0           290.0   \n",
              "...          ...       ...                 ...          ...             ...   \n",
              "10955    -117.88     33.76                17.0       1768.0           474.0   \n",
              "17289    -119.63     34.42                42.0       1765.0           263.0   \n",
              "5192     -118.26     33.93                42.0       1433.0           295.0   \n",
              "12172    -117.16     33.73                10.0       2381.0           454.0   \n",
              "235      -122.20     37.79                35.0       1802.0           459.0   \n",
              "\n",
              "       population  households  median_income  <1H OCEAN  INLAND  ISLAND  \\\n",
              "4712       1109.0       624.0         3.2500          1       0       0   \n",
              "2151       1143.0       438.0         1.9784          0       1       0   \n",
              "15927      1534.0       406.0         4.0132          0       0       0   \n",
              "82          200.0        87.0         1.5208          0       0       0   \n",
              "8161        711.0       283.0         5.1795          1       0       0   \n",
              "...           ...         ...            ...        ...     ...     ...   \n",
              "10955      1079.0       436.0         1.7823          1       0       0   \n",
              "17289       753.0       260.0         8.5608          1       0       0   \n",
              "5192        775.0       293.0         1.1326          1       0       0   \n",
              "12172      1323.0       477.0         2.6322          0       1       0   \n",
              "235        1009.0       390.0         2.3036          0       0       0   \n",
              "\n",
              "       NEAR BAY  NEAR OCEAN  median_house_value  \n",
              "4712          0           0            355000.0  \n",
              "2151          0           0             70700.0  \n",
              "15927         1           0            229400.0  \n",
              "82            1           0            112500.0  \n",
              "8161          0           0            225400.0  \n",
              "...         ...         ...                 ...  \n",
              "10955         0           0            205300.0  \n",
              "17289         0           0            500001.0  \n",
              "5192          0           0            104800.0  \n",
              "12172         0           0            140700.0  \n",
              "235           1           0            126000.0  \n",
              "\n",
              "[20640 rows x 14 columns]"
            ],
            "text/html": [
              "\n",
              "  <div id=\"df-e42453de-72e9-493d-bf40-c239a30df0df\">\n",
              "    <div class=\"colab-df-container\">\n",
              "      <div>\n",
              "<style scoped>\n",
              "    .dataframe tbody tr th:only-of-type {\n",
              "        vertical-align: middle;\n",
              "    }\n",
              "\n",
              "    .dataframe tbody tr th {\n",
              "        vertical-align: top;\n",
              "    }\n",
              "\n",
              "    .dataframe thead th {\n",
              "        text-align: right;\n",
              "    }\n",
              "</style>\n",
              "<table border=\"1\" class=\"dataframe\">\n",
              "  <thead>\n",
              "    <tr style=\"text-align: right;\">\n",
              "      <th></th>\n",
              "      <th>longitude</th>\n",
              "      <th>latitude</th>\n",
              "      <th>housing_median_age</th>\n",
              "      <th>total_rooms</th>\n",
              "      <th>total_bedrooms</th>\n",
              "      <th>population</th>\n",
              "      <th>households</th>\n",
              "      <th>median_income</th>\n",
              "      <th>&lt;1H OCEAN</th>\n",
              "      <th>INLAND</th>\n",
              "      <th>ISLAND</th>\n",
              "      <th>NEAR BAY</th>\n",
              "      <th>NEAR OCEAN</th>\n",
              "      <th>median_house_value</th>\n",
              "    </tr>\n",
              "  </thead>\n",
              "  <tbody>\n",
              "    <tr>\n",
              "      <th>4712</th>\n",
              "      <td>-118.36</td>\n",
              "      <td>34.06</td>\n",
              "      <td>39.0</td>\n",
              "      <td>2810.0</td>\n",
              "      <td>670.0</td>\n",
              "      <td>1109.0</td>\n",
              "      <td>624.0</td>\n",
              "      <td>3.2500</td>\n",
              "      <td>1</td>\n",
              "      <td>0</td>\n",
              "      <td>0</td>\n",
              "      <td>0</td>\n",
              "      <td>0</td>\n",
              "      <td>355000.0</td>\n",
              "    </tr>\n",
              "    <tr>\n",
              "      <th>2151</th>\n",
              "      <td>-119.78</td>\n",
              "      <td>36.78</td>\n",
              "      <td>37.0</td>\n",
              "      <td>2185.0</td>\n",
              "      <td>455.0</td>\n",
              "      <td>1143.0</td>\n",
              "      <td>438.0</td>\n",
              "      <td>1.9784</td>\n",
              "      <td>0</td>\n",
              "      <td>1</td>\n",
              "      <td>0</td>\n",
              "      <td>0</td>\n",
              "      <td>0</td>\n",
              "      <td>70700.0</td>\n",
              "    </tr>\n",
              "    <tr>\n",
              "      <th>15927</th>\n",
              "      <td>-122.42</td>\n",
              "      <td>37.73</td>\n",
              "      <td>46.0</td>\n",
              "      <td>1819.0</td>\n",
              "      <td>411.0</td>\n",
              "      <td>1534.0</td>\n",
              "      <td>406.0</td>\n",
              "      <td>4.0132</td>\n",
              "      <td>0</td>\n",
              "      <td>0</td>\n",
              "      <td>0</td>\n",
              "      <td>1</td>\n",
              "      <td>0</td>\n",
              "      <td>229400.0</td>\n",
              "    </tr>\n",
              "    <tr>\n",
              "      <th>82</th>\n",
              "      <td>-122.28</td>\n",
              "      <td>37.81</td>\n",
              "      <td>52.0</td>\n",
              "      <td>340.0</td>\n",
              "      <td>97.0</td>\n",
              "      <td>200.0</td>\n",
              "      <td>87.0</td>\n",
              "      <td>1.5208</td>\n",
              "      <td>0</td>\n",
              "      <td>0</td>\n",
              "      <td>0</td>\n",
              "      <td>1</td>\n",
              "      <td>0</td>\n",
              "      <td>112500.0</td>\n",
              "    </tr>\n",
              "    <tr>\n",
              "      <th>8161</th>\n",
              "      <td>-118.13</td>\n",
              "      <td>33.82</td>\n",
              "      <td>37.0</td>\n",
              "      <td>1530.0</td>\n",
              "      <td>290.0</td>\n",
              "      <td>711.0</td>\n",
              "      <td>283.0</td>\n",
              "      <td>5.1795</td>\n",
              "      <td>1</td>\n",
              "      <td>0</td>\n",
              "      <td>0</td>\n",
              "      <td>0</td>\n",
              "      <td>0</td>\n",
              "      <td>225400.0</td>\n",
              "    </tr>\n",
              "    <tr>\n",
              "      <th>...</th>\n",
              "      <td>...</td>\n",
              "      <td>...</td>\n",
              "      <td>...</td>\n",
              "      <td>...</td>\n",
              "      <td>...</td>\n",
              "      <td>...</td>\n",
              "      <td>...</td>\n",
              "      <td>...</td>\n",
              "      <td>...</td>\n",
              "      <td>...</td>\n",
              "      <td>...</td>\n",
              "      <td>...</td>\n",
              "      <td>...</td>\n",
              "      <td>...</td>\n",
              "    </tr>\n",
              "    <tr>\n",
              "      <th>10955</th>\n",
              "      <td>-117.88</td>\n",
              "      <td>33.76</td>\n",
              "      <td>17.0</td>\n",
              "      <td>1768.0</td>\n",
              "      <td>474.0</td>\n",
              "      <td>1079.0</td>\n",
              "      <td>436.0</td>\n",
              "      <td>1.7823</td>\n",
              "      <td>1</td>\n",
              "      <td>0</td>\n",
              "      <td>0</td>\n",
              "      <td>0</td>\n",
              "      <td>0</td>\n",
              "      <td>205300.0</td>\n",
              "    </tr>\n",
              "    <tr>\n",
              "      <th>17289</th>\n",
              "      <td>-119.63</td>\n",
              "      <td>34.42</td>\n",
              "      <td>42.0</td>\n",
              "      <td>1765.0</td>\n",
              "      <td>263.0</td>\n",
              "      <td>753.0</td>\n",
              "      <td>260.0</td>\n",
              "      <td>8.5608</td>\n",
              "      <td>1</td>\n",
              "      <td>0</td>\n",
              "      <td>0</td>\n",
              "      <td>0</td>\n",
              "      <td>0</td>\n",
              "      <td>500001.0</td>\n",
              "    </tr>\n",
              "    <tr>\n",
              "      <th>5192</th>\n",
              "      <td>-118.26</td>\n",
              "      <td>33.93</td>\n",
              "      <td>42.0</td>\n",
              "      <td>1433.0</td>\n",
              "      <td>295.0</td>\n",
              "      <td>775.0</td>\n",
              "      <td>293.0</td>\n",
              "      <td>1.1326</td>\n",
              "      <td>1</td>\n",
              "      <td>0</td>\n",
              "      <td>0</td>\n",
              "      <td>0</td>\n",
              "      <td>0</td>\n",
              "      <td>104800.0</td>\n",
              "    </tr>\n",
              "    <tr>\n",
              "      <th>12172</th>\n",
              "      <td>-117.16</td>\n",
              "      <td>33.73</td>\n",
              "      <td>10.0</td>\n",
              "      <td>2381.0</td>\n",
              "      <td>454.0</td>\n",
              "      <td>1323.0</td>\n",
              "      <td>477.0</td>\n",
              "      <td>2.6322</td>\n",
              "      <td>0</td>\n",
              "      <td>1</td>\n",
              "      <td>0</td>\n",
              "      <td>0</td>\n",
              "      <td>0</td>\n",
              "      <td>140700.0</td>\n",
              "    </tr>\n",
              "    <tr>\n",
              "      <th>235</th>\n",
              "      <td>-122.20</td>\n",
              "      <td>37.79</td>\n",
              "      <td>35.0</td>\n",
              "      <td>1802.0</td>\n",
              "      <td>459.0</td>\n",
              "      <td>1009.0</td>\n",
              "      <td>390.0</td>\n",
              "      <td>2.3036</td>\n",
              "      <td>0</td>\n",
              "      <td>0</td>\n",
              "      <td>0</td>\n",
              "      <td>1</td>\n",
              "      <td>0</td>\n",
              "      <td>126000.0</td>\n",
              "    </tr>\n",
              "  </tbody>\n",
              "</table>\n",
              "<p>20640 rows × 14 columns</p>\n",
              "</div>\n",
              "      <button class=\"colab-df-convert\" onclick=\"convertToInteractive('df-e42453de-72e9-493d-bf40-c239a30df0df')\"\n",
              "              title=\"Convert this dataframe to an interactive table.\"\n",
              "              style=\"display:none;\">\n",
              "        \n",
              "  <svg xmlns=\"http://www.w3.org/2000/svg\" height=\"24px\"viewBox=\"0 0 24 24\"\n",
              "       width=\"24px\">\n",
              "    <path d=\"M0 0h24v24H0V0z\" fill=\"none\"/>\n",
              "    <path d=\"M18.56 5.44l.94 2.06.94-2.06 2.06-.94-2.06-.94-.94-2.06-.94 2.06-2.06.94zm-11 1L8.5 8.5l.94-2.06 2.06-.94-2.06-.94L8.5 2.5l-.94 2.06-2.06.94zm10 10l.94 2.06.94-2.06 2.06-.94-2.06-.94-.94-2.06-.94 2.06-2.06.94z\"/><path d=\"M17.41 7.96l-1.37-1.37c-.4-.4-.92-.59-1.43-.59-.52 0-1.04.2-1.43.59L10.3 9.45l-7.72 7.72c-.78.78-.78 2.05 0 2.83L4 21.41c.39.39.9.59 1.41.59.51 0 1.02-.2 1.41-.59l7.78-7.78 2.81-2.81c.8-.78.8-2.07 0-2.86zM5.41 20L4 18.59l7.72-7.72 1.47 1.35L5.41 20z\"/>\n",
              "  </svg>\n",
              "      </button>\n",
              "      \n",
              "  <style>\n",
              "    .colab-df-container {\n",
              "      display:flex;\n",
              "      flex-wrap:wrap;\n",
              "      gap: 12px;\n",
              "    }\n",
              "\n",
              "    .colab-df-convert {\n",
              "      background-color: #E8F0FE;\n",
              "      border: none;\n",
              "      border-radius: 50%;\n",
              "      cursor: pointer;\n",
              "      display: none;\n",
              "      fill: #1967D2;\n",
              "      height: 32px;\n",
              "      padding: 0 0 0 0;\n",
              "      width: 32px;\n",
              "    }\n",
              "\n",
              "    .colab-df-convert:hover {\n",
              "      background-color: #E2EBFA;\n",
              "      box-shadow: 0px 1px 2px rgba(60, 64, 67, 0.3), 0px 1px 3px 1px rgba(60, 64, 67, 0.15);\n",
              "      fill: #174EA6;\n",
              "    }\n",
              "\n",
              "    [theme=dark] .colab-df-convert {\n",
              "      background-color: #3B4455;\n",
              "      fill: #D2E3FC;\n",
              "    }\n",
              "\n",
              "    [theme=dark] .colab-df-convert:hover {\n",
              "      background-color: #434B5C;\n",
              "      box-shadow: 0px 1px 3px 1px rgba(0, 0, 0, 0.15);\n",
              "      filter: drop-shadow(0px 1px 2px rgba(0, 0, 0, 0.3));\n",
              "      fill: #FFFFFF;\n",
              "    }\n",
              "  </style>\n",
              "\n",
              "      <script>\n",
              "        const buttonEl =\n",
              "          document.querySelector('#df-e42453de-72e9-493d-bf40-c239a30df0df button.colab-df-convert');\n",
              "        buttonEl.style.display =\n",
              "          google.colab.kernel.accessAllowed ? 'block' : 'none';\n",
              "\n",
              "        async function convertToInteractive(key) {\n",
              "          const element = document.querySelector('#df-e42453de-72e9-493d-bf40-c239a30df0df');\n",
              "          const dataTable =\n",
              "            await google.colab.kernel.invokeFunction('convertToInteractive',\n",
              "                                                     [key], {});\n",
              "          if (!dataTable) return;\n",
              "\n",
              "          const docLinkHtml = 'Like what you see? Visit the ' +\n",
              "            '<a target=\"_blank\" href=https://colab.research.google.com/notebooks/data_table.ipynb>data table notebook</a>'\n",
              "            + ' to learn more about interactive tables.';\n",
              "          element.innerHTML = '';\n",
              "          dataTable['output_type'] = 'display_data';\n",
              "          await google.colab.output.renderOutput(dataTable, element);\n",
              "          const docLink = document.createElement('div');\n",
              "          docLink.innerHTML = docLinkHtml;\n",
              "          element.appendChild(docLink);\n",
              "        }\n",
              "      </script>\n",
              "    </div>\n",
              "  </div>\n",
              "  "
            ]
          },
          "metadata": {},
          "execution_count": 34
        }
      ]
    },
    {
      "cell_type": "code",
      "source": [
        "df_final = df_final.dropna()\n",
        "len(df_final)"
      ],
      "metadata": {
        "colab": {
          "base_uri": "https://localhost:8080/"
        },
        "id": "4MMDi0SgPxxJ",
        "outputId": "22a3a1f4-9c71-42d2-be0c-97f2b2cd0be9"
      },
      "execution_count": 35,
      "outputs": [
        {
          "output_type": "execute_result",
          "data": {
            "text/plain": [
              "20433"
            ]
          },
          "metadata": {},
          "execution_count": 35
        }
      ]
    },
    {
      "cell_type": "code",
      "source": [
        "train_df, test_df, val_df = df_final[:18000], df_final[18000:19217], df_final[19215:]\n",
        "len(train_df), len(test_df), len(val_df)"
      ],
      "metadata": {
        "colab": {
          "base_uri": "https://localhost:8080/"
        },
        "id": "_tAWEcavQIYq",
        "outputId": "c9ef1c1c-cc6c-4726-c96a-961e58da39cd"
      },
      "execution_count": 36,
      "outputs": [
        {
          "output_type": "execute_result",
          "data": {
            "text/plain": [
              "(18000, 1217, 1218)"
            ]
          },
          "metadata": {},
          "execution_count": 36
        }
      ]
    },
    {
      "cell_type": "code",
      "source": [
        "X_train, y_train = train_df.to_numpy()[:, :-1], train_df.to_numpy()[:, -1]\n",
        "X_val, y_val = val_df.to_numpy()[:, :-1], val_df.to_numpy()[:, -1]\n",
        "X_test, y_test = test_df.to_numpy()[:, :-1], test_df.to_numpy()[:, -1]\n",
        "\n",
        "X_train.shape, y_train.shape, X_val.shape, y_val.shape, X_test.shape, y_test.shape"
      ],
      "metadata": {
        "colab": {
          "base_uri": "https://localhost:8080/"
        },
        "id": "hvrd2W-cTZuc",
        "outputId": "a9b92e6b-ca9d-4bfe-c282-9a2b66d3cda7"
      },
      "execution_count": 37,
      "outputs": [
        {
          "output_type": "execute_result",
          "data": {
            "text/plain": [
              "((18000, 13), (18000,), (1218, 13), (1218,), (1217, 13), (1217,))"
            ]
          },
          "metadata": {},
          "execution_count": 37
        }
      ]
    },
    {
      "cell_type": "code",
      "source": [
        "from sklearn.preprocessing import StandardScaler\n",
        "import numpy as np\n",
        "\n",
        "scaler = StandardScaler().fit(X_train[:, :8])\n",
        "def preprocessor(X):\n",
        "  A = np.copy(X)\n",
        "  A[:,:8] = scaler.transform(A[:, :8])\n",
        "  return A\n",
        "\n",
        "X_train_preprocessed, X_val_preprocessed, X_test_preprocessed = preprocessor(X_train), preprocessor(X_val), preprocessor(X_test)"
      ],
      "metadata": {
        "id": "XzZQAba-T0kN"
      },
      "execution_count": 46,
      "outputs": []
    },
    {
      "cell_type": "code",
      "source": [
        "X_train_preprocessed.shape, X_val_preprocessed.shape, X_test_preprocessed.shape"
      ],
      "metadata": {
        "colab": {
          "base_uri": "https://localhost:8080/"
        },
        "id": "fQk4a9f8VkJw",
        "outputId": "693d5902-0d0e-462a-ef37-37680f2d4431"
      },
      "execution_count": 47,
      "outputs": [
        {
          "output_type": "execute_result",
          "data": {
            "text/plain": [
              "((18000, 13), (1218, 13), (1217, 13))"
            ]
          },
          "metadata": {},
          "execution_count": 47
        }
      ]
    },
    {
      "cell_type": "code",
      "source": [
        "pd.DataFrame(X_train_preprocessed).head()"
      ],
      "metadata": {
        "colab": {
          "base_uri": "https://localhost:8080/",
          "height": 270
        },
        "id": "xS1K1S3bVuPY",
        "outputId": "b4116687-6707-4119-fae7-8f459a665e96"
      },
      "execution_count": 48,
      "outputs": [
        {
          "output_type": "execute_result",
          "data": {
            "text/plain": [
              "         0         1         2         3         4         5         6   \\\n",
              "0  0.603443 -0.736073  0.820845  0.081039  0.315396 -0.276840  0.328234   \n",
              "1 -0.105122  0.537108  0.661774 -0.206526 -0.196843 -0.246809 -0.160526   \n",
              "2 -1.422454  0.981785  1.377592 -0.374924 -0.301674  0.098553 -0.244613   \n",
              "3 -1.352596  1.019231  1.854804 -1.055419 -1.049782 -1.079740 -1.082862   \n",
              "4  0.718211 -0.848412  0.661774 -0.507894 -0.589957 -0.628385 -0.567825   \n",
              "\n",
              "         7    8    9    10   11   12  \n",
              "0 -0.326667  1.0  0.0  0.0  0.0  0.0  \n",
              "1 -0.995001  0.0  1.0  0.0  0.0  0.0  \n",
              "2  0.074459  0.0  0.0  0.0  1.0  0.0  \n",
              "3 -1.235508  0.0  0.0  0.0  1.0  0.0  \n",
              "4  0.687448  1.0  0.0  0.0  0.0  0.0  "
            ],
            "text/html": [
              "\n",
              "  <div id=\"df-5cc7b4b7-d693-4ce0-bef3-8bf3579087df\">\n",
              "    <div class=\"colab-df-container\">\n",
              "      <div>\n",
              "<style scoped>\n",
              "    .dataframe tbody tr th:only-of-type {\n",
              "        vertical-align: middle;\n",
              "    }\n",
              "\n",
              "    .dataframe tbody tr th {\n",
              "        vertical-align: top;\n",
              "    }\n",
              "\n",
              "    .dataframe thead th {\n",
              "        text-align: right;\n",
              "    }\n",
              "</style>\n",
              "<table border=\"1\" class=\"dataframe\">\n",
              "  <thead>\n",
              "    <tr style=\"text-align: right;\">\n",
              "      <th></th>\n",
              "      <th>0</th>\n",
              "      <th>1</th>\n",
              "      <th>2</th>\n",
              "      <th>3</th>\n",
              "      <th>4</th>\n",
              "      <th>5</th>\n",
              "      <th>6</th>\n",
              "      <th>7</th>\n",
              "      <th>8</th>\n",
              "      <th>9</th>\n",
              "      <th>10</th>\n",
              "      <th>11</th>\n",
              "      <th>12</th>\n",
              "    </tr>\n",
              "  </thead>\n",
              "  <tbody>\n",
              "    <tr>\n",
              "      <th>0</th>\n",
              "      <td>0.603443</td>\n",
              "      <td>-0.736073</td>\n",
              "      <td>0.820845</td>\n",
              "      <td>0.081039</td>\n",
              "      <td>0.315396</td>\n",
              "      <td>-0.276840</td>\n",
              "      <td>0.328234</td>\n",
              "      <td>-0.326667</td>\n",
              "      <td>1.0</td>\n",
              "      <td>0.0</td>\n",
              "      <td>0.0</td>\n",
              "      <td>0.0</td>\n",
              "      <td>0.0</td>\n",
              "    </tr>\n",
              "    <tr>\n",
              "      <th>1</th>\n",
              "      <td>-0.105122</td>\n",
              "      <td>0.537108</td>\n",
              "      <td>0.661774</td>\n",
              "      <td>-0.206526</td>\n",
              "      <td>-0.196843</td>\n",
              "      <td>-0.246809</td>\n",
              "      <td>-0.160526</td>\n",
              "      <td>-0.995001</td>\n",
              "      <td>0.0</td>\n",
              "      <td>1.0</td>\n",
              "      <td>0.0</td>\n",
              "      <td>0.0</td>\n",
              "      <td>0.0</td>\n",
              "    </tr>\n",
              "    <tr>\n",
              "      <th>2</th>\n",
              "      <td>-1.422454</td>\n",
              "      <td>0.981785</td>\n",
              "      <td>1.377592</td>\n",
              "      <td>-0.374924</td>\n",
              "      <td>-0.301674</td>\n",
              "      <td>0.098553</td>\n",
              "      <td>-0.244613</td>\n",
              "      <td>0.074459</td>\n",
              "      <td>0.0</td>\n",
              "      <td>0.0</td>\n",
              "      <td>0.0</td>\n",
              "      <td>1.0</td>\n",
              "      <td>0.0</td>\n",
              "    </tr>\n",
              "    <tr>\n",
              "      <th>3</th>\n",
              "      <td>-1.352596</td>\n",
              "      <td>1.019231</td>\n",
              "      <td>1.854804</td>\n",
              "      <td>-1.055419</td>\n",
              "      <td>-1.049782</td>\n",
              "      <td>-1.079740</td>\n",
              "      <td>-1.082862</td>\n",
              "      <td>-1.235508</td>\n",
              "      <td>0.0</td>\n",
              "      <td>0.0</td>\n",
              "      <td>0.0</td>\n",
              "      <td>1.0</td>\n",
              "      <td>0.0</td>\n",
              "    </tr>\n",
              "    <tr>\n",
              "      <th>4</th>\n",
              "      <td>0.718211</td>\n",
              "      <td>-0.848412</td>\n",
              "      <td>0.661774</td>\n",
              "      <td>-0.507894</td>\n",
              "      <td>-0.589957</td>\n",
              "      <td>-0.628385</td>\n",
              "      <td>-0.567825</td>\n",
              "      <td>0.687448</td>\n",
              "      <td>1.0</td>\n",
              "      <td>0.0</td>\n",
              "      <td>0.0</td>\n",
              "      <td>0.0</td>\n",
              "      <td>0.0</td>\n",
              "    </tr>\n",
              "  </tbody>\n",
              "</table>\n",
              "</div>\n",
              "      <button class=\"colab-df-convert\" onclick=\"convertToInteractive('df-5cc7b4b7-d693-4ce0-bef3-8bf3579087df')\"\n",
              "              title=\"Convert this dataframe to an interactive table.\"\n",
              "              style=\"display:none;\">\n",
              "        \n",
              "  <svg xmlns=\"http://www.w3.org/2000/svg\" height=\"24px\"viewBox=\"0 0 24 24\"\n",
              "       width=\"24px\">\n",
              "    <path d=\"M0 0h24v24H0V0z\" fill=\"none\"/>\n",
              "    <path d=\"M18.56 5.44l.94 2.06.94-2.06 2.06-.94-2.06-.94-.94-2.06-.94 2.06-2.06.94zm-11 1L8.5 8.5l.94-2.06 2.06-.94-2.06-.94L8.5 2.5l-.94 2.06-2.06.94zm10 10l.94 2.06.94-2.06 2.06-.94-2.06-.94-.94-2.06-.94 2.06-2.06.94z\"/><path d=\"M17.41 7.96l-1.37-1.37c-.4-.4-.92-.59-1.43-.59-.52 0-1.04.2-1.43.59L10.3 9.45l-7.72 7.72c-.78.78-.78 2.05 0 2.83L4 21.41c.39.39.9.59 1.41.59.51 0 1.02-.2 1.41-.59l7.78-7.78 2.81-2.81c.8-.78.8-2.07 0-2.86zM5.41 20L4 18.59l7.72-7.72 1.47 1.35L5.41 20z\"/>\n",
              "  </svg>\n",
              "      </button>\n",
              "      \n",
              "  <style>\n",
              "    .colab-df-container {\n",
              "      display:flex;\n",
              "      flex-wrap:wrap;\n",
              "      gap: 12px;\n",
              "    }\n",
              "\n",
              "    .colab-df-convert {\n",
              "      background-color: #E8F0FE;\n",
              "      border: none;\n",
              "      border-radius: 50%;\n",
              "      cursor: pointer;\n",
              "      display: none;\n",
              "      fill: #1967D2;\n",
              "      height: 32px;\n",
              "      padding: 0 0 0 0;\n",
              "      width: 32px;\n",
              "    }\n",
              "\n",
              "    .colab-df-convert:hover {\n",
              "      background-color: #E2EBFA;\n",
              "      box-shadow: 0px 1px 2px rgba(60, 64, 67, 0.3), 0px 1px 3px 1px rgba(60, 64, 67, 0.15);\n",
              "      fill: #174EA6;\n",
              "    }\n",
              "\n",
              "    [theme=dark] .colab-df-convert {\n",
              "      background-color: #3B4455;\n",
              "      fill: #D2E3FC;\n",
              "    }\n",
              "\n",
              "    [theme=dark] .colab-df-convert:hover {\n",
              "      background-color: #434B5C;\n",
              "      box-shadow: 0px 1px 3px 1px rgba(0, 0, 0, 0.15);\n",
              "      filter: drop-shadow(0px 1px 2px rgba(0, 0, 0, 0.3));\n",
              "      fill: #FFFFFF;\n",
              "    }\n",
              "  </style>\n",
              "\n",
              "      <script>\n",
              "        const buttonEl =\n",
              "          document.querySelector('#df-5cc7b4b7-d693-4ce0-bef3-8bf3579087df button.colab-df-convert');\n",
              "        buttonEl.style.display =\n",
              "          google.colab.kernel.accessAllowed ? 'block' : 'none';\n",
              "\n",
              "        async function convertToInteractive(key) {\n",
              "          const element = document.querySelector('#df-5cc7b4b7-d693-4ce0-bef3-8bf3579087df');\n",
              "          const dataTable =\n",
              "            await google.colab.kernel.invokeFunction('convertToInteractive',\n",
              "                                                     [key], {});\n",
              "          if (!dataTable) return;\n",
              "\n",
              "          const docLinkHtml = 'Like what you see? Visit the ' +\n",
              "            '<a target=\"_blank\" href=https://colab.research.google.com/notebooks/data_table.ipynb>data table notebook</a>'\n",
              "            + ' to learn more about interactive tables.';\n",
              "          element.innerHTML = '';\n",
              "          dataTable['output_type'] = 'display_data';\n",
              "          await google.colab.output.renderOutput(dataTable, element);\n",
              "          const docLink = document.createElement('div');\n",
              "          docLink.innerHTML = docLinkHtml;\n",
              "          element.appendChild(docLink);\n",
              "        }\n",
              "      </script>\n",
              "    </div>\n",
              "  </div>\n",
              "  "
            ]
          },
          "metadata": {},
          "execution_count": 48
        }
      ]
    },
    {
      "cell_type": "code",
      "source": [
        "import pandas as pd"
      ],
      "metadata": {
        "id": "wMg2X2G5YcIY"
      },
      "execution_count": 49,
      "outputs": []
    },
    {
      "cell_type": "code",
      "source": [
        "pd.DataFrame(X_train_preprocessed)[0].hist()"
      ],
      "metadata": {
        "colab": {
          "base_uri": "https://localhost:8080/",
          "height": 447
        },
        "id": "Q-aTqnOenR6w",
        "outputId": "059229aa-d064-4294-999a-965dc7d7eeda"
      },
      "execution_count": 50,
      "outputs": [
        {
          "output_type": "execute_result",
          "data": {
            "text/plain": [
              "<Axes: >"
            ]
          },
          "metadata": {},
          "execution_count": 50
        },
        {
          "output_type": "display_data",
          "data": {
            "text/plain": [
              "<Figure size 640x480 with 1 Axes>"
            ],
            "image/png": "[encoded data removed]"
          },
          "metadata": {}
        }
      ]
    },
    {
      "cell_type": "code",
      "source": [
        "from sklearn.metrics import mean_squared_error as mse\n",
        "from sklearn.linear_model import LinearRegression"
      ],
      "metadata": {
        "id": "cJbRmaiiqdNL"
      },
      "execution_count": 51,
      "outputs": []
    },
    {
      "cell_type": "code",
      "source": [
        "lm = LinearRegression().fit(X_train, y_train)\n",
        "mse(lm.predict(X_train), y_train, squared=False), mse(lm.predict(X_val), y_val, squared=False)"
      ],
      "metadata": {
        "colab": {
          "base_uri": "https://localhost:8080/"
        },
        "id": "gNE5mgtlrLJp",
        "outputId": "7d10cea9-0a20-4751-97a3-4d2930fd59dc"
      },
      "execution_count": 53,
      "outputs": [
        {
          "output_type": "execute_result",
          "data": {
            "text/plain": [
              "(68593.05578127236, 71382.43558330165)"
            ]
          },
          "metadata": {},
          "execution_count": 53
        }
      ]
    },
    {
      "cell_type": "code",
      "source": [
        "from sklearn.neighbors import KNeighborsRegressor\n",
        "\n",
        "knn = KNeighborsRegressor(n_neighbors=10).fit(X_train, y_train)\n",
        "mse(knn.predict(X_train), y_train, squared=False), mse(knn.predict(X_val), y_val, squared=False)"
      ],
      "metadata": {
        "colab": {
          "base_uri": "https://localhost:8080/"
        },
        "id": "SLhmPBQcrTiU",
        "outputId": "4dcc318b-da6e-4d50-806e-b732350006e9"
      },
      "execution_count": 68,
      "outputs": [
        {
          "output_type": "execute_result",
          "data": {
            "text/plain": [
              "(53759.09908812057, 62161.22860469906)"
            ]
          },
          "metadata": {},
          "execution_count": 68
        }
      ]
    },
    {
      "cell_type": "code",
      "source": [
        "\n",
        "from sklearn.neighbors import KNeighborsClassifier"
      ],
      "metadata": {
        "id": "faXW1ymOsADP"
      },
      "execution_count": 62,
      "outputs": []
    },
    {
      "cell_type": "code",
      "source": [
        "from sklearn.ensemble import RandomForestRegressor\n",
        "\n",
        "rfr = RandomForestRegressor(max_depth=10).fit(X_train,y_train)\n",
        "mse(rfr.predict(X_train), y_train, squared=False), mse(rfr.predict(X_val),y_val, squared=False)"
      ],
      "metadata": {
        "colab": {
          "base_uri": "https://localhost:8080/"
        },
        "id": "33qxoqBKsUFf",
        "outputId": "0b6c3ebe-a993-4734-b59a-e13dd4a6faf5"
      },
      "execution_count": 69,
      "outputs": [
        {
          "output_type": "execute_result",
          "data": {
            "text/plain": [
              "(43520.27011088849, 53275.32427600455)"
            ]
          },
          "metadata": {},
          "execution_count": 69
        }
      ]
    },
    {
      "cell_type": "code",
      "source": [
        "from sklearn.ensemble import GradientBoostingRegressor\n",
        "\n",
        "gbr = GradientBoostingRegressor(n_estimators=250).fit(X_train, y_train)\n",
        "mse(gbr.predict(X_train), y_train, squared=False), mse(gbr.predict(X_val), y_val, squared=False)"
      ],
      "metadata": {
        "colab": {
          "base_uri": "https://localhost:8080/"
        },
        "id": "pQ2Q9gOpwkGM",
        "outputId": "2629fe22-e119-45bb-cbe9-d9168d1f8e23"
      },
      "execution_count": 72,
      "outputs": [
        {
          "output_type": "execute_result",
          "data": {
            "text/plain": [
              "(47274.82259072157, 51343.744905129766)"
            ]
          },
          "metadata": {},
          "execution_count": 72
        }
      ]
    },
    {
      "cell_type": "code",
      "source": [
        "from tensorflow.keras.models import Sequential \n",
        "from tensorflow.keras.layers import *\n",
        "from tensorflow.keras.callbacks import ModelCheckpoint \n",
        "from tensorflow.keras.metrics import RootMeanSquaredError\n",
        "from tensorflow.keras.optimizers import Adam"
      ],
      "metadata": {
        "id": "FyxZilf1xGz-"
      },
      "execution_count": 74,
      "outputs": []
    },
    {
      "cell_type": "code",
      "source": [
        "simple_nn = Sequential()\n",
        "simple_nn.add(InputLayer((13,)))\n",
        "simple_nn.add(Dense(2, 'relu'))\n",
        "simple_nn.add(Dense(1,'linear'))\n",
        "\n",
        "opt=Adam(learning_rate=.1)\n",
        "cp=ModelCheckpoint('models/simple_nn', save_best_only=True)\n",
        "simple_nn.compile(optimizer=opt, loss='mse', metrics=[RootMeanSquaredError()])\n",
        "simple_nn.fit(x=X_train, y=y_train, validation_data=(X_val,y_val), callbacks=[cp], epochs=100)"
      ],
      "metadata": {
        "colab": {
          "base_uri": "https://localhost:8080/"
        },
        "id": "cVMuWzHUx4dV",
        "outputId": "1821c05e-b05b-43bd-d0ee-b5a864e47335"
      },
      "execution_count": 80,
      "outputs": [
        {
          "output_type": "stream",
          "name": "stdout",
          "text": [
            "Epoch 1/100\n",
            "555/563 [============================>.] - ETA: 0s - loss: 51102531584.0000 - root_mean_squared_error: 226058.6875"
          ]
        },
        {
          "output_type": "stream",
          "name": "stderr",
          "text": [
            "WARNING:absl:Found untraced functions such as _update_step_xla while saving (showing 1 of 1). These functions will not be directly callable after loading.\n"
          ]
        },
        {
          "output_type": "stream",
          "name": "stdout",
          "text": [
            "\b\b\b\b\b\b\b\b\b\b\b\b\b\b\b\b\b\b\b\b\b\b\b\b\b\b\b\b\b\b\b\b\b\b\b\b\b\b\b\b\b\b\b\b\b\b\b\b\b\b\b\b\b\b\b\b\b\b\b\b\b\b\b\b\b\b\b\b\b\b\b\b\b\b\b\b\b\b\b\b\b\b\b\b\b\b\b\b\b\b\b\b\b\b\b\b\b\b\b\b\b\b\b\b\b\b\b\b\b\b\b\b\b\b\r563/563 [==============================] - 3s 4ms/step - loss: 50911272960.0000 - root_mean_squared_error: 225635.2656 - val_loss: 41666289664.0000 - val_root_mean_squared_error: 204123.2188\n",
            "Epoch 2/100\n",
            "539/563 [===========================>..] - ETA: 0s - loss: 29167792128.0000 - root_mean_squared_error: 170785.8125"
          ]
        },
        {
          "output_type": "stream",
          "name": "stderr",
          "text": [
            "WARNING:absl:Found untraced functions such as _update_step_xla while saving (showing 1 of 1). These functions will not be directly callable after loading.\n"
          ]
        },
        {
          "output_type": "stream",
          "name": "stdout",
          "text": [
            "\b\b\b\b\b\b\b\b\b\b\b\b\b\b\b\b\b\b\b\b\b\b\b\b\b\b\b\b\b\b\b\b\b\b\b\b\b\b\b\b\b\b\b\b\b\b\b\b\b\b\b\b\b\b\b\b\b\b\b\b\b\b\b\b\b\b\b\b\b\b\b\b\b\b\b\b\b\b\b\b\b\b\b\b\b\b\b\b\b\b\b\b\b\b\b\b\b\b\b\b\b\b\b\b\b\b\b\b\b\b\b\b\b\b\r563/563 [==============================] - 2s 3ms/step - loss: 28675612672.0000 - root_mean_squared_error: 169338.7500 - val_loss: 18279337984.0000 - val_root_mean_squared_error: 135201.1094\n",
            "Epoch 3/100\n",
            "540/563 [===========================>..] - ETA: 0s - loss: 12414451712.0000 - root_mean_squared_error: 111420.1562"
          ]
        },
        {
          "output_type": "stream",
          "name": "stderr",
          "text": [
            "WARNING:absl:Found untraced functions such as _update_step_xla while saving (showing 1 of 1). These functions will not be directly callable after loading.\n"
          ]
        },
        {
          "output_type": "stream",
          "name": "stdout",
          "text": [
            "\b\b\b\b\b\b\b\b\b\b\b\b\b\b\b\b\b\b\b\b\b\b\b\b\b\b\b\b\b\b\b\b\b\b\b\b\b\b\b\b\b\b\b\b\b\b\b\b\b\b\b\b\b\b\b\b\b\b\b\b\b\b\b\b\b\b\b\b\b\b\b\b\b\b\b\b\b\b\b\b\b\b\b\b\b\b\b\b\b\b\b\b\b\b\b\b\b\b\b\b\b\b\b\b\b\b\b\b\b\b\b\b\b\b\r563/563 [==============================] - 2s 3ms/step - loss: 12259142656.0000 - root_mean_squared_error: 110721.0156 - val_loss: 9058512896.0000 - val_root_mean_squared_error: 95176.2188\n",
            "Epoch 4/100\n",
            "560/563 [============================>.] - ETA: 0s - loss: 7657232384.0000 - root_mean_squared_error: 87505.6172"
          ]
        },
        {
          "output_type": "stream",
          "name": "stderr",
          "text": [
            "WARNING:absl:Found untraced functions such as _update_step_xla while saving (showing 1 of 1). These functions will not be directly callable after loading.\n"
          ]
        },
        {
          "output_type": "stream",
          "name": "stdout",
          "text": [
            "\b\b\b\b\b\b\b\b\b\b\b\b\b\b\b\b\b\b\b\b\b\b\b\b\b\b\b\b\b\b\b\b\b\b\b\b\b\b\b\b\b\b\b\b\b\b\b\b\b\b\b\b\b\b\b\b\b\b\b\b\b\b\b\b\b\b\b\b\b\b\b\b\b\b\b\b\b\b\b\b\b\b\b\b\b\b\b\b\b\b\b\b\b\b\b\b\b\b\b\b\b\b\b\b\b\b\b\b\b\b\b\b\r563/563 [==============================] - 2s 3ms/step - loss: 7651425280.0000 - root_mean_squared_error: 87472.4297 - val_loss: 6980443136.0000 - val_root_mean_squared_error: 83549.0469\n",
            "Epoch 5/100\n",
            "559/563 [============================>.] - ETA: 0s - loss: 6226939392.0000 - root_mean_squared_error: 78910.9609"
          ]
        },
        {
          "output_type": "stream",
          "name": "stderr",
          "text": [
            "WARNING:absl:Found untraced functions such as _update_step_xla while saving (showing 1 of 1). These functions will not be directly callable after loading.\n"
          ]
        },
        {
          "output_type": "stream",
          "name": "stdout",
          "text": [
            "\b\b\b\b\b\b\b\b\b\b\b\b\b\b\b\b\b\b\b\b\b\b\b\b\b\b\b\b\b\b\b\b\b\b\b\b\b\b\b\b\b\b\b\b\b\b\b\b\b\b\b\b\b\b\b\b\b\b\b\b\b\b\b\b\b\b\b\b\b\b\b\b\b\b\b\b\b\b\b\b\b\b\b\b\b\b\b\b\b\b\b\b\b\b\b\b\b\b\b\b\b\b\b\b\b\b\b\b\b\b\b\b\r563/563 [==============================] - 3s 4ms/step - loss: 6234712576.0000 - root_mean_squared_error: 78960.1953 - val_loss: 6051746304.0000 - val_root_mean_squared_error: 77792.9688\n",
            "Epoch 6/100\n",
            "546/563 [============================>.] - ETA: 0s - loss: 5470223360.0000 - root_mean_squared_error: 73960.9609"
          ]
        },
        {
          "output_type": "stream",
          "name": "stderr",
          "text": [
            "WARNING:absl:Found untraced functions such as _update_step_xla while saving (showing 1 of 1). These functions will not be directly callable after loading.\n"
          ]
        },
        {
          "output_type": "stream",
          "name": "stdout",
          "text": [
            "\b\b\b\b\b\b\b\b\b\b\b\b\b\b\b\b\b\b\b\b\b\b\b\b\b\b\b\b\b\b\b\b\b\b\b\b\b\b\b\b\b\b\b\b\b\b\b\b\b\b\b\b\b\b\b\b\b\b\b\b\b\b\b\b\b\b\b\b\b\b\b\b\b\b\b\b\b\b\b\b\b\b\b\b\b\b\b\b\b\b\b\b\b\b\b\b\b\b\b\b\b\b\b\b\b\b\b\b\b\b\b\b\r563/563 [==============================] - 3s 5ms/step - loss: 5457783296.0000 - root_mean_squared_error: 73876.8125 - val_loss: 5532342272.0000 - val_root_mean_squared_error: 74379.7188\n",
            "Epoch 7/100\n",
            "550/563 [============================>.] - ETA: 0s - loss: 5045451264.0000 - root_mean_squared_error: 71031.3438"
          ]
        },
        {
          "output_type": "stream",
          "name": "stderr",
          "text": [
            "WARNING:absl:Found untraced functions such as _update_step_xla while saving (showing 1 of 1). These functions will not be directly callable after loading.\n"
          ]
        },
        {
          "output_type": "stream",
          "name": "stdout",
          "text": [
            "\b\b\b\b\b\b\b\b\b\b\b\b\b\b\b\b\b\b\b\b\b\b\b\b\b\b\b\b\b\b\b\b\b\b\b\b\b\b\b\b\b\b\b\b\b\b\b\b\b\b\b\b\b\b\b\b\b\b\b\b\b\b\b\b\b\b\b\b\b\b\b\b\b\b\b\b\b\b\b\b\b\b\b\b\b\b\b\b\b\b\b\b\b\b\b\b\b\b\b\b\b\b\b\b\b\b\b\b\b\b\b\b\r563/563 [==============================] - 2s 4ms/step - loss: 5027554304.0000 - root_mean_squared_error: 70905.2500 - val_loss: 5287044096.0000 - val_root_mean_squared_error: 72712.0625\n",
            "Epoch 8/100\n",
            "557/563 [============================>.] - ETA: 0s - loss: 4832138240.0000 - root_mean_squared_error: 69513.5859"
          ]
        },
        {
          "output_type": "stream",
          "name": "stderr",
          "text": [
            "WARNING:absl:Found untraced functions such as _update_step_xla while saving (showing 1 of 1). These functions will not be directly callable after loading.\n"
          ]
        },
        {
          "output_type": "stream",
          "name": "stdout",
          "text": [
            "\b\b\b\b\b\b\b\b\b\b\b\b\b\b\b\b\b\b\b\b\b\b\b\b\b\b\b\b\b\b\b\b\b\b\b\b\b\b\b\b\b\b\b\b\b\b\b\b\b\b\b\b\b\b\b\b\b\b\b\b\b\b\b\b\b\b\b\b\b\b\b\b\b\b\b\b\b\b\b\b\b\b\b\b\b\b\b\b\b\b\b\b\b\b\b\b\b\b\b\b\b\b\b\b\b\b\b\b\b\b\b\b\r563/563 [==============================] - 2s 3ms/step - loss: 4842697728.0000 - root_mean_squared_error: 69589.4922 - val_loss: 5166516224.0000 - val_root_mean_squared_error: 71878.4844\n",
            "Epoch 9/100\n",
            "542/563 [===========================>..] - ETA: 0s - loss: 4775012864.0000 - root_mean_squared_error: 69101.4688"
          ]
        },
        {
          "output_type": "stream",
          "name": "stderr",
          "text": [
            "WARNING:absl:Found untraced functions such as _update_step_xla while saving (showing 1 of 1). These functions will not be directly callable after loading.\n"
          ]
        },
        {
          "output_type": "stream",
          "name": "stdout",
          "text": [
            "\b\b\b\b\b\b\b\b\b\b\b\b\b\b\b\b\b\b\b\b\b\b\b\b\b\b\b\b\b\b\b\b\b\b\b\b\b\b\b\b\b\b\b\b\b\b\b\b\b\b\b\b\b\b\b\b\b\b\b\b\b\b\b\b\b\b\b\b\b\b\b\b\b\b\b\b\b\b\b\b\b\b\b\b\b\b\b\b\b\b\b\b\b\b\b\b\b\b\b\b\b\b\b\b\b\b\b\b\b\b\b\b\r563/563 [==============================] - 2s 3ms/step - loss: 4761422848.0000 - root_mean_squared_error: 69003.0625 - val_loss: 5122417152.0000 - val_root_mean_squared_error: 71571.0625\n",
            "Epoch 10/100\n",
            "549/563 [============================>.] - ETA: 0s - loss: 4741303296.0000 - root_mean_squared_error: 68857.1250"
          ]
        },
        {
          "output_type": "stream",
          "name": "stderr",
          "text": [
            "WARNING:absl:Found untraced functions such as _update_step_xla while saving (showing 1 of 1). These functions will not be directly callable after loading.\n"
          ]
        },
        {
          "output_type": "stream",
          "name": "stdout",
          "text": [
            "\b\b\b\b\b\b\b\b\b\b\b\b\b\b\b\b\b\b\b\b\b\b\b\b\b\b\b\b\b\b\b\b\b\b\b\b\b\b\b\b\b\b\b\b\b\b\b\b\b\b\b\b\b\b\b\b\b\b\b\b\b\b\b\b\b\b\b\b\b\b\b\b\b\b\b\b\b\b\b\b\b\b\b\b\b\b\b\b\b\b\b\b\b\b\b\b\b\b\b\b\b\b\b\b\b\b\b\b\b\b\b\b\r563/563 [==============================] - 2s 3ms/step - loss: 4721854464.0000 - root_mean_squared_error: 68715.7500 - val_loss: 5101185024.0000 - val_root_mean_squared_error: 71422.5781\n",
            "Epoch 11/100\n",
            "561/563 [============================>.] - ETA: 0s - loss: 4698299904.0000 - root_mean_squared_error: 68544.1484"
          ]
        },
        {
          "output_type": "stream",
          "name": "stderr",
          "text": [
            "WARNING:absl:Found untraced functions such as _update_step_xla while saving (showing 1 of 1). These functions will not be directly callable after loading.\n"
          ]
        },
        {
          "output_type": "stream",
          "name": "stdout",
          "text": [
            "\b\b\b\b\b\b\b\b\b\b\b\b\b\b\b\b\b\b\b\b\b\b\b\b\b\b\b\b\b\b\b\b\b\b\b\b\b\b\b\b\b\b\b\b\b\b\b\b\b\b\b\b\b\b\b\b\b\b\b\b\b\b\b\b\b\b\b\b\b\b\b\b\b\b\b\b\b\b\b\b\b\b\b\b\b\b\b\b\b\b\b\b\b\b\b\b\b\b\b\b\b\b\b\b\b\b\b\b\b\b\b\b\r563/563 [==============================] - 2s 3ms/step - loss: 4697445376.0000 - root_mean_squared_error: 68537.9141 - val_loss: 5083652096.0000 - val_root_mean_squared_error: 71299.7344\n",
            "Epoch 12/100\n",
            "536/563 [===========================>..] - ETA: 0s - loss: 4670543360.0000 - root_mean_squared_error: 68341.3750"
          ]
        },
        {
          "output_type": "stream",
          "name": "stderr",
          "text": [
            "WARNING:absl:Found untraced functions such as _update_step_xla while saving (showing 1 of 1). These functions will not be directly callable after loading.\n"
          ]
        },
        {
          "output_type": "stream",
          "name": "stdout",
          "text": [
            "\b\b\b\b\b\b\b\b\b\b\b\b\b\b\b\b\b\b\b\b\b\b\b\b\b\b\b\b\b\b\b\b\b\b\b\b\b\b\b\b\b\b\b\b\b\b\b\b\b\b\b\b\b\b\b\b\b\b\b\b\b\b\b\b\b\b\b\b\b\b\b\b\b\b\b\b\b\b\b\b\b\b\b\b\b\b\b\b\b\b\b\b\b\b\b\b\b\b\b\b\b\b\b\b\b\b\b\b\b\b\b\b\r563/563 [==============================] - 2s 3ms/step - loss: 4678796288.0000 - root_mean_squared_error: 68401.7266 - val_loss: 5077964800.0000 - val_root_mean_squared_error: 71259.8438\n",
            "Epoch 13/100\n",
            "549/563 [============================>.] - ETA: 0s - loss: 4658297856.0000 - root_mean_squared_error: 68251.7266"
          ]
        },
        {
          "output_type": "stream",
          "name": "stderr",
          "text": [
            "WARNING:absl:Found untraced functions such as _update_step_xla while saving (showing 1 of 1). These functions will not be directly callable after loading.\n"
          ]
        },
        {
          "output_type": "stream",
          "name": "stdout",
          "text": [
            "\b\b\b\b\b\b\b\b\b\b\b\b\b\b\b\b\b\b\b\b\b\b\b\b\b\b\b\b\b\b\b\b\b\b\b\b\b\b\b\b\b\b\b\b\b\b\b\b\b\b\b\b\b\b\b\b\b\b\b\b\b\b\b\b\b\b\b\b\b\b\b\b\b\b\b\b\b\b\b\b\b\b\b\b\b\b\b\b\b\b\b\b\b\b\b\b\b\b\b\b\b\b\b\b\b\b\b\b\b\b\b\b\r563/563 [==============================] - 2s 3ms/step - loss: 4665940480.0000 - root_mean_squared_error: 68307.6875 - val_loss: 5062151680.0000 - val_root_mean_squared_error: 71148.7969\n",
            "Epoch 14/100\n",
            "563/563 [==============================] - 2s 3ms/step - loss: 4655561728.0000 - root_mean_squared_error: 68231.6797 - val_loss: 5068502528.0000 - val_root_mean_squared_error: 71193.4141\n",
            "Epoch 15/100\n",
            "558/563 [============================>.] - ETA: 0s - loss: 4634694656.0000 - root_mean_squared_error: 68078.5938"
          ]
        },
        {
          "output_type": "stream",
          "name": "stderr",
          "text": [
            "WARNING:absl:Found untraced functions such as _update_step_xla while saving (showing 1 of 1). These functions will not be directly callable after loading.\n"
          ]
        },
        {
          "output_type": "stream",
          "name": "stdout",
          "text": [
            "\b\b\b\b\b\b\b\b\b\b\b\b\b\b\b\b\b\b\b\b\b\b\b\b\b\b\b\b\b\b\b\b\b\b\b\b\b\b\b\b\b\b\b\b\b\b\b\b\b\b\b\b\b\b\b\b\b\b\b\b\b\b\b\b\b\b\b\b\b\b\b\b\b\b\b\b\b\b\b\b\b\b\b\b\b\b\b\b\b\b\b\b\b\b\b\b\b\b\b\b\b\b\b\b\b\b\b\b\b\b\b\b\r563/563 [==============================] - 2s 4ms/step - loss: 4645609472.0000 - root_mean_squared_error: 68158.7109 - val_loss: 5041537536.0000 - val_root_mean_squared_error: 71003.7891\n",
            "Epoch 16/100\n",
            "563/563 [==============================] - 1s 2ms/step - loss: 4640664064.0000 - root_mean_squared_error: 68122.4219 - val_loss: 5064622080.0000 - val_root_mean_squared_error: 71166.1562\n",
            "Epoch 17/100\n",
            "554/563 [============================>.] - ETA: 0s - loss: 4640439296.0000 - root_mean_squared_error: 68120.7734"
          ]
        },
        {
          "output_type": "stream",
          "name": "stderr",
          "text": [
            "WARNING:absl:Found untraced functions such as _update_step_xla while saving (showing 1 of 1). These functions will not be directly callable after loading.\n"
          ]
        },
        {
          "output_type": "stream",
          "name": "stdout",
          "text": [
            "\b\b\b\b\b\b\b\b\b\b\b\b\b\b\b\b\b\b\b\b\b\b\b\b\b\b\b\b\b\b\b\b\b\b\b\b\b\b\b\b\b\b\b\b\b\b\b\b\b\b\b\b\b\b\b\b\b\b\b\b\b\b\b\b\b\b\b\b\b\b\b\b\b\b\b\b\b\b\b\b\b\b\b\b\b\b\b\b\b\b\b\b\b\b\b\b\b\b\b\b\b\b\b\b\b\b\b\b\b\b\b\b\r563/563 [==============================] - 2s 3ms/step - loss: 4634922496.0000 - root_mean_squared_error: 68080.2656 - val_loss: 5034075648.0000 - val_root_mean_squared_error: 70951.2188\n",
            "Epoch 18/100\n",
            "563/563 [==============================] - 1s 2ms/step - loss: 4630036480.0000 - root_mean_squared_error: 68044.3750 - val_loss: 5044183040.0000 - val_root_mean_squared_error: 71022.4141\n",
            "Epoch 19/100\n",
            "563/563 [==============================] - 1s 2ms/step - loss: 4626058752.0000 - root_mean_squared_error: 68015.1328 - val_loss: 5043251712.0000 - val_root_mean_squared_error: 71015.8516\n",
            "Epoch 20/100\n",
            "563/563 [==============================] - 1s 2ms/step - loss: 4622323712.0000 - root_mean_squared_error: 67987.6719 - val_loss: 5041310720.0000 - val_root_mean_squared_error: 71002.1875\n",
            "Epoch 21/100\n",
            "563/563 [==============================] - 1s 2ms/step - loss: 4616453632.0000 - root_mean_squared_error: 67944.4922 - val_loss: 5034280448.0000 - val_root_mean_squared_error: 70952.6641\n",
            "Epoch 22/100\n",
            "535/563 [===========================>..] - ETA: 0s - loss: 4620235776.0000 - root_mean_squared_error: 67972.3125"
          ]
        },
        {
          "output_type": "stream",
          "name": "stderr",
          "text": [
            "WARNING:absl:Found untraced functions such as _update_step_xla while saving (showing 1 of 1). These functions will not be directly callable after loading.\n"
          ]
        },
        {
          "output_type": "stream",
          "name": "stdout",
          "text": [
            "\b\b\b\b\b\b\b\b\b\b\b\b\b\b\b\b\b\b\b\b\b\b\b\b\b\b\b\b\b\b\b\b\b\b\b\b\b\b\b\b\b\b\b\b\b\b\b\b\b\b\b\b\b\b\b\b\b\b\b\b\b\b\b\b\b\b\b\b\b\b\b\b\b\b\b\b\b\b\b\b\b\b\b\b\b\b\b\b\b\b\b\b\b\b\b\b\b\b\b\b\b\b\b\b\b\b\b\b\b\b\b\b\r563/563 [==============================] - 2s 3ms/step - loss: 4612755456.0000 - root_mean_squared_error: 67917.2656 - val_loss: 5005642752.0000 - val_root_mean_squared_error: 70750.5703\n",
            "Epoch 23/100\n",
            "563/563 [==============================] - 1s 2ms/step - loss: 4608321024.0000 - root_mean_squared_error: 67884.6172 - val_loss: 5012269568.0000 - val_root_mean_squared_error: 70797.3828\n",
            "Epoch 24/100\n",
            "563/563 [==============================] - 1s 2ms/step - loss: 4604679168.0000 - root_mean_squared_error: 67857.7891 - val_loss: 5016882688.0000 - val_root_mean_squared_error: 70829.9531\n",
            "Epoch 25/100\n",
            "563/563 [==============================] - 1s 3ms/step - loss: 4598938112.0000 - root_mean_squared_error: 67815.4688 - val_loss: 5024902144.0000 - val_root_mean_squared_error: 70886.5469\n",
            "Epoch 26/100\n",
            "562/563 [============================>.] - ETA: 0s - loss: 4595271680.0000 - root_mean_squared_error: 67788.4297"
          ]
        },
        {
          "output_type": "stream",
          "name": "stderr",
          "text": [
            "WARNING:absl:Found untraced functions such as _update_step_xla while saving (showing 1 of 1). These functions will not be directly callable after loading.\n"
          ]
        },
        {
          "output_type": "stream",
          "name": "stdout",
          "text": [
            "\b\b\b\b\b\b\b\b\b\b\b\b\b\b\b\b\b\b\b\b\b\b\b\b\b\b\b\b\b\b\b\b\b\b\b\b\b\b\b\b\b\b\b\b\b\b\b\b\b\b\b\b\b\b\b\b\b\b\b\b\b\b\b\b\b\b\b\b\b\b\b\b\b\b\b\b\b\b\b\b\b\b\b\b\b\b\b\b\b\b\b\b\b\b\b\b\b\b\b\b\b\b\b\b\b\b\b\b\b\b\b\b\r563/563 [==============================] - 2s 4ms/step - loss: 4594153472.0000 - root_mean_squared_error: 67780.1875 - val_loss: 4994385408.0000 - val_root_mean_squared_error: 70670.9688\n",
            "Epoch 27/100\n",
            "542/563 [===========================>..] - ETA: 0s - loss: 4596979200.0000 - root_mean_squared_error: 67801.0234"
          ]
        },
        {
          "output_type": "stream",
          "name": "stderr",
          "text": [
            "WARNING:absl:Found untraced functions such as _update_step_xla while saving (showing 1 of 1). These functions will not be directly callable after loading.\n"
          ]
        },
        {
          "output_type": "stream",
          "name": "stdout",
          "text": [
            "\b\b\b\b\b\b\b\b\b\b\b\b\b\b\b\b\b\b\b\b\b\b\b\b\b\b\b\b\b\b\b\b\b\b\b\b\b\b\b\b\b\b\b\b\b\b\b\b\b\b\b\b\b\b\b\b\b\b\b\b\b\b\b\b\b\b\b\b\b\b\b\b\b\b\b\b\b\b\b\b\b\b\b\b\b\b\b\b\b\b\b\b\b\b\b\b\b\b\b\b\b\b\b\b\b\b\b\b\b\b\b\b\r563/563 [==============================] - 2s 3ms/step - loss: 4588203520.0000 - root_mean_squared_error: 67736.2812 - val_loss: 4986132480.0000 - val_root_mean_squared_error: 70612.5547\n",
            "Epoch 28/100\n",
            "563/563 [==============================] - 1s 2ms/step - loss: 4582532608.0000 - root_mean_squared_error: 67694.4062 - val_loss: 4989381120.0000 - val_root_mean_squared_error: 70635.5547\n",
            "Epoch 29/100\n",
            "563/563 [==============================] - 1s 2ms/step - loss: 4576060416.0000 - root_mean_squared_error: 67646.5859 - val_loss: 4986643456.0000 - val_root_mean_squared_error: 70616.1719\n",
            "Epoch 30/100\n",
            "563/563 [==============================] - 1s 2ms/step - loss: 4568381952.0000 - root_mean_squared_error: 67589.8047 - val_loss: 4987315712.0000 - val_root_mean_squared_error: 70620.9297\n",
            "Epoch 31/100\n",
            "551/563 [============================>.] - ETA: 0s - loss: 4563258880.0000 - root_mean_squared_error: 67551.8984"
          ]
        },
        {
          "output_type": "stream",
          "name": "stderr",
          "text": [
            "WARNING:absl:Found untraced functions such as _update_step_xla while saving (showing 1 of 1). These functions will not be directly callable after loading.\n"
          ]
        },
        {
          "output_type": "stream",
          "name": "stdout",
          "text": [
            "\b\b\b\b\b\b\b\b\b\b\b\b\b\b\b\b\b\b\b\b\b\b\b\b\b\b\b\b\b\b\b\b\b\b\b\b\b\b\b\b\b\b\b\b\b\b\b\b\b\b\b\b\b\b\b\b\b\b\b\b\b\b\b\b\b\b\b\b\b\b\b\b\b\b\b\b\b\b\b\b\b\b\b\b\b\b\b\b\b\b\b\b\b\b\b\b\b\b\b\b\b\b\b\b\b\b\b\b\b\b\b\b\r563/563 [==============================] - 2s 3ms/step - loss: 4562517504.0000 - root_mean_squared_error: 67546.4062 - val_loss: 4972881920.0000 - val_root_mean_squared_error: 70518.6641\n",
            "Epoch 32/100\n",
            "545/563 [============================>.] - ETA: 0s - loss: 4541925888.0000 - root_mean_squared_error: 67393.8125"
          ]
        },
        {
          "output_type": "stream",
          "name": "stderr",
          "text": [
            "WARNING:absl:Found untraced functions such as _update_step_xla while saving (showing 1 of 1). These functions will not be directly callable after loading.\n"
          ]
        },
        {
          "output_type": "stream",
          "name": "stdout",
          "text": [
            "\b\b\b\b\b\b\b\b\b\b\b\b\b\b\b\b\b\b\b\b\b\b\b\b\b\b\b\b\b\b\b\b\b\b\b\b\b\b\b\b\b\b\b\b\b\b\b\b\b\b\b\b\b\b\b\b\b\b\b\b\b\b\b\b\b\b\b\b\b\b\b\b\b\b\b\b\b\b\b\b\b\b\b\b\b\b\b\b\b\b\b\b\b\b\b\b\b\b\b\b\b\b\b\b\b\b\b\b\b\b\b\b\r563/563 [==============================] - 2s 3ms/step - loss: 4553051136.0000 - root_mean_squared_error: 67476.2969 - val_loss: 4968613376.0000 - val_root_mean_squared_error: 70488.3906\n",
            "Epoch 33/100\n",
            "555/563 [============================>.] - ETA: 0s - loss: 4539886592.0000 - root_mean_squared_error: 67378.6797"
          ]
        },
        {
          "output_type": "stream",
          "name": "stderr",
          "text": [
            "WARNING:absl:Found untraced functions such as _update_step_xla while saving (showing 1 of 1). These functions will not be directly callable after loading.\n"
          ]
        },
        {
          "output_type": "stream",
          "name": "stdout",
          "text": [
            "\b\b\b\b\b\b\b\b\b\b\b\b\b\b\b\b\b\b\b\b\b\b\b\b\b\b\b\b\b\b\b\b\b\b\b\b\b\b\b\b\b\b\b\b\b\b\b\b\b\b\b\b\b\b\b\b\b\b\b\b\b\b\b\b\b\b\b\b\b\b\b\b\b\b\b\b\b\b\b\b\b\b\b\b\b\b\b\b\b\b\b\b\b\b\b\b\b\b\b\b\b\b\b\b\b\b\b\b\b\b\b\b\r563/563 [==============================] - 2s 3ms/step - loss: 4544571392.0000 - root_mean_squared_error: 67413.4375 - val_loss: 4947969536.0000 - val_root_mean_squared_error: 70341.8047\n",
            "Epoch 34/100\n",
            "550/563 [============================>.] - ETA: 0s - loss: 4546981376.0000 - root_mean_squared_error: 67431.3047"
          ]
        },
        {
          "output_type": "stream",
          "name": "stderr",
          "text": [
            "WARNING:absl:Found untraced functions such as _update_step_xla while saving (showing 1 of 1). These functions will not be directly callable after loading.\n"
          ]
        },
        {
          "output_type": "stream",
          "name": "stdout",
          "text": [
            "\b\b\b\b\b\b\b\b\b\b\b\b\b\b\b\b\b\b\b\b\b\b\b\b\b\b\b\b\b\b\b\b\b\b\b\b\b\b\b\b\b\b\b\b\b\b\b\b\b\b\b\b\b\b\b\b\b\b\b\b\b\b\b\b\b\b\b\b\b\b\b\b\b\b\b\b\b\b\b\b\b\b\b\b\b\b\b\b\b\b\b\b\b\b\b\b\b\b\b\b\b\b\b\b\b\b\b\b\b\b\b\b\r563/563 [==============================] - 2s 4ms/step - loss: 4535256576.0000 - root_mean_squared_error: 67344.3125 - val_loss: 4932236800.0000 - val_root_mean_squared_error: 70229.8828\n",
            "Epoch 35/100\n",
            "563/563 [==============================] - 1s 2ms/step - loss: 4525583872.0000 - root_mean_squared_error: 67272.4609 - val_loss: 4938975232.0000 - val_root_mean_squared_error: 70277.8438\n",
            "Epoch 36/100\n",
            "554/563 [============================>.] - ETA: 0s - loss: 4521925120.0000 - root_mean_squared_error: 67245.2578"
          ]
        },
        {
          "output_type": "stream",
          "name": "stderr",
          "text": [
            "WARNING:absl:Found untraced functions such as _update_step_xla while saving (showing 1 of 1). These functions will not be directly callable after loading.\n"
          ]
        },
        {
          "output_type": "stream",
          "name": "stdout",
          "text": [
            "\b\b\b\b\b\b\b\b\b\b\b\b\b\b\b\b\b\b\b\b\b\b\b\b\b\b\b\b\b\b\b\b\b\b\b\b\b\b\b\b\b\b\b\b\b\b\b\b\b\b\b\b\b\b\b\b\b\b\b\b\b\b\b\b\b\b\b\b\b\b\b\b\b\b\b\b\b\b\b\b\b\b\b\b\b\b\b\b\b\b\b\b\b\b\b\b\b\b\b\b\b\b\b\b\b\b\b\b\b\b\b\b\r563/563 [==============================] - 3s 5ms/step - loss: 4518670848.0000 - root_mean_squared_error: 67221.0625 - val_loss: 4921649664.0000 - val_root_mean_squared_error: 70154.4688\n",
            "Epoch 37/100\n",
            "558/563 [============================>.] - ETA: 0s - loss: 4516689920.0000 - root_mean_squared_error: 67206.3203"
          ]
        },
        {
          "output_type": "stream",
          "name": "stderr",
          "text": [
            "WARNING:absl:Found untraced functions such as _update_step_xla while saving (showing 1 of 1). These functions will not be directly callable after loading.\n"
          ]
        },
        {
          "output_type": "stream",
          "name": "stdout",
          "text": [
            "\b\b\b\b\b\b\b\b\b\b\b\b\b\b\b\b\b\b\b\b\b\b\b\b\b\b\b\b\b\b\b\b\b\b\b\b\b\b\b\b\b\b\b\b\b\b\b\b\b\b\b\b\b\b\b\b\b\b\b\b\b\b\b\b\b\b\b\b\b\b\b\b\b\b\b\b\b\b\b\b\b\b\b\b\b\b\b\b\b\b\b\b\b\b\b\b\b\b\b\b\b\b\b\b\b\b\b\b\b\b\b\b\r563/563 [==============================] - 3s 5ms/step - loss: 4511699968.0000 - root_mean_squared_error: 67169.1875 - val_loss: 4918232576.0000 - val_root_mean_squared_error: 70130.1094\n",
            "Epoch 38/100\n",
            "563/563 [==============================] - 1s 2ms/step - loss: 4503631360.0000 - root_mean_squared_error: 67109.1016 - val_loss: 4923165184.0000 - val_root_mean_squared_error: 70165.2734\n",
            "Epoch 39/100\n",
            "546/563 [============================>.] - ETA: 0s - loss: 4477902848.0000 - root_mean_squared_error: 66917.1328"
          ]
        },
        {
          "output_type": "stream",
          "name": "stderr",
          "text": [
            "WARNING:absl:Found untraced functions such as _update_step_xla while saving (showing 1 of 1). These functions will not be directly callable after loading.\n"
          ]
        },
        {
          "output_type": "stream",
          "name": "stdout",
          "text": [
            "\b\b\b\b\b\b\b\b\b\b\b\b\b\b\b\b\b\b\b\b\b\b\b\b\b\b\b\b\b\b\b\b\b\b\b\b\b\b\b\b\b\b\b\b\b\b\b\b\b\b\b\b\b\b\b\b\b\b\b\b\b\b\b\b\b\b\b\b\b\b\b\b\b\b\b\b\b\b\b\b\b\b\b\b\b\b\b\b\b\b\b\b\b\b\b\b\b\b\b\b\b\b\b\b\b\b\b\b\b\b\b\b\r563/563 [==============================] - 2s 3ms/step - loss: 4497905152.0000 - root_mean_squared_error: 67066.4219 - val_loss: 4900207616.0000 - val_root_mean_squared_error: 70001.4844\n",
            "Epoch 40/100\n",
            "536/563 [===========================>..] - ETA: 0s - loss: 4514821120.0000 - root_mean_squared_error: 67192.4219"
          ]
        },
        {
          "output_type": "stream",
          "name": "stderr",
          "text": [
            "WARNING:absl:Found untraced functions such as _update_step_xla while saving (showing 1 of 1). These functions will not be directly callable after loading.\n"
          ]
        },
        {
          "output_type": "stream",
          "name": "stdout",
          "text": [
            "\b\b\b\b\b\b\b\b\b\b\b\b\b\b\b\b\b\b\b\b\b\b\b\b\b\b\b\b\b\b\b\b\b\b\b\b\b\b\b\b\b\b\b\b\b\b\b\b\b\b\b\b\b\b\b\b\b\b\b\b\b\b\b\b\b\b\b\b\b\b\b\b\b\b\b\b\b\b\b\b\b\b\b\b\b\b\b\b\b\b\b\b\b\b\b\b\b\b\b\b\b\b\b\b\b\b\b\b\b\b\b\b\r563/563 [==============================] - 2s 3ms/step - loss: 4490672128.0000 - root_mean_squared_error: 67012.4766 - val_loss: 4897714176.0000 - val_root_mean_squared_error: 69983.6719\n",
            "Epoch 41/100\n",
            "558/563 [============================>.] - ETA: 0s - loss: 4467442176.0000 - root_mean_squared_error: 66838.9297"
          ]
        },
        {
          "output_type": "stream",
          "name": "stderr",
          "text": [
            "WARNING:absl:Found untraced functions such as _update_step_xla while saving (showing 1 of 1). These functions will not be directly callable after loading.\n"
          ]
        },
        {
          "output_type": "stream",
          "name": "stdout",
          "text": [
            "\b\b\b\b\b\b\b\b\b\b\b\b\b\b\b\b\b\b\b\b\b\b\b\b\b\b\b\b\b\b\b\b\b\b\b\b\b\b\b\b\b\b\b\b\b\b\b\b\b\b\b\b\b\b\b\b\b\b\b\b\b\b\b\b\b\b\b\b\b\b\b\b\b\b\b\b\b\b\b\b\b\b\b\b\b\b\b\b\b\b\b\b\b\b\b\b\b\b\b\b\b\b\b\b\b\b\b\b\b\b\b\b\r563/563 [==============================] - 2s 3ms/step - loss: 4483059200.0000 - root_mean_squared_error: 66955.6484 - val_loss: 4875293696.0000 - val_root_mean_squared_error: 69823.3047\n",
            "Epoch 42/100\n",
            "563/563 [==============================] - 1s 3ms/step - loss: 4476979200.0000 - root_mean_squared_error: 66910.2344 - val_loss: 4884900864.0000 - val_root_mean_squared_error: 69892.0625\n",
            "Epoch 43/100\n",
            "563/563 [==============================] - 1s 2ms/step - loss: 4470989824.0000 - root_mean_squared_error: 66865.4609 - val_loss: 4878073344.0000 - val_root_mean_squared_error: 69843.2031\n",
            "Epoch 44/100\n",
            "563/563 [==============================] - 1s 2ms/step - loss: 4462210560.0000 - root_mean_squared_error: 66799.7812 - val_loss: 4878159872.0000 - val_root_mean_squared_error: 69843.8281\n",
            "Epoch 45/100\n",
            "544/563 [===========================>..] - ETA: 0s - loss: 4443727360.0000 - root_mean_squared_error: 66661.2891"
          ]
        },
        {
          "output_type": "stream",
          "name": "stderr",
          "text": [
            "WARNING:absl:Found untraced functions such as _update_step_xla while saving (showing 1 of 1). These functions will not be directly callable after loading.\n"
          ]
        },
        {
          "output_type": "stream",
          "name": "stdout",
          "text": [
            "\b\b\b\b\b\b\b\b\b\b\b\b\b\b\b\b\b\b\b\b\b\b\b\b\b\b\b\b\b\b\b\b\b\b\b\b\b\b\b\b\b\b\b\b\b\b\b\b\b\b\b\b\b\b\b\b\b\b\b\b\b\b\b\b\b\b\b\b\b\b\b\b\b\b\b\b\b\b\b\b\b\b\b\b\b\b\b\b\b\b\b\b\b\b\b\b\b\b\b\b\b\b\b\b\b\b\b\b\b\b\b\b\r563/563 [==============================] - 2s 3ms/step - loss: 4456542208.0000 - root_mean_squared_error: 66757.3359 - val_loss: 4850092032.0000 - val_root_mean_squared_error: 69642.6016\n",
            "Epoch 46/100\n",
            "563/563 [==============================] - 1s 2ms/step - loss: 4451789312.0000 - root_mean_squared_error: 66721.7266 - val_loss: 4868832768.0000 - val_root_mean_squared_error: 69777.0234\n",
            "Epoch 47/100\n",
            "551/563 [============================>.] - ETA: 0s - loss: 4462834688.0000 - root_mean_squared_error: 66804.4531"
          ]
        },
        {
          "output_type": "stream",
          "name": "stderr",
          "text": [
            "WARNING:absl:Found untraced functions such as _update_step_xla while saving (showing 1 of 1). These functions will not be directly callable after loading.\n"
          ]
        },
        {
          "output_type": "stream",
          "name": "stdout",
          "text": [
            "\b\b\b\b\b\b\b\b\b\b\b\b\b\b\b\b\b\b\b\b\b\b\b\b\b\b\b\b\b\b\b\b\b\b\b\b\b\b\b\b\b\b\b\b\b\b\b\b\b\b\b\b\b\b\b\b\b\b\b\b\b\b\b\b\b\b\b\b\b\b\b\b\b\b\b\b\b\b\b\b\b\b\b\b\b\b\b\b\b\b\b\b\b\b\b\b\b\b\b\b\b\b\b\b\b\b\b\b\b\b\b\b\r563/563 [==============================] - 2s 3ms/step - loss: 4445389824.0000 - root_mean_squared_error: 66673.7578 - val_loss: 4849981440.0000 - val_root_mean_squared_error: 69641.8047\n",
            "Epoch 48/100\n",
            "562/563 [============================>.] - ETA: 0s - loss: 4440889344.0000 - root_mean_squared_error: 66640.0000"
          ]
        },
        {
          "output_type": "stream",
          "name": "stderr",
          "text": [
            "WARNING:absl:Found untraced functions such as _update_step_xla while saving (showing 1 of 1). These functions will not be directly callable after loading.\n"
          ]
        },
        {
          "output_type": "stream",
          "name": "stdout",
          "text": [
            "\b\b\b\b\b\b\b\b\b\b\b\b\b\b\b\b\b\b\b\b\b\b\b\b\b\b\b\b\b\b\b\b\b\b\b\b\b\b\b\b\b\b\b\b\b\b\b\b\b\b\b\b\b\b\b\b\b\b\b\b\b\b\b\b\b\b\b\b\b\b\b\b\b\b\b\b\b\b\b\b\b\b\b\b\b\b\b\b\b\b\b\b\b\b\b\b\b\b\b\b\b\b\b\b\b\b\b\b\b\b\b\b\r563/563 [==============================] - 2s 3ms/step - loss: 4441144832.0000 - root_mean_squared_error: 66641.9141 - val_loss: 4831688704.0000 - val_root_mean_squared_error: 69510.3516\n",
            "Epoch 49/100\n",
            "545/563 [============================>.] - ETA: 0s - loss: 4414112256.0000 - root_mean_squared_error: 66438.7891"
          ]
        },
        {
          "output_type": "stream",
          "name": "stderr",
          "text": [
            "WARNING:absl:Found untraced functions such as _update_step_xla while saving (showing 1 of 1). These functions will not be directly callable after loading.\n"
          ]
        },
        {
          "output_type": "stream",
          "name": "stdout",
          "text": [
            "\b\b\b\b\b\b\b\b\b\b\b\b\b\b\b\b\b\b\b\b\b\b\b\b\b\b\b\b\b\b\b\b\b\b\b\b\b\b\b\b\b\b\b\b\b\b\b\b\b\b\b\b\b\b\b\b\b\b\b\b\b\b\b\b\b\b\b\b\b\b\b\b\b\b\b\b\b\b\b\b\b\b\b\b\b\b\b\b\b\b\b\b\b\b\b\b\b\b\b\b\b\b\b\b\b\b\b\b\b\b\b\b\r563/563 [==============================] - 2s 3ms/step - loss: 4434280960.0000 - root_mean_squared_error: 66590.3984 - val_loss: 4812812288.0000 - val_root_mean_squared_error: 69374.4375\n",
            "Epoch 50/100\n",
            "563/563 [==============================] - 1s 2ms/step - loss: 4431654912.0000 - root_mean_squared_error: 66570.6797 - val_loss: 4827272192.0000 - val_root_mean_squared_error: 69478.5703\n",
            "Epoch 51/100\n",
            "563/563 [==============================] - 1s 2ms/step - loss: 4426685440.0000 - root_mean_squared_error: 66533.3438 - val_loss: 4819966976.0000 - val_root_mean_squared_error: 69425.9844\n",
            "Epoch 52/100\n",
            "550/563 [============================>.] - ETA: 0s - loss: 4425797632.0000 - root_mean_squared_error: 66526.6719"
          ]
        },
        {
          "output_type": "stream",
          "name": "stderr",
          "text": [
            "WARNING:absl:Found untraced functions such as _update_step_xla while saving (showing 1 of 1). These functions will not be directly callable after loading.\n"
          ]
        },
        {
          "output_type": "stream",
          "name": "stdout",
          "text": [
            "\b\b\b\b\b\b\b\b\b\b\b\b\b\b\b\b\b\b\b\b\b\b\b\b\b\b\b\b\b\b\b\b\b\b\b\b\b\b\b\b\b\b\b\b\b\b\b\b\b\b\b\b\b\b\b\b\b\b\b\b\b\b\b\b\b\b\b\b\b\b\b\b\b\b\b\b\b\b\b\b\b\b\b\b\b\b\b\b\b\b\b\b\b\b\b\b\b\b\b\b\b\b\b\b\b\b\b\b\b\b\b\b\r563/563 [==============================] - 2s 4ms/step - loss: 4420761088.0000 - root_mean_squared_error: 66488.8047 - val_loss: 4792469504.0000 - val_root_mean_squared_error: 69227.6641\n",
            "Epoch 53/100\n",
            "563/563 [==============================] - 2s 3ms/step - loss: 4418136064.0000 - root_mean_squared_error: 66469.0625 - val_loss: 4802965504.0000 - val_root_mean_squared_error: 69303.4297\n",
            "Epoch 54/100\n",
            "558/563 [============================>.] - ETA: 0s - loss: 4408199168.0000 - root_mean_squared_error: 66394.2734"
          ]
        },
        {
          "output_type": "stream",
          "name": "stderr",
          "text": [
            "WARNING:absl:Found untraced functions such as _update_step_xla while saving (showing 1 of 1). These functions will not be directly callable after loading.\n"
          ]
        },
        {
          "output_type": "stream",
          "name": "stdout",
          "text": [
            "\b\b\b\b\b\b\b\b\b\b\b\b\b\b\b\b\b\b\b\b\b\b\b\b\b\b\b\b\b\b\b\b\b\b\b\b\b\b\b\b\b\b\b\b\b\b\b\b\b\b\b\b\b\b\b\b\b\b\b\b\b\b\b\b\b\b\b\b\b\b\b\b\b\b\b\b\b\b\b\b\b\b\b\b\b\b\b\b\b\b\b\b\b\b\b\b\b\b\b\b\b\b\b\b\b\b\b\b\b\b\b\b\r563/563 [==============================] - 2s 4ms/step - loss: 4413659136.0000 - root_mean_squared_error: 66435.3750 - val_loss: 4790498304.0000 - val_root_mean_squared_error: 69213.4219\n",
            "Epoch 55/100\n",
            "563/563 [==============================] - 1s 2ms/step - loss: 4408631296.0000 - root_mean_squared_error: 66397.5234 - val_loss: 4812022784.0000 - val_root_mean_squared_error: 69368.7422\n",
            "Epoch 56/100\n",
            "560/563 [============================>.] - ETA: 0s - loss: 4402977280.0000 - root_mean_squared_error: 66354.9375"
          ]
        },
        {
          "output_type": "stream",
          "name": "stderr",
          "text": [
            "WARNING:absl:Found untraced functions such as _update_step_xla while saving (showing 1 of 1). These functions will not be directly callable after loading.\n"
          ]
        },
        {
          "output_type": "stream",
          "name": "stdout",
          "text": [
            "\b\b\b\b\b\b\b\b\b\b\b\b\b\b\b\b\b\b\b\b\b\b\b\b\b\b\b\b\b\b\b\b\b\b\b\b\b\b\b\b\b\b\b\b\b\b\b\b\b\b\b\b\b\b\b\b\b\b\b\b\b\b\b\b\b\b\b\b\b\b\b\b\b\b\b\b\b\b\b\b\b\b\b\b\b\b\b\b\b\b\b\b\b\b\b\b\b\b\b\b\b\b\b\b\b\b\b\b\b\b\b\b\r563/563 [==============================] - 2s 3ms/step - loss: 4405276672.0000 - root_mean_squared_error: 66372.2578 - val_loss: 4788148224.0000 - val_root_mean_squared_error: 69196.4453\n",
            "Epoch 57/100\n",
            "563/563 [==============================] - 1s 2ms/step - loss: 4402829312.0000 - root_mean_squared_error: 66353.8203 - val_loss: 4789172224.0000 - val_root_mean_squared_error: 69203.8438\n",
            "Epoch 58/100\n",
            "558/563 [============================>.] - ETA: 0s - loss: 4400323584.0000 - root_mean_squared_error: 66334.9375"
          ]
        },
        {
          "output_type": "stream",
          "name": "stderr",
          "text": [
            "WARNING:absl:Found untraced functions such as _update_step_xla while saving (showing 1 of 1). These functions will not be directly callable after loading.\n"
          ]
        },
        {
          "output_type": "stream",
          "name": "stdout",
          "text": [
            "\b\b\b\b\b\b\b\b\b\b\b\b\b\b\b\b\b\b\b\b\b\b\b\b\b\b\b\b\b\b\b\b\b\b\b\b\b\b\b\b\b\b\b\b\b\b\b\b\b\b\b\b\b\b\b\b\b\b\b\b\b\b\b\b\b\b\b\b\b\b\b\b\b\b\b\b\b\b\b\b\b\b\b\b\b\b\b\b\b\b\b\b\b\b\b\b\b\b\b\b\b\b\b\b\b\b\b\b\b\b\b\b\r563/563 [==============================] - 2s 3ms/step - loss: 4398969344.0000 - root_mean_squared_error: 66324.7266 - val_loss: 4773447168.0000 - val_root_mean_squared_error: 69090.1406\n",
            "Epoch 59/100\n",
            "563/563 [==============================] - 1s 2ms/step - loss: 4394372096.0000 - root_mean_squared_error: 66290.0625 - val_loss: 4774286336.0000 - val_root_mean_squared_error: 69096.2109\n",
            "Epoch 60/100\n",
            "543/563 [===========================>..] - ETA: 0s - loss: 4409204736.0000 - root_mean_squared_error: 66401.8438"
          ]
        },
        {
          "output_type": "stream",
          "name": "stderr",
          "text": [
            "WARNING:absl:Found untraced functions such as _update_step_xla while saving (showing 1 of 1). These functions will not be directly callable after loading.\n"
          ]
        },
        {
          "output_type": "stream",
          "name": "stdout",
          "text": [
            "\b\b\b\b\b\b\b\b\b\b\b\b\b\b\b\b\b\b\b\b\b\b\b\b\b\b\b\b\b\b\b\b\b\b\b\b\b\b\b\b\b\b\b\b\b\b\b\b\b\b\b\b\b\b\b\b\b\b\b\b\b\b\b\b\b\b\b\b\b\b\b\b\b\b\b\b\b\b\b\b\b\b\b\b\b\b\b\b\b\b\b\b\b\b\b\b\b\b\b\b\b\b\b\b\b\b\b\b\b\b\b\b\r563/563 [==============================] - 2s 3ms/step - loss: 4391523840.0000 - root_mean_squared_error: 66268.5703 - val_loss: 4765333504.0000 - val_root_mean_squared_error: 69031.3984\n",
            "Epoch 61/100\n",
            "563/563 [==============================] - 1s 2ms/step - loss: 4386358784.0000 - root_mean_squared_error: 66229.5938 - val_loss: 4778013184.0000 - val_root_mean_squared_error: 69123.1719\n",
            "Epoch 62/100\n",
            "563/563 [==============================] - 1s 2ms/step - loss: 4385022464.0000 - root_mean_squared_error: 66219.5000 - val_loss: 4774488576.0000 - val_root_mean_squared_error: 69097.6719\n",
            "Epoch 63/100\n",
            "547/563 [============================>.] - ETA: 0s - loss: 4379073536.0000 - root_mean_squared_error: 66174.5703"
          ]
        },
        {
          "output_type": "stream",
          "name": "stderr",
          "text": [
            "WARNING:absl:Found untraced functions such as _update_step_xla while saving (showing 1 of 1). These functions will not be directly callable after loading.\n"
          ]
        },
        {
          "output_type": "stream",
          "name": "stdout",
          "text": [
            "\b\b\b\b\b\b\b\b\b\b\b\b\b\b\b\b\b\b\b\b\b\b\b\b\b\b\b\b\b\b\b\b\b\b\b\b\b\b\b\b\b\b\b\b\b\b\b\b\b\b\b\b\b\b\b\b\b\b\b\b\b\b\b\b\b\b\b\b\b\b\b\b\b\b\b\b\b\b\b\b\b\b\b\b\b\b\b\b\b\b\b\b\b\b\b\b\b\b\b\b\b\b\b\b\b\b\b\b\b\b\b\b\r563/563 [==============================] - 2s 4ms/step - loss: 4381906432.0000 - root_mean_squared_error: 66195.9688 - val_loss: 4755161088.0000 - val_root_mean_squared_error: 68957.6797\n",
            "Epoch 64/100\n",
            "553/563 [============================>.] - ETA: 0s - loss: 4363374080.0000 - root_mean_squared_error: 66055.8438"
          ]
        },
        {
          "output_type": "stream",
          "name": "stderr",
          "text": [
            "WARNING:absl:Found untraced functions such as _update_step_xla while saving (showing 1 of 1). These functions will not be directly callable after loading.\n"
          ]
        },
        {
          "output_type": "stream",
          "name": "stdout",
          "text": [
            "\b\b\b\b\b\b\b\b\b\b\b\b\b\b\b\b\b\b\b\b\b\b\b\b\b\b\b\b\b\b\b\b\b\b\b\b\b\b\b\b\b\b\b\b\b\b\b\b\b\b\b\b\b\b\b\b\b\b\b\b\b\b\b\b\b\b\b\b\b\b\b\b\b\b\b\b\b\b\b\b\b\b\b\b\b\b\b\b\b\b\b\b\b\b\b\b\b\b\b\b\b\b\b\b\b\b\b\b\b\b\b\b\r563/563 [==============================] - 2s 3ms/step - loss: 4378729472.0000 - root_mean_squared_error: 66171.9688 - val_loss: 4745050112.0000 - val_root_mean_squared_error: 68884.3203\n",
            "Epoch 65/100\n",
            "549/563 [============================>.] - ETA: 0s - loss: 4373466624.0000 - root_mean_squared_error: 66132.1875"
          ]
        },
        {
          "output_type": "stream",
          "name": "stderr",
          "text": [
            "WARNING:absl:Found untraced functions such as _update_step_xla while saving (showing 1 of 1). These functions will not be directly callable after loading.\n"
          ]
        },
        {
          "output_type": "stream",
          "name": "stdout",
          "text": [
            "\b\b\b\b\b\b\b\b\b\b\b\b\b\b\b\b\b\b\b\b\b\b\b\b\b\b\b\b\b\b\b\b\b\b\b\b\b\b\b\b\b\b\b\b\b\b\b\b\b\b\b\b\b\b\b\b\b\b\b\b\b\b\b\b\b\b\b\b\b\b\b\b\b\b\b\b\b\b\b\b\b\b\b\b\b\b\b\b\b\b\b\b\b\b\b\b\b\b\b\b\b\b\b\b\b\b\b\b\b\b\b\b\r563/563 [==============================] - 2s 3ms/step - loss: 4374267392.0000 - root_mean_squared_error: 66138.2422 - val_loss: 4730502656.0000 - val_root_mean_squared_error: 68778.6484\n",
            "Epoch 66/100\n",
            "563/563 [==============================] - 1s 2ms/step - loss: 4370910208.0000 - root_mean_squared_error: 66112.8594 - val_loss: 4746898432.0000 - val_root_mean_squared_error: 68897.7422\n",
            "Epoch 67/100\n",
            "540/563 [===========================>..] - ETA: 0s - loss: 4345221120.0000 - root_mean_squared_error: 65918.2891"
          ]
        },
        {
          "output_type": "stream",
          "name": "stderr",
          "text": [
            "WARNING:absl:Found untraced functions such as _update_step_xla while saving (showing 1 of 1). These functions will not be directly callable after loading.\n"
          ]
        },
        {
          "output_type": "stream",
          "name": "stdout",
          "text": [
            "\b\b\b\b\b\b\b\b\b\b\b\b\b\b\b\b\b\b\b\b\b\b\b\b\b\b\b\b\b\b\b\b\b\b\b\b\b\b\b\b\b\b\b\b\b\b\b\b\b\b\b\b\b\b\b\b\b\b\b\b\b\b\b\b\b\b\b\b\b\b\b\b\b\b\b\b\b\b\b\b\b\b\b\b\b\b\b\b\b\b\b\b\b\b\b\b\b\b\b\b\b\b\b\b\b\b\b\b\b\b\b\b\r563/563 [==============================] - 2s 3ms/step - loss: 4366109184.0000 - root_mean_squared_error: 66076.5391 - val_loss: 4727610880.0000 - val_root_mean_squared_error: 68757.6250\n",
            "Epoch 68/100\n",
            "538/563 [===========================>..] - ETA: 0s - loss: 4360159232.0000 - root_mean_squared_error: 66031.5000"
          ]
        },
        {
          "output_type": "stream",
          "name": "stderr",
          "text": [
            "WARNING:absl:Found untraced functions such as _update_step_xla while saving (showing 1 of 1). These functions will not be directly callable after loading.\n"
          ]
        },
        {
          "output_type": "stream",
          "name": "stdout",
          "text": [
            "\b\b\b\b\b\b\b\b\b\b\b\b\b\b\b\b\b\b\b\b\b\b\b\b\b\b\b\b\b\b\b\b\b\b\b\b\b\b\b\b\b\b\b\b\b\b\b\b\b\b\b\b\b\b\b\b\b\b\b\b\b\b\b\b\b\b\b\b\b\b\b\b\b\b\b\b\b\b\b\b\b\b\b\b\b\b\b\b\b\b\b\b\b\b\b\b\b\b\b\b\b\b\b\b\b\b\b\b\b\b\b\b\r563/563 [==============================] - 2s 3ms/step - loss: 4360734208.0000 - root_mean_squared_error: 66035.8594 - val_loss: 4709111296.0000 - val_root_mean_squared_error: 68622.9609\n",
            "Epoch 69/100\n",
            "563/563 [==============================] - 1s 2ms/step - loss: 4356259840.0000 - root_mean_squared_error: 66001.9688 - val_loss: 4716725760.0000 - val_root_mean_squared_error: 68678.4219\n",
            "Epoch 70/100\n",
            "538/563 [===========================>..] - ETA: 0s - loss: 4326323200.0000 - root_mean_squared_error: 65774.7891"
          ]
        },
        {
          "output_type": "stream",
          "name": "stderr",
          "text": [
            "WARNING:absl:Found untraced functions such as _update_step_xla while saving (showing 1 of 1). These functions will not be directly callable after loading.\n"
          ]
        },
        {
          "output_type": "stream",
          "name": "stdout",
          "text": [
            "\b\b\b\b\b\b\b\b\b\b\b\b\b\b\b\b\b\b\b\b\b\b\b\b\b\b\b\b\b\b\b\b\b\b\b\b\b\b\b\b\b\b\b\b\b\b\b\b\b\b\b\b\b\b\b\b\b\b\b\b\b\b\b\b\b\b\b\b\b\b\b\b\b\b\b\b\b\b\b\b\b\b\b\b\b\b\b\b\b\b\b\b\b\b\b\b\b\b\b\b\b\b\b\b\b\b\b\b\b\b\b\b\r563/563 [==============================] - 2s 3ms/step - loss: 4352916992.0000 - root_mean_squared_error: 65976.6406 - val_loss: 4701197824.0000 - val_root_mean_squared_error: 68565.2812\n",
            "Epoch 71/100\n",
            "563/563 [==============================] - 1s 2ms/step - loss: 4350238208.0000 - root_mean_squared_error: 65956.3359 - val_loss: 4702739456.0000 - val_root_mean_squared_error: 68576.5234\n",
            "Epoch 72/100\n",
            "563/563 [==============================] - ETA: 0s - loss: 4342761984.0000 - root_mean_squared_error: 65899.6328"
          ]
        },
        {
          "output_type": "stream",
          "name": "stderr",
          "text": [
            "WARNING:absl:Found untraced functions such as _update_step_xla while saving (showing 1 of 1). These functions will not be directly callable after loading.\n"
          ]
        },
        {
          "output_type": "stream",
          "name": "stdout",
          "text": [
            "\b\b\b\b\b\b\b\b\b\b\b\b\b\b\b\b\b\b\b\b\b\b\b\b\b\b\b\b\b\b\b\b\b\b\b\b\b\b\b\b\b\b\b\b\b\b\b\b\b\b\b\b\b\b\b\b\b\b\b\b\b\b\b\b\b\b\b\b\b\b\b\b\b\b\b\b\b\b\b\b\b\b\b\b\b\b\b\b\b\b\b\b\b\b\b\b\b\b\b\b\b\b\b\b\b\b\b\b\b\b\b\b\r563/563 [==============================] - 2s 4ms/step - loss: 4342761984.0000 - root_mean_squared_error: 65899.6328 - val_loss: 4693200896.0000 - val_root_mean_squared_error: 68506.9375\n",
            "Epoch 73/100\n",
            "563/563 [==============================] - 1s 2ms/step - loss: 4338070016.0000 - root_mean_squared_error: 65864.0234 - val_loss: 4716304896.0000 - val_root_mean_squared_error: 68675.3594\n",
            "Epoch 74/100\n",
            "543/563 [===========================>..] - ETA: 0s - loss: 4348829696.0000 - root_mean_squared_error: 65945.6562"
          ]
        },
        {
          "output_type": "stream",
          "name": "stderr",
          "text": [
            "WARNING:absl:Found untraced functions such as _update_step_xla while saving (showing 1 of 1). These functions will not be directly callable after loading.\n"
          ]
        },
        {
          "output_type": "stream",
          "name": "stdout",
          "text": [
            "\b\b\b\b\b\b\b\b\b\b\b\b\b\b\b\b\b\b\b\b\b\b\b\b\b\b\b\b\b\b\b\b\b\b\b\b\b\b\b\b\b\b\b\b\b\b\b\b\b\b\b\b\b\b\b\b\b\b\b\b\b\b\b\b\b\b\b\b\b\b\b\b\b\b\b\b\b\b\b\b\b\b\b\b\b\b\b\b\b\b\b\b\b\b\b\b\b\b\b\b\b\b\b\b\b\b\b\b\b\b\b\b\r563/563 [==============================] - 2s 4ms/step - loss: 4335163392.0000 - root_mean_squared_error: 65841.9609 - val_loss: 4686392832.0000 - val_root_mean_squared_error: 68457.2344\n",
            "Epoch 75/100\n",
            "562/563 [============================>.] - ETA: 0s - loss: 4326678016.0000 - root_mean_squared_error: 65777.4922"
          ]
        },
        {
          "output_type": "stream",
          "name": "stderr",
          "text": [
            "WARNING:absl:Found untraced functions such as _update_step_xla while saving (showing 1 of 1). These functions will not be directly callable after loading.\n"
          ]
        },
        {
          "output_type": "stream",
          "name": "stdout",
          "text": [
            "\b\b\b\b\b\b\b\b\b\b\b\b\b\b\b\b\b\b\b\b\b\b\b\b\b\b\b\b\b\b\b\b\b\b\b\b\b\b\b\b\b\b\b\b\b\b\b\b\b\b\b\b\b\b\b\b\b\b\b\b\b\b\b\b\b\b\b\b\b\b\b\b\b\b\b\b\b\b\b\b\b\b\b\b\b\b\b\b\b\b\b\b\b\b\b\b\b\b\b\b\b\b\b\b\b\b\b\b\b\b\b\b\r563/563 [==============================] - 2s 3ms/step - loss: 4331063808.0000 - root_mean_squared_error: 65810.8203 - val_loss: 4679178752.0000 - val_root_mean_squared_error: 68404.5234\n",
            "Epoch 76/100\n",
            "538/563 [===========================>..] - ETA: 0s - loss: 4319308288.0000 - root_mean_squared_error: 65721.4453"
          ]
        },
        {
          "output_type": "stream",
          "name": "stderr",
          "text": [
            "WARNING:absl:Found untraced functions such as _update_step_xla while saving (showing 1 of 1). These functions will not be directly callable after loading.\n"
          ]
        },
        {
          "output_type": "stream",
          "name": "stdout",
          "text": [
            "\b\b\b\b\b\b\b\b\b\b\b\b\b\b\b\b\b\b\b\b\b\b\b\b\b\b\b\b\b\b\b\b\b\b\b\b\b\b\b\b\b\b\b\b\b\b\b\b\b\b\b\b\b\b\b\b\b\b\b\b\b\b\b\b\b\b\b\b\b\b\b\b\b\b\b\b\b\b\b\b\b\b\b\b\b\b\b\b\b\b\b\b\b\b\b\b\b\b\b\b\b\b\b\b\b\b\b\b\b\b\b\b\r563/563 [==============================] - 2s 3ms/step - loss: 4324018688.0000 - root_mean_squared_error: 65757.2734 - val_loss: 4675169280.0000 - val_root_mean_squared_error: 68375.2109\n",
            "Epoch 77/100\n",
            "563/563 [==============================] - 1s 2ms/step - loss: 4320873472.0000 - root_mean_squared_error: 65733.3516 - val_loss: 4681818112.0000 - val_root_mean_squared_error: 68423.8125\n",
            "Epoch 78/100\n",
            "550/563 [============================>.] - ETA: 0s - loss: 4322478592.0000 - root_mean_squared_error: 65745.5625"
          ]
        },
        {
          "output_type": "stream",
          "name": "stderr",
          "text": [
            "WARNING:absl:Found untraced functions such as _update_step_xla while saving (showing 1 of 1). These functions will not be directly callable after loading.\n"
          ]
        },
        {
          "output_type": "stream",
          "name": "stdout",
          "text": [
            "\b\b\b\b\b\b\b\b\b\b\b\b\b\b\b\b\b\b\b\b\b\b\b\b\b\b\b\b\b\b\b\b\b\b\b\b\b\b\b\b\b\b\b\b\b\b\b\b\b\b\b\b\b\b\b\b\b\b\b\b\b\b\b\b\b\b\b\b\b\b\b\b\b\b\b\b\b\b\b\b\b\b\b\b\b\b\b\b\b\b\b\b\b\b\b\b\b\b\b\b\b\b\b\b\b\b\b\b\b\b\b\b\r563/563 [==============================] - 2s 3ms/step - loss: 4317496320.0000 - root_mean_squared_error: 65707.6562 - val_loss: 4644343808.0000 - val_root_mean_squared_error: 68149.4219\n",
            "Epoch 79/100\n",
            "563/563 [==============================] - 1s 2ms/step - loss: 4313569280.0000 - root_mean_squared_error: 65677.7656 - val_loss: 4645838336.0000 - val_root_mean_squared_error: 68160.3906\n",
            "Epoch 80/100\n",
            "563/563 [==============================] - 1s 2ms/step - loss: 4309319680.0000 - root_mean_squared_error: 65645.4062 - val_loss: 4646952960.0000 - val_root_mean_squared_error: 68168.5625\n",
            "Epoch 81/100\n",
            "563/563 [==============================] - 1s 2ms/step - loss: 4304854528.0000 - root_mean_squared_error: 65611.3906 - val_loss: 4649668096.0000 - val_root_mean_squared_error: 68188.4766\n",
            "Epoch 82/100\n",
            "552/563 [============================>.] - ETA: 0s - loss: 4293935872.0000 - root_mean_squared_error: 65528.1289"
          ]
        },
        {
          "output_type": "stream",
          "name": "stderr",
          "text": [
            "WARNING:absl:Found untraced functions such as _update_step_xla while saving (showing 1 of 1). These functions will not be directly callable after loading.\n"
          ]
        },
        {
          "output_type": "stream",
          "name": "stdout",
          "text": [
            "\b\b\b\b\b\b\b\b\b\b\b\b\b\b\b\b\b\b\b\b\b\b\b\b\b\b\b\b\b\b\b\b\b\b\b\b\b\b\b\b\b\b\b\b\b\b\b\b\b\b\b\b\b\b\b\b\b\b\b\b\b\b\b\b\b\b\b\b\b\b\b\b\b\b\b\b\b\b\b\b\b\b\b\b\b\b\b\b\b\b\b\b\b\b\b\b\b\b\b\b\b\b\b\b\b\b\b\b\b\b\b\b\r563/563 [==============================] - 2s 3ms/step - loss: 4303778816.0000 - root_mean_squared_error: 65603.1953 - val_loss: 4620094976.0000 - val_root_mean_squared_error: 67971.2812\n",
            "Epoch 83/100\n",
            "563/563 [==============================] - 1s 2ms/step - loss: 4295638016.0000 - root_mean_squared_error: 65541.1172 - val_loss: 4648094208.0000 - val_root_mean_squared_error: 68176.9297\n",
            "Epoch 84/100\n",
            "563/563 [==============================] - 1s 2ms/step - loss: 4295075328.0000 - root_mean_squared_error: 65536.8203 - val_loss: 4622191616.0000 - val_root_mean_squared_error: 67986.7031\n",
            "Epoch 85/100\n",
            "563/563 [==============================] - 1s 2ms/step - loss: 4290507008.0000 - root_mean_squared_error: 65501.9609 - val_loss: 4625996288.0000 - val_root_mean_squared_error: 68014.6797\n",
            "Epoch 86/100\n",
            "537/563 [===========================>..] - ETA: 0s - loss: 4283466240.0000 - root_mean_squared_error: 65448.1953"
          ]
        },
        {
          "output_type": "stream",
          "name": "stderr",
          "text": [
            "WARNING:absl:Found untraced functions such as _update_step_xla while saving (showing 1 of 1). These functions will not be directly callable after loading.\n"
          ]
        },
        {
          "output_type": "stream",
          "name": "stdout",
          "text": [
            "\b\b\b\b\b\b\b\b\b\b\b\b\b\b\b\b\b\b\b\b\b\b\b\b\b\b\b\b\b\b\b\b\b\b\b\b\b\b\b\b\b\b\b\b\b\b\b\b\b\b\b\b\b\b\b\b\b\b\b\b\b\b\b\b\b\b\b\b\b\b\b\b\b\b\b\b\b\b\b\b\b\b\b\b\b\b\b\b\b\b\b\b\b\b\b\b\b\b\b\b\b\b\b\b\b\b\b\b\b\b\b\b\r563/563 [==============================] - 2s 3ms/step - loss: 4287832832.0000 - root_mean_squared_error: 65481.5469 - val_loss: 4607663616.0000 - val_root_mean_squared_error: 67879.7734\n",
            "Epoch 87/100\n",
            "563/563 [==============================] - 1s 2ms/step - loss: 4283773696.0000 - root_mean_squared_error: 65450.5430 - val_loss: 4622470656.0000 - val_root_mean_squared_error: 67988.7500\n",
            "Epoch 88/100\n",
            "563/563 [==============================] - 1s 2ms/step - loss: 4280122368.0000 - root_mean_squared_error: 65422.6445 - val_loss: 4626534400.0000 - val_root_mean_squared_error: 68018.6328\n",
            "Epoch 89/100\n",
            "546/563 [============================>.] - ETA: 0s - loss: 4283937024.0000 - root_mean_squared_error: 65451.7930"
          ]
        },
        {
          "output_type": "stream",
          "name": "stderr",
          "text": [
            "WARNING:absl:Found untraced functions such as _update_step_xla while saving (showing 1 of 1). These functions will not be directly callable after loading.\n"
          ]
        },
        {
          "output_type": "stream",
          "name": "stdout",
          "text": [
            "\b\b\b\b\b\b\b\b\b\b\b\b\b\b\b\b\b\b\b\b\b\b\b\b\b\b\b\b\b\b\b\b\b\b\b\b\b\b\b\b\b\b\b\b\b\b\b\b\b\b\b\b\b\b\b\b\b\b\b\b\b\b\b\b\b\b\b\b\b\b\b\b\b\b\b\b\b\b\b\b\b\b\b\b\b\b\b\b\b\b\b\b\b\b\b\b\b\b\b\b\b\b\b\b\b\b\b\b\b\b\b\b\r563/563 [==============================] - 2s 3ms/step - loss: 4278330368.0000 - root_mean_squared_error: 65408.9453 - val_loss: 4602330624.0000 - val_root_mean_squared_error: 67840.4766\n",
            "Epoch 90/100\n",
            "545/563 [============================>.] - ETA: 0s - loss: 4268630272.0000 - root_mean_squared_error: 65334.7539"
          ]
        },
        {
          "output_type": "stream",
          "name": "stderr",
          "text": [
            "WARNING:absl:Found untraced functions such as _update_step_xla while saving (showing 1 of 1). These functions will not be directly callable after loading.\n"
          ]
        },
        {
          "output_type": "stream",
          "name": "stdout",
          "text": [
            "\b\b\b\b\b\b\b\b\b\b\b\b\b\b\b\b\b\b\b\b\b\b\b\b\b\b\b\b\b\b\b\b\b\b\b\b\b\b\b\b\b\b\b\b\b\b\b\b\b\b\b\b\b\b\b\b\b\b\b\b\b\b\b\b\b\b\b\b\b\b\b\b\b\b\b\b\b\b\b\b\b\b\b\b\b\b\b\b\b\b\b\b\b\b\b\b\b\b\b\b\b\b\b\b\b\b\b\b\b\b\b\b\r563/563 [==============================] - 2s 3ms/step - loss: 4274721024.0000 - root_mean_squared_error: 65381.3516 - val_loss: 4590673920.0000 - val_root_mean_squared_error: 67754.5156\n",
            "Epoch 91/100\n",
            "553/563 [============================>.] - ETA: 0s - loss: 4284411392.0000 - root_mean_squared_error: 65455.4141"
          ]
        },
        {
          "output_type": "stream",
          "name": "stderr",
          "text": [
            "WARNING:absl:Found untraced functions such as _update_step_xla while saving (showing 1 of 1). These functions will not be directly callable after loading.\n"
          ]
        },
        {
          "output_type": "stream",
          "name": "stdout",
          "text": [
            "\b\b\b\b\b\b\b\b\b\b\b\b\b\b\b\b\b\b\b\b\b\b\b\b\b\b\b\b\b\b\b\b\b\b\b\b\b\b\b\b\b\b\b\b\b\b\b\b\b\b\b\b\b\b\b\b\b\b\b\b\b\b\b\b\b\b\b\b\b\b\b\b\b\b\b\b\b\b\b\b\b\b\b\b\b\b\b\b\b\b\b\b\b\b\b\b\b\b\b\b\b\b\b\b\b\b\b\b\b\b\b\b\r563/563 [==============================] - 2s 3ms/step - loss: 4272617728.0000 - root_mean_squared_error: 65365.2656 - val_loss: 4589640192.0000 - val_root_mean_squared_error: 67746.8828\n",
            "Epoch 92/100\n",
            "563/563 [==============================] - 1s 2ms/step - loss: 4268986880.0000 - root_mean_squared_error: 65337.4844 - val_loss: 4606009856.0000 - val_root_mean_squared_error: 67867.5938\n",
            "Epoch 93/100\n",
            "563/563 [==============================] - 1s 3ms/step - loss: 4267017472.0000 - root_mean_squared_error: 65322.4102 - val_loss: 4590272000.0000 - val_root_mean_squared_error: 67751.5469\n",
            "Epoch 94/100\n",
            "555/563 [============================>.] - ETA: 0s - loss: 4256111360.0000 - root_mean_squared_error: 65238.8789"
          ]
        },
        {
          "output_type": "stream",
          "name": "stderr",
          "text": [
            "WARNING:absl:Found untraced functions such as _update_step_xla while saving (showing 1 of 1). These functions will not be directly callable after loading.\n"
          ]
        },
        {
          "output_type": "stream",
          "name": "stdout",
          "text": [
            "\b\b\b\b\b\b\b\b\b\b\b\b\b\b\b\b\b\b\b\b\b\b\b\b\b\b\b\b\b\b\b\b\b\b\b\b\b\b\b\b\b\b\b\b\b\b\b\b\b\b\b\b\b\b\b\b\b\b\b\b\b\b\b\b\b\b\b\b\b\b\b\b\b\b\b\b\b\b\b\b\b\b\b\b\b\b\b\b\b\b\b\b\b\b\b\b\b\b\b\b\b\b\b\b\b\b\b\b\b\b\b\b\r563/563 [==============================] - 2s 4ms/step - loss: 4265174272.0000 - root_mean_squared_error: 65308.3008 - val_loss: 4586402816.0000 - val_root_mean_squared_error: 67722.9844\n",
            "Epoch 95/100\n",
            "549/563 [============================>.] - ETA: 0s - loss: 4263521024.0000 - root_mean_squared_error: 65295.6445"
          ]
        },
        {
          "output_type": "stream",
          "name": "stderr",
          "text": [
            "WARNING:absl:Found untraced functions such as _update_step_xla while saving (showing 1 of 1). These functions will not be directly callable after loading.\n"
          ]
        },
        {
          "output_type": "stream",
          "name": "stdout",
          "text": [
            "\b\b\b\b\b\b\b\b\b\b\b\b\b\b\b\b\b\b\b\b\b\b\b\b\b\b\b\b\b\b\b\b\b\b\b\b\b\b\b\b\b\b\b\b\b\b\b\b\b\b\b\b\b\b\b\b\b\b\b\b\b\b\b\b\b\b\b\b\b\b\b\b\b\b\b\b\b\b\b\b\b\b\b\b\b\b\b\b\b\b\b\b\b\b\b\b\b\b\b\b\b\b\b\b\b\b\b\b\b\b\b\b\r563/563 [==============================] - 2s 3ms/step - loss: 4262233600.0000 - root_mean_squared_error: 65285.7852 - val_loss: 4581140480.0000 - val_root_mean_squared_error: 67684.1250\n",
            "Epoch 96/100\n",
            "563/563 [==============================] - 1s 2ms/step - loss: 4260246016.0000 - root_mean_squared_error: 65270.5586 - val_loss: 4601451008.0000 - val_root_mean_squared_error: 67833.9922\n",
            "Epoch 97/100\n",
            "540/563 [===========================>..] - ETA: 0s - loss: 4274083584.0000 - root_mean_squared_error: 65376.4766"
          ]
        },
        {
          "output_type": "stream",
          "name": "stderr",
          "text": [
            "WARNING:absl:Found untraced functions such as _update_step_xla while saving (showing 1 of 1). These functions will not be directly callable after loading.\n"
          ]
        },
        {
          "output_type": "stream",
          "name": "stdout",
          "text": [
            "\b\b\b\b\b\b\b\b\b\b\b\b\b\b\b\b\b\b\b\b\b\b\b\b\b\b\b\b\b\b\b\b\b\b\b\b\b\b\b\b\b\b\b\b\b\b\b\b\b\b\b\b\b\b\b\b\b\b\b\b\b\b\b\b\b\b\b\b\b\b\b\b\b\b\b\b\b\b\b\b\b\b\b\b\b\b\b\b\b\b\b\b\b\b\b\b\b\b\b\b\b\b\b\b\b\b\b\b\b\b\b\b\r563/563 [==============================] - 2s 3ms/step - loss: 4258156800.0000 - root_mean_squared_error: 65254.5547 - val_loss: 4574509568.0000 - val_root_mean_squared_error: 67635.1172\n",
            "Epoch 98/100\n",
            "563/563 [==============================] - 1s 2ms/step - loss: 4256194304.0000 - root_mean_squared_error: 65239.5156 - val_loss: 4594597376.0000 - val_root_mean_squared_error: 67783.4609\n",
            "Epoch 99/100\n",
            "563/563 [==============================] - 1s 2ms/step - loss: 4251822848.0000 - root_mean_squared_error: 65206.0039 - val_loss: 4612513792.0000 - val_root_mean_squared_error: 67915.4922\n",
            "Epoch 100/100\n",
            "563/563 [==============================] - 1s 2ms/step - loss: 4251292928.0000 - root_mean_squared_error: 65201.9414 - val_loss: 4577694720.0000 - val_root_mean_squared_error: 67658.6641\n"
          ]
        },
        {
          "output_type": "execute_result",
          "data": {
            "text/plain": [
              "<keras.callbacks.History at 0x7ff0480b9f00>"
            ]
          },
          "metadata": {},
          "execution_count": 80
        }
      ]
    },
    {
      "cell_type": "code",
      "source": [
        "from tensorflow.keras.models import load_model\n",
        "simple_nn = load_model('models/simple_nn')\n",
        "mse(simple_nn.predict(X_train), y_train, squared=False), mse(simple_nn.predict(X_val), y_val, squared=False)\n"
      ],
      "metadata": {
        "colab": {
          "base_uri": "https://localhost:8080/"
        },
        "id": "WEGRodhYzXL_",
        "outputId": "bd20c528-6b2a-47f9-8271-9a001d18fbc3"
      },
      "execution_count": 81,
      "outputs": [
        {
          "output_type": "stream",
          "name": "stdout",
          "text": [
            "563/563 [==============================] - 2s 4ms/step\n",
            "39/39 [==============================] - 0s 1ms/step\n"
          ]
        },
        {
          "output_type": "execute_result",
          "data": {
            "text/plain": [
              "(65205.85132125651, 67635.11904773109)"
            ]
          },
          "metadata": {},
          "execution_count": 81
        }
      ]
    },
    {
      "cell_type": "code",
      "source": [
        "medium_nn = Sequential()\n",
        "medium_nn.add(InputLayer((13,)))\n",
        "medium_nn.add(Dense(32, 'relu'))\n",
        "medium_nn.add(Dense(16, 'relu'))\n",
        "medium_nn.add(Dense(1, 'linear'))\n",
        "\n",
        "opt = Adam(learning_rate=.1)\n",
        "cp = ModelCheckpoint('models/medium_nn', save_best_only=True)\n",
        "medium_nn.compile(optimizer=opt, loss='mse', metrics=[RootMeanSquaredError()])\n",
        "medium_nn.fit(x=X_train, y=y_train, validation_data=(X_val, y_val), callbacks=[cp], epochs=100)"
      ],
      "metadata": {
        "colab": {
          "base_uri": "https://localhost:8080/"
        },
        "id": "1U9qzg1i0tQa",
        "outputId": "4cb8f104-561b-41e8-e986-47eaa2f9f255"
      },
      "execution_count": 82,
      "outputs": [
        {
          "output_type": "stream",
          "name": "stdout",
          "text": [
            "Epoch 1/100\n",
            "557/563 [============================>.] - ETA: 0s - loss: 8680950784.0000 - root_mean_squared_error: 93171.6172"
          ]
        },
        {
          "output_type": "stream",
          "name": "stderr",
          "text": [
            "WARNING:absl:Found untraced functions such as _update_step_xla while saving (showing 1 of 1). These functions will not be directly callable after loading.\n"
          ]
        },
        {
          "output_type": "stream",
          "name": "stdout",
          "text": [
            "\b\b\b\b\b\b\b\b\b\b\b\b\b\b\b\b\b\b\b\b\b\b\b\b\b\b\b\b\b\b\b\b\b\b\b\b\b\b\b\b\b\b\b\b\b\b\b\b\b\b\b\b\b\b\b\b\b\b\b\b\b\b\b\b\b\b\b\b\b\b\b\b\b\b\b\b\b\b\b\b\b\b\b\b\b\b\b\b\b\b\b\b\b\b\b\b\b\b\b\b\b\b\b\b\b\b\b\b\b\b\b\b\r563/563 [==============================] - 5s 4ms/step - loss: 8644748288.0000 - root_mean_squared_error: 92977.1406 - val_loss: 4821128704.0000 - val_root_mean_squared_error: 69434.3516\n",
            "Epoch 2/100\n",
            "563/563 [==============================] - 1s 2ms/step - loss: 4477770240.0000 - root_mean_squared_error: 66916.1406 - val_loss: 5335813120.0000 - val_root_mean_squared_error: 73046.6484\n",
            "Epoch 3/100\n",
            "553/563 [============================>.] - ETA: 0s - loss: 4382116864.0000 - root_mean_squared_error: 66197.5625"
          ]
        },
        {
          "output_type": "stream",
          "name": "stderr",
          "text": [
            "WARNING:absl:Found untraced functions such as _update_step_xla while saving (showing 1 of 1). These functions will not be directly callable after loading.\n"
          ]
        },
        {
          "output_type": "stream",
          "name": "stdout",
          "text": [
            "\b\b\b\b\b\b\b\b\b\b\b\b\b\b\b\b\b\b\b\b\b\b\b\b\b\b\b\b\b\b\b\b\b\b\b\b\b\b\b\b\b\b\b\b\b\b\b\b\b\b\b\b\b\b\b\b\b\b\b\b\b\b\b\b\b\b\b\b\b\b\b\b\b\b\b\b\b\b\b\b\b\b\b\b\b\b\b\b\b\b\b\b\b\b\b\b\b\b\b\b\b\b\b\b\b\b\b\b\b\b\b\b\r563/563 [==============================] - 2s 3ms/step - loss: 4365557248.0000 - root_mean_squared_error: 66072.3672 - val_loss: 4565213696.0000 - val_root_mean_squared_error: 67566.3672\n",
            "Epoch 4/100\n",
            "563/563 [==============================] - 1s 2ms/step - loss: 4267250944.0000 - root_mean_squared_error: 65324.1992 - val_loss: 4620660224.0000 - val_root_mean_squared_error: 67975.4375\n",
            "Epoch 5/100\n",
            "563/563 [==============================] - 1s 2ms/step - loss: 4268915968.0000 - root_mean_squared_error: 65336.9414 - val_loss: 4672969728.0000 - val_root_mean_squared_error: 68359.1250\n",
            "Epoch 6/100\n",
            "555/563 [============================>.] - ETA: 0s - loss: 4212755200.0000 - root_mean_squared_error: 64905.7422"
          ]
        },
        {
          "output_type": "stream",
          "name": "stderr",
          "text": [
            "WARNING:absl:Found untraced functions such as _update_step_xla while saving (showing 1 of 1). These functions will not be directly callable after loading.\n"
          ]
        },
        {
          "output_type": "stream",
          "name": "stdout",
          "text": [
            "\b\b\b\b\b\b\b\b\b\b\b\b\b\b\b\b\b\b\b\b\b\b\b\b\b\b\b\b\b\b\b\b\b\b\b\b\b\b\b\b\b\b\b\b\b\b\b\b\b\b\b\b\b\b\b\b\b\b\b\b\b\b\b\b\b\b\b\b\b\b\b\b\b\b\b\b\b\b\b\b\b\b\b\b\b\b\b\b\b\b\b\b\b\b\b\b\b\b\b\b\b\b\b\b\b\b\b\b\b\b\b\b\r563/563 [==============================] - 2s 3ms/step - loss: 4210387712.0000 - root_mean_squared_error: 64887.5000 - val_loss: 4492559360.0000 - val_root_mean_squared_error: 67026.5547\n",
            "Epoch 7/100\n",
            "563/563 [==============================] - 1s 2ms/step - loss: 4174520320.0000 - root_mean_squared_error: 64610.5273 - val_loss: 4710092288.0000 - val_root_mean_squared_error: 68630.1094\n",
            "Epoch 8/100\n",
            "562/563 [============================>.] - ETA: 0s - loss: 4138380544.0000 - root_mean_squared_error: 64330.2461"
          ]
        },
        {
          "output_type": "stream",
          "name": "stderr",
          "text": [
            "WARNING:absl:Found untraced functions such as _update_step_xla while saving (showing 1 of 1). These functions will not be directly callable after loading.\n"
          ]
        },
        {
          "output_type": "stream",
          "name": "stdout",
          "text": [
            "\b\b\b\b\b\b\b\b\b\b\b\b\b\b\b\b\b\b\b\b\b\b\b\b\b\b\b\b\b\b\b\b\b\b\b\b\b\b\b\b\b\b\b\b\b\b\b\b\b\b\b\b\b\b\b\b\b\b\b\b\b\b\b\b\b\b\b\b\b\b\b\b\b\b\b\b\b\b\b\b\b\b\b\b\b\b\b\b\b\b\b\b\b\b\b\b\b\b\b\b\b\b\b\b\b\b\b\b\b\b\b\b\r563/563 [==============================] - 2s 4ms/step - loss: 4137951744.0000 - root_mean_squared_error: 64326.9141 - val_loss: 4323846656.0000 - val_root_mean_squared_error: 65755.9609\n",
            "Epoch 9/100\n",
            "563/563 [==============================] - 1s 3ms/step - loss: 4139717120.0000 - root_mean_squared_error: 64340.6328 - val_loss: 4492347392.0000 - val_root_mean_squared_error: 67024.9766\n",
            "Epoch 10/100\n",
            "561/563 [============================>.] - ETA: 0s - loss: 4109030912.0000 - root_mean_squared_error: 64101.7227"
          ]
        },
        {
          "output_type": "stream",
          "name": "stderr",
          "text": [
            "WARNING:absl:Found untraced functions such as _update_step_xla while saving (showing 1 of 1). These functions will not be directly callable after loading.\n"
          ]
        },
        {
          "output_type": "stream",
          "name": "stdout",
          "text": [
            "\b\b\b\b\b\b\b\b\b\b\b\b\b\b\b\b\b\b\b\b\b\b\b\b\b\b\b\b\b\b\b\b\b\b\b\b\b\b\b\b\b\b\b\b\b\b\b\b\b\b\b\b\b\b\b\b\b\b\b\b\b\b\b\b\b\b\b\b\b\b\b\b\b\b\b\b\b\b\b\b\b\b\b\b\b\b\b\b\b\b\b\b\b\b\b\b\b\b\b\b\b\b\b\b\b\b\b\b\b\b\b\b\r563/563 [==============================] - 2s 4ms/step - loss: 4108042496.0000 - root_mean_squared_error: 64094.0117 - val_loss: 4270436352.0000 - val_root_mean_squared_error: 65348.5742\n",
            "Epoch 11/100\n",
            "563/563 [==============================] - 1s 2ms/step - loss: 4080331264.0000 - root_mean_squared_error: 63877.4727 - val_loss: 4423591424.0000 - val_root_mean_squared_error: 66510.0859\n",
            "Epoch 12/100\n",
            "563/563 [==============================] - 1s 2ms/step - loss: 4085465600.0000 - root_mean_squared_error: 63917.6484 - val_loss: 4453456384.0000 - val_root_mean_squared_error: 66734.2188\n",
            "Epoch 13/100\n",
            "563/563 [==============================] - 1s 2ms/step - loss: 4043700992.0000 - root_mean_squared_error: 63590.1016 - val_loss: 4588140032.0000 - val_root_mean_squared_error: 67735.8125\n",
            "Epoch 14/100\n",
            "563/563 [==============================] - 1s 2ms/step - loss: 4049565440.0000 - root_mean_squared_error: 63636.1953 - val_loss: 4500640768.0000 - val_root_mean_squared_error: 67086.8125\n",
            "Epoch 15/100\n",
            "563/563 [==============================] - 1s 2ms/step - loss: 4026127360.0000 - root_mean_squared_error: 63451.7734 - val_loss: 4431469568.0000 - val_root_mean_squared_error: 66569.2812\n",
            "Epoch 16/100\n",
            "563/563 [==============================] - 1s 2ms/step - loss: 4063843840.0000 - root_mean_squared_error: 63748.2852 - val_loss: 4596210176.0000 - val_root_mean_squared_error: 67795.3516\n",
            "Epoch 17/100\n",
            "563/563 [==============================] - 1s 2ms/step - loss: 4021693440.0000 - root_mean_squared_error: 63416.8242 - val_loss: 4451302912.0000 - val_root_mean_squared_error: 66718.0859\n",
            "Epoch 18/100\n",
            "563/563 [==============================] - 1s 2ms/step - loss: 4007713792.0000 - root_mean_squared_error: 63306.5078 - val_loss: 4437356544.0000 - val_root_mean_squared_error: 66613.4844\n",
            "Epoch 19/100\n",
            "563/563 [==============================] - 2s 3ms/step - loss: 4027131136.0000 - root_mean_squared_error: 63459.6797 - val_loss: 4377496576.0000 - val_root_mean_squared_error: 66162.6562\n",
            "Epoch 20/100\n",
            "563/563 [==============================] - 2s 3ms/step - loss: 3990474240.0000 - root_mean_squared_error: 63170.1992 - val_loss: 4397000704.0000 - val_root_mean_squared_error: 66309.8828\n",
            "Epoch 21/100\n",
            "546/563 [============================>.] - ETA: 0s - loss: 4016000000.0000 - root_mean_squared_error: 63371.9180"
          ]
        },
        {
          "output_type": "stream",
          "name": "stderr",
          "text": [
            "WARNING:absl:Found untraced functions such as _update_step_xla while saving (showing 1 of 1). These functions will not be directly callable after loading.\n"
          ]
        },
        {
          "output_type": "stream",
          "name": "stdout",
          "text": [
            "\b\b\b\b\b\b\b\b\b\b\b\b\b\b\b\b\b\b\b\b\b\b\b\b\b\b\b\b\b\b\b\b\b\b\b\b\b\b\b\b\b\b\b\b\b\b\b\b\b\b\b\b\b\b\b\b\b\b\b\b\b\b\b\b\b\b\b\b\b\b\b\b\b\b\b\b\b\b\b\b\b\b\b\b\b\b\b\b\b\b\b\b\b\b\b\b\b\b\b\b\b\b\b\b\b\b\b\b\b\b\b\b\r563/563 [==============================] - 2s 4ms/step - loss: 4011709696.0000 - root_mean_squared_error: 63338.0586 - val_loss: 4262810880.0000 - val_root_mean_squared_error: 65290.2070\n",
            "Epoch 22/100\n",
            "563/563 [==============================] - 1s 2ms/step - loss: 4007300608.0000 - root_mean_squared_error: 63303.2422 - val_loss: 4472153088.0000 - val_root_mean_squared_error: 66874.1562\n",
            "Epoch 23/100\n",
            "563/563 [==============================] - 1s 2ms/step - loss: 4004896256.0000 - root_mean_squared_error: 63284.2500 - val_loss: 4345479680.0000 - val_root_mean_squared_error: 65920.2500\n",
            "Epoch 24/100\n",
            "541/563 [===========================>..] - ETA: 0s - loss: 3970170624.0000 - root_mean_squared_error: 63009.2891"
          ]
        },
        {
          "output_type": "stream",
          "name": "stderr",
          "text": [
            "WARNING:absl:Found untraced functions such as _update_step_xla while saving (showing 1 of 1). These functions will not be directly callable after loading.\n"
          ]
        },
        {
          "output_type": "stream",
          "name": "stdout",
          "text": [
            "\b\b\b\b\b\b\b\b\b\b\b\b\b\b\b\b\b\b\b\b\b\b\b\b\b\b\b\b\b\b\b\b\b\b\b\b\b\b\b\b\b\b\b\b\b\b\b\b\b\b\b\b\b\b\b\b\b\b\b\b\b\b\b\b\b\b\b\b\b\b\b\b\b\b\b\b\b\b\b\b\b\b\b\b\b\b\b\b\b\b\b\b\b\b\b\b\b\b\b\b\b\b\b\b\b\b\b\b\b\b\b\b\r563/563 [==============================] - 2s 3ms/step - loss: 3968007424.0000 - root_mean_squared_error: 62992.1211 - val_loss: 4251903744.0000 - val_root_mean_squared_error: 65206.6250\n",
            "Epoch 25/100\n",
            "563/563 [==============================] - 1s 2ms/step - loss: 3994807552.0000 - root_mean_squared_error: 63204.4883 - val_loss: 4332514816.0000 - val_root_mean_squared_error: 65821.8438\n",
            "Epoch 26/100\n",
            "555/563 [============================>.] - ETA: 0s - loss: 3933027328.0000 - root_mean_squared_error: 62713.8516"
          ]
        },
        {
          "output_type": "stream",
          "name": "stderr",
          "text": [
            "WARNING:absl:Found untraced functions such as _update_step_xla while saving (showing 1 of 1). These functions will not be directly callable after loading.\n"
          ]
        },
        {
          "output_type": "stream",
          "name": "stdout",
          "text": [
            "\b\b\b\b\b\b\b\b\b\b\b\b\b\b\b\b\b\b\b\b\b\b\b\b\b\b\b\b\b\b\b\b\b\b\b\b\b\b\b\b\b\b\b\b\b\b\b\b\b\b\b\b\b\b\b\b\b\b\b\b\b\b\b\b\b\b\b\b\b\b\b\b\b\b\b\b\b\b\b\b\b\b\b\b\b\b\b\b\b\b\b\b\b\b\b\b\b\b\b\b\b\b\b\b\b\b\b\b\b\b\b\b\r563/563 [==============================] - 2s 3ms/step - loss: 3946710016.0000 - root_mean_squared_error: 62822.8477 - val_loss: 4225670144.0000 - val_root_mean_squared_error: 65005.1562\n",
            "Epoch 27/100\n",
            "563/563 [==============================] - 1s 2ms/step - loss: 3834604800.0000 - root_mean_squared_error: 61924.1875 - val_loss: 4405648384.0000 - val_root_mean_squared_error: 66375.0547\n",
            "Epoch 28/100\n",
            "548/563 [============================>.] - ETA: 0s - loss: 3782714624.0000 - root_mean_squared_error: 61503.7773"
          ]
        },
        {
          "output_type": "stream",
          "name": "stderr",
          "text": [
            "WARNING:absl:Found untraced functions such as _update_step_xla while saving (showing 1 of 1). These functions will not be directly callable after loading.\n"
          ]
        },
        {
          "output_type": "stream",
          "name": "stdout",
          "text": [
            "\b\b\b\b\b\b\b\b\b\b\b\b\b\b\b\b\b\b\b\b\b\b\b\b\b\b\b\b\b\b\b\b\b\b\b\b\b\b\b\b\b\b\b\b\b\b\b\b\b\b\b\b\b\b\b\b\b\b\b\b\b\b\b\b\b\b\b\b\b\b\b\b\b\b\b\b\b\b\b\b\b\b\b\b\b\b\b\b\b\b\b\b\b\b\b\b\b\b\b\b\b\b\b\b\b\b\b\b\b\b\b\b\r563/563 [==============================] - 2s 4ms/step - loss: 3771811840.0000 - root_mean_squared_error: 61415.0781 - val_loss: 4057255936.0000 - val_root_mean_squared_error: 63696.5938\n",
            "Epoch 29/100\n",
            "563/563 [==============================] - 2s 3ms/step - loss: 3692169728.0000 - root_mean_squared_error: 60763.2266 - val_loss: 4147140864.0000 - val_root_mean_squared_error: 64398.2969\n",
            "Epoch 30/100\n",
            "560/563 [============================>.] - ETA: 0s - loss: 3627600128.0000 - root_mean_squared_error: 60229.5625"
          ]
        },
        {
          "output_type": "stream",
          "name": "stderr",
          "text": [
            "WARNING:absl:Found untraced functions such as _update_step_xla while saving (showing 1 of 1). These functions will not be directly callable after loading.\n"
          ]
        },
        {
          "output_type": "stream",
          "name": "stdout",
          "text": [
            "\b\b\b\b\b\b\b\b\b\b\b\b\b\b\b\b\b\b\b\b\b\b\b\b\b\b\b\b\b\b\b\b\b\b\b\b\b\b\b\b\b\b\b\b\b\b\b\b\b\b\b\b\b\b\b\b\b\b\b\b\b\b\b\b\b\b\b\b\b\b\b\b\b\b\b\b\b\b\b\b\b\b\b\b\b\b\b\b\b\b\b\b\b\b\b\b\b\b\b\b\b\b\b\b\b\b\b\b\b\b\b\b\r563/563 [==============================] - 3s 6ms/step - loss: 3624094720.0000 - root_mean_squared_error: 60200.4531 - val_loss: 3971716608.0000 - val_root_mean_squared_error: 63021.5586\n",
            "Epoch 31/100\n",
            "563/563 [==============================] - 1s 2ms/step - loss: 3535510528.0000 - root_mean_squared_error: 59460.1602 - val_loss: 4002117888.0000 - val_root_mean_squared_error: 63262.2930\n",
            "Epoch 32/100\n",
            "563/563 [==============================] - 1s 2ms/step - loss: 3471723776.0000 - root_mean_squared_error: 58921.3359 - val_loss: 4018190080.0000 - val_root_mean_squared_error: 63389.1953\n",
            "Epoch 33/100\n",
            "534/563 [===========================>..] - ETA: 0s - loss: 3449866752.0000 - root_mean_squared_error: 58735.5664"
          ]
        },
        {
          "output_type": "stream",
          "name": "stderr",
          "text": [
            "WARNING:absl:Found untraced functions such as _update_step_xla while saving (showing 1 of 1). These functions will not be directly callable after loading.\n"
          ]
        },
        {
          "output_type": "stream",
          "name": "stdout",
          "text": [
            "\b\b\b\b\b\b\b\b\b\b\b\b\b\b\b\b\b\b\b\b\b\b\b\b\b\b\b\b\b\b\b\b\b\b\b\b\b\b\b\b\b\b\b\b\b\b\b\b\b\b\b\b\b\b\b\b\b\b\b\b\b\b\b\b\b\b\b\b\b\b\b\b\b\b\b\b\b\b\b\b\b\b\b\b\b\b\b\b\b\b\b\b\b\b\b\b\b\b\b\b\b\b\b\b\b\b\b\b\b\b\b\b\r563/563 [==============================] - 2s 3ms/step - loss: 3438140672.0000 - root_mean_squared_error: 58635.6602 - val_loss: 3924478720.0000 - val_root_mean_squared_error: 62645.6602\n",
            "Epoch 34/100\n",
            "539/563 [===========================>..] - ETA: 0s - loss: 3388779008.0000 - root_mean_squared_error: 58213.2188"
          ]
        },
        {
          "output_type": "stream",
          "name": "stderr",
          "text": [
            "WARNING:absl:Found untraced functions such as _update_step_xla while saving (showing 1 of 1). These functions will not be directly callable after loading.\n"
          ]
        },
        {
          "output_type": "stream",
          "name": "stdout",
          "text": [
            "\b\b\b\b\b\b\b\b\b\b\b\b\b\b\b\b\b\b\b\b\b\b\b\b\b\b\b\b\b\b\b\b\b\b\b\b\b\b\b\b\b\b\b\b\b\b\b\b\b\b\b\b\b\b\b\b\b\b\b\b\b\b\b\b\b\b\b\b\b\b\b\b\b\b\b\b\b\b\b\b\b\b\b\b\b\b\b\b\b\b\b\b\b\b\b\b\b\b\b\b\b\b\b\b\b\b\b\b\b\b\b\b\r563/563 [==============================] - 2s 3ms/step - loss: 3384515584.0000 - root_mean_squared_error: 58176.5898 - val_loss: 3734369024.0000 - val_root_mean_squared_error: 61109.4844\n",
            "Epoch 35/100\n",
            "563/563 [==============================] - 1s 2ms/step - loss: 3389398272.0000 - root_mean_squared_error: 58218.5391 - val_loss: 3765837056.0000 - val_root_mean_squared_error: 61366.4180\n",
            "Epoch 36/100\n",
            "540/563 [===========================>..] - ETA: 0s - loss: 3333986816.0000 - root_mean_squared_error: 57740.6875"
          ]
        },
        {
          "output_type": "stream",
          "name": "stderr",
          "text": [
            "WARNING:absl:Found untraced functions such as _update_step_xla while saving (showing 1 of 1). These functions will not be directly callable after loading.\n"
          ]
        },
        {
          "output_type": "stream",
          "name": "stdout",
          "text": [
            "\b\b\b\b\b\b\b\b\b\b\b\b\b\b\b\b\b\b\b\b\b\b\b\b\b\b\b\b\b\b\b\b\b\b\b\b\b\b\b\b\b\b\b\b\b\b\b\b\b\b\b\b\b\b\b\b\b\b\b\b\b\b\b\b\b\b\b\b\b\b\b\b\b\b\b\b\b\b\b\b\b\b\b\b\b\b\b\b\b\b\b\b\b\b\b\b\b\b\b\b\b\b\b\b\b\b\b\b\b\b\b\b\r563/563 [==============================] - 2s 3ms/step - loss: 3327365376.0000 - root_mean_squared_error: 57683.3203 - val_loss: 3730285824.0000 - val_root_mean_squared_error: 61076.0664\n",
            "Epoch 37/100\n",
            "549/563 [============================>.] - ETA: 0s - loss: 3320264192.0000 - root_mean_squared_error: 57621.7344"
          ]
        },
        {
          "output_type": "stream",
          "name": "stderr",
          "text": [
            "WARNING:absl:Found untraced functions such as _update_step_xla while saving (showing 1 of 1). These functions will not be directly callable after loading.\n"
          ]
        },
        {
          "output_type": "stream",
          "name": "stdout",
          "text": [
            "\b\b\b\b\b\b\b\b\b\b\b\b\b\b\b\b\b\b\b\b\b\b\b\b\b\b\b\b\b\b\b\b\b\b\b\b\b\b\b\b\b\b\b\b\b\b\b\b\b\b\b\b\b\b\b\b\b\b\b\b\b\b\b\b\b\b\b\b\b\b\b\b\b\b\b\b\b\b\b\b\b\b\b\b\b\b\b\b\b\b\b\b\b\b\b\b\b\b\b\b\b\b\b\b\b\b\b\b\b\b\b\b\r563/563 [==============================] - 3s 4ms/step - loss: 3315684352.0000 - root_mean_squared_error: 57581.9805 - val_loss: 3639201024.0000 - val_root_mean_squared_error: 60325.7891\n",
            "Epoch 38/100\n",
            "556/563 [============================>.] - ETA: 0s - loss: 3290650880.0000 - root_mean_squared_error: 57364.1953"
          ]
        },
        {
          "output_type": "stream",
          "name": "stderr",
          "text": [
            "WARNING:absl:Found untraced functions such as _update_step_xla while saving (showing 1 of 1). These functions will not be directly callable after loading.\n"
          ]
        },
        {
          "output_type": "stream",
          "name": "stdout",
          "text": [
            "\b\b\b\b\b\b\b\b\b\b\b\b\b\b\b\b\b\b\b\b\b\b\b\b\b\b\b\b\b\b\b\b\b\b\b\b\b\b\b\b\b\b\b\b\b\b\b\b\b\b\b\b\b\b\b\b\b\b\b\b\b\b\b\b\b\b\b\b\b\b\b\b\b\b\b\b\b\b\b\b\b\b\b\b\b\b\b\b\b\b\b\b\b\b\b\b\b\b\b\b\b\b\b\b\b\b\b\b\b\b\b\b\r563/563 [==============================] - 2s 4ms/step - loss: 3295352832.0000 - root_mean_squared_error: 57405.1641 - val_loss: 3561367808.0000 - val_root_mean_squared_error: 59677.1953\n",
            "Epoch 39/100\n",
            "563/563 [==============================] - 1s 2ms/step - loss: 3295855616.0000 - root_mean_squared_error: 57409.5430 - val_loss: 3597364480.0000 - val_root_mean_squared_error: 59978.0352\n",
            "Epoch 40/100\n",
            "563/563 [==============================] - 1s 2ms/step - loss: 3258471936.0000 - root_mean_squared_error: 57083.0273 - val_loss: 3639278848.0000 - val_root_mean_squared_error: 60326.4375\n",
            "Epoch 41/100\n",
            "563/563 [==============================] - 1s 2ms/step - loss: 3222944512.0000 - root_mean_squared_error: 56770.9844 - val_loss: 3579526912.0000 - val_root_mean_squared_error: 59829.1484\n",
            "Epoch 42/100\n",
            "563/563 [==============================] - 1s 2ms/step - loss: 3216736512.0000 - root_mean_squared_error: 56716.2812 - val_loss: 3626330880.0000 - val_root_mean_squared_error: 60219.0234\n",
            "Epoch 43/100\n",
            "563/563 [==============================] - 1s 2ms/step - loss: 3181951744.0000 - root_mean_squared_error: 56408.7930 - val_loss: 3611015424.0000 - val_root_mean_squared_error: 60091.7266\n",
            "Epoch 44/100\n",
            "543/563 [===========================>..] - ETA: 0s - loss: 3146521856.0000 - root_mean_squared_error: 56093.8672"
          ]
        },
        {
          "output_type": "stream",
          "name": "stderr",
          "text": [
            "WARNING:absl:Found untraced functions such as _update_step_xla while saving (showing 1 of 1). These functions will not be directly callable after loading.\n"
          ]
        },
        {
          "output_type": "stream",
          "name": "stdout",
          "text": [
            "\b\b\b\b\b\b\b\b\b\b\b\b\b\b\b\b\b\b\b\b\b\b\b\b\b\b\b\b\b\b\b\b\b\b\b\b\b\b\b\b\b\b\b\b\b\b\b\b\b\b\b\b\b\b\b\b\b\b\b\b\b\b\b\b\b\b\b\b\b\b\b\b\b\b\b\b\b\b\b\b\b\b\b\b\b\b\b\b\b\b\b\b\b\b\b\b\b\b\b\b\b\b\b\b\b\b\b\b\b\b\b\b\r563/563 [==============================] - 2s 3ms/step - loss: 3145486592.0000 - root_mean_squared_error: 56084.6367 - val_loss: 3526553600.0000 - val_root_mean_squared_error: 59384.7930\n",
            "Epoch 45/100\n",
            "540/563 [===========================>..] - ETA: 0s - loss: 3150995456.0000 - root_mean_squared_error: 56133.7266"
          ]
        },
        {
          "output_type": "stream",
          "name": "stderr",
          "text": [
            "WARNING:absl:Found untraced functions such as _update_step_xla while saving (showing 1 of 1). These functions will not be directly callable after loading.\n"
          ]
        },
        {
          "output_type": "stream",
          "name": "stdout",
          "text": [
            "\b\b\b\b\b\b\b\b\b\b\b\b\b\b\b\b\b\b\b\b\b\b\b\b\b\b\b\b\b\b\b\b\b\b\b\b\b\b\b\b\b\b\b\b\b\b\b\b\b\b\b\b\b\b\b\b\b\b\b\b\b\b\b\b\b\b\b\b\b\b\b\b\b\b\b\b\b\b\b\b\b\b\b\b\b\b\b\b\b\b\b\b\b\b\b\b\b\b\b\b\b\b\b\b\b\b\b\b\b\b\b\b\r563/563 [==============================] - 2s 3ms/step - loss: 3144265984.0000 - root_mean_squared_error: 56073.7539 - val_loss: 3480629760.0000 - val_root_mean_squared_error: 58996.8633\n",
            "Epoch 46/100\n",
            "563/563 [==============================] - 1s 2ms/step - loss: 3133246464.0000 - root_mean_squared_error: 55975.4102 - val_loss: 3536774144.0000 - val_root_mean_squared_error: 59470.7852\n",
            "Epoch 47/100\n",
            "563/563 [==============================] - 2s 3ms/step - loss: 3107091968.0000 - root_mean_squared_error: 55741.2969 - val_loss: 3559831808.0000 - val_root_mean_squared_error: 59664.3242\n",
            "Epoch 48/100\n",
            "544/563 [===========================>..] - ETA: 0s - loss: 3107816704.0000 - root_mean_squared_error: 55747.7969"
          ]
        },
        {
          "output_type": "stream",
          "name": "stderr",
          "text": [
            "WARNING:absl:Found untraced functions such as _update_step_xla while saving (showing 1 of 1). These functions will not be directly callable after loading.\n"
          ]
        },
        {
          "output_type": "stream",
          "name": "stdout",
          "text": [
            "\b\b\b\b\b\b\b\b\b\b\b\b\b\b\b\b\b\b\b\b\b\b\b\b\b\b\b\b\b\b\b\b\b\b\b\b\b\b\b\b\b\b\b\b\b\b\b\b\b\b\b\b\b\b\b\b\b\b\b\b\b\b\b\b\b\b\b\b\b\b\b\b\b\b\b\b\b\b\b\b\b\b\b\b\b\b\b\b\b\b\b\b\b\b\b\b\b\b\b\b\b\b\b\b\b\b\b\b\b\b\b\b\r563/563 [==============================] - 2s 4ms/step - loss: 3100990976.0000 - root_mean_squared_error: 55686.5430 - val_loss: 3430777088.0000 - val_root_mean_squared_error: 58572.8359\n",
            "Epoch 49/100\n",
            "563/563 [==============================] - 1s 2ms/step - loss: 3066462720.0000 - root_mean_squared_error: 55375.6523 - val_loss: 3557648384.0000 - val_root_mean_squared_error: 59646.0273\n",
            "Epoch 50/100\n",
            "562/563 [============================>.] - ETA: 0s - loss: 3083837696.0000 - root_mean_squared_error: 55532.3125"
          ]
        },
        {
          "output_type": "stream",
          "name": "stderr",
          "text": [
            "WARNING:absl:Found untraced functions such as _update_step_xla while saving (showing 1 of 1). These functions will not be directly callable after loading.\n"
          ]
        },
        {
          "output_type": "stream",
          "name": "stdout",
          "text": [
            "\b\b\b\b\b\b\b\b\b\b\b\b\b\b\b\b\b\b\b\b\b\b\b\b\b\b\b\b\b\b\b\b\b\b\b\b\b\b\b\b\b\b\b\b\b\b\b\b\b\b\b\b\b\b\b\b\b\b\b\b\b\b\b\b\b\b\b\b\b\b\b\b\b\b\b\b\b\b\b\b\b\b\b\b\b\b\b\b\b\b\b\b\b\b\b\b\b\b\b\b\b\b\b\b\b\b\b\b\b\b\b\b\r563/563 [==============================] - 2s 3ms/step - loss: 3082139648.0000 - root_mean_squared_error: 55517.0195 - val_loss: 3426878208.0000 - val_root_mean_squared_error: 58539.5430\n",
            "Epoch 51/100\n",
            "563/563 [==============================] - 1s 2ms/step - loss: 3060955648.0000 - root_mean_squared_error: 55325.9023 - val_loss: 3483514880.0000 - val_root_mean_squared_error: 59021.3086\n",
            "Epoch 52/100\n",
            "544/563 [===========================>..] - ETA: 0s - loss: 3008618752.0000 - root_mean_squared_error: 54850.8789"
          ]
        },
        {
          "output_type": "stream",
          "name": "stderr",
          "text": [
            "WARNING:absl:Found untraced functions such as _update_step_xla while saving (showing 1 of 1). These functions will not be directly callable after loading.\n"
          ]
        },
        {
          "output_type": "stream",
          "name": "stdout",
          "text": [
            "\b\b\b\b\b\b\b\b\b\b\b\b\b\b\b\b\b\b\b\b\b\b\b\b\b\b\b\b\b\b\b\b\b\b\b\b\b\b\b\b\b\b\b\b\b\b\b\b\b\b\b\b\b\b\b\b\b\b\b\b\b\b\b\b\b\b\b\b\b\b\b\b\b\b\b\b\b\b\b\b\b\b\b\b\b\b\b\b\b\b\b\b\b\b\b\b\b\b\b\b\b\b\b\b\b\b\b\b\b\b\b\b\r563/563 [==============================] - 2s 4ms/step - loss: 3014083584.0000 - root_mean_squared_error: 54900.6719 - val_loss: 3393921024.0000 - val_root_mean_squared_error: 58257.3672\n",
            "Epoch 53/100\n",
            "563/563 [==============================] - 1s 2ms/step - loss: 3022319616.0000 - root_mean_squared_error: 54975.6289 - val_loss: 3470740992.0000 - val_root_mean_squared_error: 58912.9961\n",
            "Epoch 54/100\n",
            "563/563 [==============================] - 1s 2ms/step - loss: 2997651712.0000 - root_mean_squared_error: 54750.8164 - val_loss: 3432283648.0000 - val_root_mean_squared_error: 58585.6953\n",
            "Epoch 55/100\n",
            "563/563 [==============================] - 1s 2ms/step - loss: 2983857664.0000 - root_mean_squared_error: 54624.6992 - val_loss: 3548457472.0000 - val_root_mean_squared_error: 59568.9297\n",
            "Epoch 56/100\n",
            "563/563 [==============================] - 1s 3ms/step - loss: 2997566464.0000 - root_mean_squared_error: 54750.0352 - val_loss: 3398118400.0000 - val_root_mean_squared_error: 58293.3828\n",
            "Epoch 57/100\n",
            "563/563 [==============================] - 2s 3ms/step - loss: 2980174080.0000 - root_mean_squared_error: 54590.9688 - val_loss: 3467112704.0000 - val_root_mean_squared_error: 58882.1953\n",
            "Epoch 58/100\n",
            "563/563 [==============================] - 2s 3ms/step - loss: 2977684480.0000 - root_mean_squared_error: 54568.1641 - val_loss: 3444091392.0000 - val_root_mean_squared_error: 58686.3828\n",
            "Epoch 59/100\n",
            "548/563 [============================>.] - ETA: 0s - loss: 2949422080.0000 - root_mean_squared_error: 54308.5820"
          ]
        },
        {
          "output_type": "stream",
          "name": "stderr",
          "text": [
            "WARNING:absl:Found untraced functions such as _update_step_xla while saving (showing 1 of 1). These functions will not be directly callable after loading.\n"
          ]
        },
        {
          "output_type": "stream",
          "name": "stdout",
          "text": [
            "\b\b\b\b\b\b\b\b\b\b\b\b\b\b\b\b\b\b\b\b\b\b\b\b\b\b\b\b\b\b\b\b\b\b\b\b\b\b\b\b\b\b\b\b\b\b\b\b\b\b\b\b\b\b\b\b\b\b\b\b\b\b\b\b\b\b\b\b\b\b\b\b\b\b\b\b\b\b\b\b\b\b\b\b\b\b\b\b\b\b\b\b\b\b\b\b\b\b\b\b\b\b\b\b\b\b\b\b\b\b\b\b\r563/563 [==============================] - 2s 3ms/step - loss: 2946365184.0000 - root_mean_squared_error: 54280.4297 - val_loss: 3335442176.0000 - val_root_mean_squared_error: 57753.2891\n",
            "Epoch 60/100\n",
            "563/563 [==============================] - 1s 2ms/step - loss: 2946889728.0000 - root_mean_squared_error: 54285.2617 - val_loss: 3366444288.0000 - val_root_mean_squared_error: 58021.0664\n",
            "Epoch 61/100\n",
            "563/563 [==============================] - 1s 2ms/step - loss: 2954711296.0000 - root_mean_squared_error: 54357.2578 - val_loss: 3411225856.0000 - val_root_mean_squared_error: 58405.6992\n",
            "Epoch 62/100\n",
            "563/563 [==============================] - 1s 2ms/step - loss: 2923461120.0000 - root_mean_squared_error: 54069.0391 - val_loss: 3513752320.0000 - val_root_mean_squared_error: 59276.9141\n",
            "Epoch 63/100\n",
            "563/563 [==============================] - 1s 2ms/step - loss: 2953242368.0000 - root_mean_squared_error: 54343.7422 - val_loss: 3550353408.0000 - val_root_mean_squared_error: 59584.8438\n",
            "Epoch 64/100\n",
            "557/563 [============================>.] - ETA: 0s - loss: 2937138688.0000 - root_mean_squared_error: 54195.3750"
          ]
        },
        {
          "output_type": "stream",
          "name": "stderr",
          "text": [
            "WARNING:absl:Found untraced functions such as _update_step_xla while saving (showing 1 of 1). These functions will not be directly callable after loading.\n"
          ]
        },
        {
          "output_type": "stream",
          "name": "stdout",
          "text": [
            "\b\b\b\b\b\b\b\b\b\b\b\b\b\b\b\b\b\b\b\b\b\b\b\b\b\b\b\b\b\b\b\b\b\b\b\b\b\b\b\b\b\b\b\b\b\b\b\b\b\b\b\b\b\b\b\b\b\b\b\b\b\b\b\b\b\b\b\b\b\b\b\b\b\b\b\b\b\b\b\b\b\b\b\b\b\b\b\b\b\b\b\b\b\b\b\b\b\b\b\b\b\b\b\b\b\b\b\b\b\b\b\b\r563/563 [==============================] - 4s 7ms/step - loss: 2934755584.0000 - root_mean_squared_error: 54173.3828 - val_loss: 3262974720.0000 - val_root_mean_squared_error: 57122.4531\n",
            "Epoch 65/100\n",
            "563/563 [==============================] - 2s 3ms/step - loss: 2920481280.0000 - root_mean_squared_error: 54041.4766 - val_loss: 3387340288.0000 - val_root_mean_squared_error: 58200.8633\n",
            "Epoch 66/100\n",
            "563/563 [==============================] - 2s 3ms/step - loss: 2918777088.0000 - root_mean_squared_error: 54025.7070 - val_loss: 3302397440.0000 - val_root_mean_squared_error: 57466.4883\n",
            "Epoch 67/100\n",
            "563/563 [==============================] - 2s 3ms/step - loss: 2916721408.0000 - root_mean_squared_error: 54006.6797 - val_loss: 3338509824.0000 - val_root_mean_squared_error: 57779.8398\n",
            "Epoch 68/100\n",
            "563/563 [==============================] - 1s 2ms/step - loss: 2910840320.0000 - root_mean_squared_error: 53952.2031 - val_loss: 3405645312.0000 - val_root_mean_squared_error: 58357.9062\n",
            "Epoch 69/100\n",
            "563/563 [==============================] - 2s 3ms/step - loss: 2909902080.0000 - root_mean_squared_error: 53943.5078 - val_loss: 3265760768.0000 - val_root_mean_squared_error: 57146.8359\n",
            "Epoch 70/100\n",
            "563/563 [==============================] - 1s 3ms/step - loss: 2894821888.0000 - root_mean_squared_error: 53803.5508 - val_loss: 3361235968.0000 - val_root_mean_squared_error: 57976.1680\n",
            "Epoch 71/100\n",
            "563/563 [==============================] - 1s 3ms/step - loss: 2896645888.0000 - root_mean_squared_error: 53820.4961 - val_loss: 3318743808.0000 - val_root_mean_squared_error: 57608.5391\n",
            "Epoch 72/100\n",
            "563/563 [==============================] - 1s 2ms/step - loss: 2895837952.0000 - root_mean_squared_error: 53812.9922 - val_loss: 3426916608.0000 - val_root_mean_squared_error: 58539.8711\n",
            "Epoch 73/100\n",
            "563/563 [==============================] - 1s 2ms/step - loss: 2902278400.0000 - root_mean_squared_error: 53872.7969 - val_loss: 3285382656.0000 - val_root_mean_squared_error: 57318.2578\n",
            "Epoch 74/100\n",
            "563/563 [==============================] - 1s 2ms/step - loss: 2883316224.0000 - root_mean_squared_error: 53696.5195 - val_loss: 3348144384.0000 - val_root_mean_squared_error: 57863.1523\n",
            "Epoch 75/100\n",
            "563/563 [==============================] - 1s 2ms/step - loss: 2890783232.0000 - root_mean_squared_error: 53766.0039 - val_loss: 3454146560.0000 - val_root_mean_squared_error: 58771.9883\n",
            "Epoch 76/100\n",
            "563/563 [==============================] - 2s 3ms/step - loss: 2875217920.0000 - root_mean_squared_error: 53621.0586 - val_loss: 3411274496.0000 - val_root_mean_squared_error: 58406.1172\n",
            "Epoch 77/100\n",
            "563/563 [==============================] - 2s 3ms/step - loss: 2859504128.0000 - root_mean_squared_error: 53474.3320 - val_loss: 3290974464.0000 - val_root_mean_squared_error: 57367.0156\n",
            "Epoch 78/100\n",
            "563/563 [==============================] - 1s 2ms/step - loss: 2880920320.0000 - root_mean_squared_error: 53674.2070 - val_loss: 3440276736.0000 - val_root_mean_squared_error: 58653.8711\n",
            "Epoch 79/100\n",
            "563/563 [==============================] - 1s 2ms/step - loss: 2862556672.0000 - root_mean_squared_error: 53502.8672 - val_loss: 3281907456.0000 - val_root_mean_squared_error: 57287.9336\n",
            "Epoch 80/100\n",
            "563/563 [==============================] - 1s 2ms/step - loss: 2861693696.0000 - root_mean_squared_error: 53494.8008 - val_loss: 3327654144.0000 - val_root_mean_squared_error: 57685.8242\n",
            "Epoch 81/100\n",
            "563/563 [==============================] - 1s 2ms/step - loss: 2864860160.0000 - root_mean_squared_error: 53524.3867 - val_loss: 3324082176.0000 - val_root_mean_squared_error: 57654.8555\n",
            "Epoch 82/100\n",
            "563/563 [==============================] - 1s 2ms/step - loss: 2847365120.0000 - root_mean_squared_error: 53360.7070 - val_loss: 3337803776.0000 - val_root_mean_squared_error: 57773.7305\n",
            "Epoch 83/100\n",
            "563/563 [==============================] - 1s 2ms/step - loss: 2853370880.0000 - root_mean_squared_error: 53416.9531 - val_loss: 3371407360.0000 - val_root_mean_squared_error: 58063.8203\n",
            "Epoch 84/100\n",
            "563/563 [==============================] - 1s 2ms/step - loss: 2851805952.0000 - root_mean_squared_error: 53402.3047 - val_loss: 3405133568.0000 - val_root_mean_squared_error: 58353.5234\n",
            "Epoch 85/100\n",
            "561/563 [============================>.] - ETA: 0s - loss: 2854144000.0000 - root_mean_squared_error: 53424.1875"
          ]
        },
        {
          "output_type": "stream",
          "name": "stderr",
          "text": [
            "WARNING:absl:Found untraced functions such as _update_step_xla while saving (showing 1 of 1). These functions will not be directly callable after loading.\n"
          ]
        },
        {
          "output_type": "stream",
          "name": "stdout",
          "text": [
            "\b\b\b\b\b\b\b\b\b\b\b\b\b\b\b\b\b\b\b\b\b\b\b\b\b\b\b\b\b\b\b\b\b\b\b\b\b\b\b\b\b\b\b\b\b\b\b\b\b\b\b\b\b\b\b\b\b\b\b\b\b\b\b\b\b\b\b\b\b\b\b\b\b\b\b\b\b\b\b\b\b\b\b\b\b\b\b\b\b\b\b\b\b\b\b\b\b\b\b\b\b\b\b\b\b\b\b\b\b\b\b\b\r563/563 [==============================] - 2s 3ms/step - loss: 2854377472.0000 - root_mean_squared_error: 53426.3750 - val_loss: 3242405376.0000 - val_root_mean_squared_error: 56942.1211\n",
            "Epoch 86/100\n",
            "563/563 [==============================] - 1s 2ms/step - loss: 2845637376.0000 - root_mean_squared_error: 53344.5156 - val_loss: 3377607680.0000 - val_root_mean_squared_error: 58117.1875\n",
            "Epoch 87/100\n",
            "563/563 [==============================] - 2s 3ms/step - loss: 2830044672.0000 - root_mean_squared_error: 53198.1641 - val_loss: 3311131392.0000 - val_root_mean_squared_error: 57542.4297\n",
            "Epoch 88/100\n",
            "563/563 [==============================] - 3s 5ms/step - loss: 2823206656.0000 - root_mean_squared_error: 53133.8555 - val_loss: 3360408320.0000 - val_root_mean_squared_error: 57969.0273\n",
            "Epoch 89/100\n",
            "563/563 [==============================] - 2s 3ms/step - loss: 2836911616.0000 - root_mean_squared_error: 53262.6680 - val_loss: 3258892544.0000 - val_root_mean_squared_error: 57086.7109\n",
            "Epoch 90/100\n",
            "563/563 [==============================] - 2s 4ms/step - loss: 2827438336.0000 - root_mean_squared_error: 53173.6602 - val_loss: 3351108096.0000 - val_root_mean_squared_error: 57888.7578\n",
            "Epoch 91/100\n",
            "563/563 [==============================] - 2s 3ms/step - loss: 2842083072.0000 - root_mean_squared_error: 53311.1914 - val_loss: 3266723072.0000 - val_root_mean_squared_error: 57155.2539\n",
            "Epoch 92/100\n",
            "563/563 [==============================] - 2s 3ms/step - loss: 2801093888.0000 - root_mean_squared_error: 52925.3633 - val_loss: 3448826112.0000 - val_root_mean_squared_error: 58726.7070\n",
            "Epoch 93/100\n",
            "563/563 [==============================] - 2s 3ms/step - loss: 2816731904.0000 - root_mean_squared_error: 53072.8906 - val_loss: 3321230336.0000 - val_root_mean_squared_error: 57630.1172\n",
            "Epoch 94/100\n",
            "563/563 [==============================] - 2s 4ms/step - loss: 2796873472.0000 - root_mean_squared_error: 52885.4766 - val_loss: 3385374464.0000 - val_root_mean_squared_error: 58183.9727\n",
            "Epoch 95/100\n",
            "554/563 [============================>.] - ETA: 0s - loss: 2806701056.0000 - root_mean_squared_error: 52978.3086"
          ]
        },
        {
          "output_type": "stream",
          "name": "stderr",
          "text": [
            "WARNING:absl:Found untraced functions such as _update_step_xla while saving (showing 1 of 1). These functions will not be directly callable after loading.\n"
          ]
        },
        {
          "output_type": "stream",
          "name": "stdout",
          "text": [
            "\b\b\b\b\b\b\b\b\b\b\b\b\b\b\b\b\b\b\b\b\b\b\b\b\b\b\b\b\b\b\b\b\b\b\b\b\b\b\b\b\b\b\b\b\b\b\b\b\b\b\b\b\b\b\b\b\b\b\b\b\b\b\b\b\b\b\b\b\b\b\b\b\b\b\b\b\b\b\b\b\b\b\b\b\b\b\b\b\b\b\b\b\b\b\b\b\b\b\b\b\b\b\b\b\b\b\b\b\b\b\b\b\r563/563 [==============================] - 4s 6ms/step - loss: 2820689408.0000 - root_mean_squared_error: 53110.1641 - val_loss: 3235678720.0000 - val_root_mean_squared_error: 56883.0273\n",
            "Epoch 96/100\n",
            "563/563 [==============================] - 2s 3ms/step - loss: 2806346752.0000 - root_mean_squared_error: 52974.9648 - val_loss: 3321347584.0000 - val_root_mean_squared_error: 57631.1328\n",
            "Epoch 97/100\n",
            "563/563 [==============================] - 2s 3ms/step - loss: 2778097664.0000 - root_mean_squared_error: 52707.6641 - val_loss: 3492449280.0000 - val_root_mean_squared_error: 59096.9492\n",
            "Epoch 98/100\n",
            "563/563 [==============================] - 2s 3ms/step - loss: 2797575168.0000 - root_mean_squared_error: 52892.1094 - val_loss: 3382366464.0000 - val_root_mean_squared_error: 58158.1172\n",
            "Epoch 99/100\n",
            "563/563 [==============================] - 2s 4ms/step - loss: 2791902720.0000 - root_mean_squared_error: 52838.4570 - val_loss: 3270916096.0000 - val_root_mean_squared_error: 57191.9219\n",
            "Epoch 100/100\n",
            "563/563 [==============================] - 2s 3ms/step - loss: 2758091264.0000 - root_mean_squared_error: 52517.5312 - val_loss: 3286697216.0000 - val_root_mean_squared_error: 57329.7227\n"
          ]
        },
        {
          "output_type": "execute_result",
          "data": {
            "text/plain": [
              "<keras.callbacks.History at 0x7ff0482ff250>"
            ]
          },
          "metadata": {},
          "execution_count": 82
        }
      ]
    },
    {
      "cell_type": "code",
      "source": [
        "medium_nn = load_model('models/medium_nn')\n",
        "mse(medium_nn.predict(X_train), y_train, squared=False), mse(medium_nn.predict(X_val), y_val, squared=False)"
      ],
      "metadata": {
        "colab": {
          "base_uri": "https://localhost:8080/"
        },
        "id": "clz1EYu601Zh",
        "outputId": "ebe9bc4c-352c-4a5f-8929-03367fc5a4b7"
      },
      "execution_count": 83,
      "outputs": [
        {
          "output_type": "stream",
          "name": "stdout",
          "text": [
            "563/563 [==============================] - 2s 3ms/step\n",
            "39/39 [==============================] - 0s 2ms/step\n"
          ]
        },
        {
          "output_type": "execute_result",
          "data": {
            "text/plain": [
              "(52178.81396020475, 56883.02491625246)"
            ]
          },
          "metadata": {},
          "execution_count": 83
        }
      ]
    },
    {
      "cell_type": "code",
      "source": [
        "large_nn = Sequential()\n",
        "large_nn.add(InputLayer((13,)))\n",
        "large_nn.add(Dense(256, 'relu'))\n",
        "large_nn.add(Dense(128, 'relu'))\n",
        "large_nn.add(Dense(64, 'relu'))\n",
        "large_nn.add(Dense(32, 'relu'))\n",
        "large_nn.add(Dense(1, 'linear'))\n",
        "\n",
        "opt = Adam(learning_rate=.1)\n",
        "cp = ModelCheckpoint('models/large_nn', save_best_only=True)\n",
        "large_nn.compile(optimizer=opt, loss='mse', metrics=[RootMeanSquaredError()])\n",
        "large_nn.fit(x=X_train, y=y_train, validation_data=(X_val, y_val), callbacks=[cp], epochs=100)"
      ],
      "metadata": {
        "colab": {
          "base_uri": "https://localhost:8080/"
        },
        "id": "BQaDzL8X1sBr",
        "outputId": "f18d8f8e-bc3e-43a4-d2fb-31aed45b0569"
      },
      "execution_count": 84,
      "outputs": [
        {
          "output_type": "stream",
          "name": "stdout",
          "text": [
            "Epoch 1/100\n",
            "560/563 [============================>.] - ETA: 0s - loss: 6308361216.0000 - root_mean_squared_error: 79425.1953"
          ]
        },
        {
          "output_type": "stream",
          "name": "stderr",
          "text": [
            "WARNING:absl:Found untraced functions such as _update_step_xla while saving (showing 1 of 1). These functions will not be directly callable after loading.\n"
          ]
        },
        {
          "output_type": "stream",
          "name": "stdout",
          "text": [
            "\b\b\b\b\b\b\b\b\b\b\b\b\b\b\b\b\b\b\b\b\b\b\b\b\b\b\b\b\b\b\b\b\b\b\b\b\b\b\b\b\b\b\b\b\b\b\b\b\b\b\b\b\b\b\b\b\b\b\b\b\b\b\b\b\b\b\b\b\b\b\b\b\b\b\b\b\b\b\b\b\b\b\b\b\b\b\b\b\b\b\b\b\b\b\b\b\b\b\b\b\b\b\b\b\b\b\b\b\b\b\b\b\r563/563 [==============================] - 6s 7ms/step - loss: 6305033216.0000 - root_mean_squared_error: 79404.2422 - val_loss: 4609777664.0000 - val_root_mean_squared_error: 67895.3438\n",
            "Epoch 2/100\n",
            "548/563 [============================>.] - ETA: 0s - loss: 4576046080.0000 - root_mean_squared_error: 67646.4766"
          ]
        },
        {
          "output_type": "stream",
          "name": "stderr",
          "text": [
            "WARNING:absl:Found untraced functions such as _update_step_xla while saving (showing 1 of 1). These functions will not be directly callable after loading.\n"
          ]
        },
        {
          "output_type": "stream",
          "name": "stdout",
          "text": [
            "\b\b\b\b\b\b\b\b\b\b\b\b\b\b\b\b\b\b\b\b\b\b\b\b\b\b\b\b\b\b\b\b\b\b\b\b\b\b\b\b\b\b\b\b\b\b\b\b\b\b\b\b\b\b\b\b\b\b\b\b\b\b\b\b\b\b\b\b\b\b\b\b\b\b\b\b\b\b\b\b\b\b\b\b\b\b\b\b\b\b\b\b\b\b\b\b\b\b\b\b\b\b\b\b\b\b\b\b\b\b\b\b\r563/563 [==============================] - 2s 4ms/step - loss: 4561266688.0000 - root_mean_squared_error: 67537.1484 - val_loss: 4080543744.0000 - val_root_mean_squared_error: 63879.1328\n",
            "Epoch 3/100\n",
            "563/563 [==============================] - 1s 3ms/step - loss: 4094731776.0000 - root_mean_squared_error: 63990.0898 - val_loss: 4103897856.0000 - val_root_mean_squared_error: 64061.6719\n",
            "Epoch 4/100\n",
            "563/563 [==============================] - 1s 3ms/step - loss: 3945948160.0000 - root_mean_squared_error: 62816.7812 - val_loss: 4247784448.0000 - val_root_mean_squared_error: 65175.0312\n",
            "Epoch 5/100\n",
            "551/563 [============================>.] - ETA: 0s - loss: 3850927616.0000 - root_mean_squared_error: 62055.8438"
          ]
        },
        {
          "output_type": "stream",
          "name": "stderr",
          "text": [
            "WARNING:absl:Found untraced functions such as _update_step_xla while saving (showing 1 of 1). These functions will not be directly callable after loading.\n"
          ]
        },
        {
          "output_type": "stream",
          "name": "stdout",
          "text": [
            "\b\b\b\b\b\b\b\b\b\b\b\b\b\b\b\b\b\b\b\b\b\b\b\b\b\b\b\b\b\b\b\b\b\b\b\b\b\b\b\b\b\b\b\b\b\b\b\b\b\b\b\b\b\b\b\b\b\b\b\b\b\b\b\b\b\b\b\b\b\b\b\b\b\b\b\b\b\b\b\b\b\b\b\b\b\b\b\b\b\b\b\b\b\b\b\b\b\b\b\b\b\b\b\b\b\b\b\b\b\b\b\b\r563/563 [==============================] - 3s 5ms/step - loss: 3846128896.0000 - root_mean_squared_error: 62017.1680 - val_loss: 3960905472.0000 - val_root_mean_squared_error: 62935.7266\n",
            "Epoch 6/100\n",
            "563/563 [==============================] - 2s 3ms/step - loss: 3632209152.0000 - root_mean_squared_error: 60267.8125 - val_loss: 4160801280.0000 - val_root_mean_squared_error: 64504.2734\n",
            "Epoch 7/100\n",
            "556/563 [============================>.] - ETA: 0s - loss: 3607246848.0000 - root_mean_squared_error: 60060.3594"
          ]
        },
        {
          "output_type": "stream",
          "name": "stderr",
          "text": [
            "WARNING:absl:Found untraced functions such as _update_step_xla while saving (showing 1 of 1). These functions will not be directly callable after loading.\n"
          ]
        },
        {
          "output_type": "stream",
          "name": "stdout",
          "text": [
            "\b\b\b\b\b\b\b\b\b\b\b\b\b\b\b\b\b\b\b\b\b\b\b\b\b\b\b\b\b\b\b\b\b\b\b\b\b\b\b\b\b\b\b\b\b\b\b\b\b\b\b\b\b\b\b\b\b\b\b\b\b\b\b\b\b\b\b\b\b\b\b\b\b\b\b\b\b\b\b\b\b\b\b\b\b\b\b\b\b\b\b\b\b\b\b\b\b\b\b\b\b\b\b\b\b\b\b\b\b\b\b\b\r563/563 [==============================] - 4s 6ms/step - loss: 3592625152.0000 - root_mean_squared_error: 59938.5117 - val_loss: 3581490688.0000 - val_root_mean_squared_error: 59845.5586\n",
            "Epoch 8/100\n",
            "563/563 [==============================] - 2s 3ms/step - loss: 3488378112.0000 - root_mean_squared_error: 59062.4922 - val_loss: 4333710848.0000 - val_root_mean_squared_error: 65830.9297\n",
            "Epoch 9/100\n",
            "563/563 [==============================] - 1s 3ms/step - loss: 3371950848.0000 - root_mean_squared_error: 58068.5000 - val_loss: 3917576448.0000 - val_root_mean_squared_error: 62590.5469\n",
            "Epoch 10/100\n",
            "553/563 [============================>.] - ETA: 0s - loss: 3337151232.0000 - root_mean_squared_error: 57768.0820"
          ]
        },
        {
          "output_type": "stream",
          "name": "stderr",
          "text": [
            "WARNING:absl:Found untraced functions such as _update_step_xla while saving (showing 1 of 1). These functions will not be directly callable after loading.\n"
          ]
        },
        {
          "output_type": "stream",
          "name": "stdout",
          "text": [
            "\b\b\b\b\b\b\b\b\b\b\b\b\b\b\b\b\b\b\b\b\b\b\b\b\b\b\b\b\b\b\b\b\b\b\b\b\b\b\b\b\b\b\b\b\b\b\b\b\b\b\b\b\b\b\b\b\b\b\b\b\b\b\b\b\b\b\b\b\b\b\b\b\b\b\b\b\b\b\b\b\b\b\b\b\b\b\b\b\b\b\b\b\b\b\b\b\b\b\b\b\b\b\b\b\b\b\b\b\b\b\b\b\r563/563 [==============================] - 2s 4ms/step - loss: 3323008256.0000 - root_mean_squared_error: 57645.5391 - val_loss: 3536608256.0000 - val_root_mean_squared_error: 59469.3906\n",
            "Epoch 11/100\n",
            "560/563 [============================>.] - ETA: 0s - loss: 3299289600.0000 - root_mean_squared_error: 57439.4414"
          ]
        },
        {
          "output_type": "stream",
          "name": "stderr",
          "text": [
            "WARNING:absl:Found untraced functions such as _update_step_xla while saving (showing 1 of 1). These functions will not be directly callable after loading.\n"
          ]
        },
        {
          "output_type": "stream",
          "name": "stdout",
          "text": [
            "\b\b\b\b\b\b\b\b\b\b\b\b\b\b\b\b\b\b\b\b\b\b\b\b\b\b\b\b\b\b\b\b\b\b\b\b\b\b\b\b\b\b\b\b\b\b\b\b\b\b\b\b\b\b\b\b\b\b\b\b\b\b\b\b\b\b\b\b\b\b\b\b\b\b\b\b\b\b\b\b\b\b\b\b\b\b\b\b\b\b\b\b\b\b\b\b\b\b\b\b\b\b\b\b\b\b\b\b\b\b\b\b\r563/563 [==============================] - 2s 4ms/step - loss: 3306246400.0000 - root_mean_squared_error: 57499.9688 - val_loss: 3494575616.0000 - val_root_mean_squared_error: 59114.9375\n",
            "Epoch 12/100\n",
            "563/563 [==============================] - 1s 3ms/step - loss: 3198097152.0000 - root_mean_squared_error: 56551.7227 - val_loss: 4004400384.0000 - val_root_mean_squared_error: 63280.3320\n",
            "Epoch 13/100\n",
            "553/563 [============================>.] - ETA: 0s - loss: 3200433408.0000 - root_mean_squared_error: 56572.3750"
          ]
        },
        {
          "output_type": "stream",
          "name": "stderr",
          "text": [
            "WARNING:absl:Found untraced functions such as _update_step_xla while saving (showing 1 of 1). These functions will not be directly callable after loading.\n"
          ]
        },
        {
          "output_type": "stream",
          "name": "stdout",
          "text": [
            "\b\b\b\b\b\b\b\b\b\b\b\b\b\b\b\b\b\b\b\b\b\b\b\b\b\b\b\b\b\b\b\b\b\b\b\b\b\b\b\b\b\b\b\b\b\b\b\b\b\b\b\b\b\b\b\b\b\b\b\b\b\b\b\b\b\b\b\b\b\b\b\b\b\b\b\b\b\b\b\b\b\b\b\b\b\b\b\b\b\b\b\b\b\b\b\b\b\b\b\b\b\b\b\b\b\b\b\b\b\b\b\b\r563/563 [==============================] - 3s 6ms/step - loss: 3204389632.0000 - root_mean_squared_error: 56607.3281 - val_loss: 3350911744.0000 - val_root_mean_squared_error: 57887.0586\n",
            "Epoch 14/100\n",
            "563/563 [==============================] - 2s 4ms/step - loss: 3116503040.0000 - root_mean_squared_error: 55825.6484 - val_loss: 3382529792.0000 - val_root_mean_squared_error: 58159.5195\n",
            "Epoch 15/100\n",
            "563/563 [==============================] - 1s 3ms/step - loss: 3077846528.0000 - root_mean_squared_error: 55478.3438 - val_loss: 3451179264.0000 - val_root_mean_squared_error: 58746.7383\n",
            "Epoch 16/100\n",
            "563/563 [==============================] - 1s 3ms/step - loss: 3072410368.0000 - root_mean_squared_error: 55429.3281 - val_loss: 3411552512.0000 - val_root_mean_squared_error: 58408.4961\n",
            "Epoch 17/100\n",
            "545/563 [============================>.] - ETA: 0s - loss: 3027226368.0000 - root_mean_squared_error: 55020.2344"
          ]
        },
        {
          "output_type": "stream",
          "name": "stderr",
          "text": [
            "WARNING:absl:Found untraced functions such as _update_step_xla while saving (showing 1 of 1). These functions will not be directly callable after loading.\n"
          ]
        },
        {
          "output_type": "stream",
          "name": "stdout",
          "text": [
            "\b\b\b\b\b\b\b\b\b\b\b\b\b\b\b\b\b\b\b\b\b\b\b\b\b\b\b\b\b\b\b\b\b\b\b\b\b\b\b\b\b\b\b\b\b\b\b\b\b\b\b\b\b\b\b\b\b\b\b\b\b\b\b\b\b\b\b\b\b\b\b\b\b\b\b\b\b\b\b\b\b\b\b\b\b\b\b\b\b\b\b\b\b\b\b\b\b\b\b\b\b\b\b\b\b\b\b\b\b\b\b\b\r563/563 [==============================] - 2s 4ms/step - loss: 3037449728.0000 - root_mean_squared_error: 55113.0625 - val_loss: 3309001216.0000 - val_root_mean_squared_error: 57523.9180\n",
            "Epoch 18/100\n",
            "563/563 [==============================] - 1s 3ms/step - loss: 2982600960.0000 - root_mean_squared_error: 54613.1953 - val_loss: 3526310400.0000 - val_root_mean_squared_error: 59382.7461\n",
            "Epoch 19/100\n",
            "563/563 [==============================] - 1s 3ms/step - loss: 2960382720.0000 - root_mean_squared_error: 54409.3984 - val_loss: 3375034368.0000 - val_root_mean_squared_error: 58095.0469\n",
            "Epoch 20/100\n",
            "563/563 [==============================] - 2s 3ms/step - loss: 2916394496.0000 - root_mean_squared_error: 54003.6523 - val_loss: 3404855040.0000 - val_root_mean_squared_error: 58351.1367\n",
            "Epoch 21/100\n",
            "563/563 [==============================] - 2s 4ms/step - loss: 2879969280.0000 - root_mean_squared_error: 53665.3438 - val_loss: 3312269824.0000 - val_root_mean_squared_error: 57552.3242\n",
            "Epoch 22/100\n",
            "547/563 [============================>.] - ETA: 0s - loss: 2938042624.0000 - root_mean_squared_error: 54203.7148"
          ]
        },
        {
          "output_type": "stream",
          "name": "stderr",
          "text": [
            "WARNING:absl:Found untraced functions such as _update_step_xla while saving (showing 1 of 1). These functions will not be directly callable after loading.\n"
          ]
        },
        {
          "output_type": "stream",
          "name": "stdout",
          "text": [
            "\b\b\b\b\b\b\b\b\b\b\b\b\b\b\b\b\b\b\b\b\b\b\b\b\b\b\b\b\b\b\b\b\b\b\b\b\b\b\b\b\b\b\b\b\b\b\b\b\b\b\b\b\b\b\b\b\b\b\b\b\b\b\b\b\b\b\b\b\b\b\b\b\b\b\b\b\b\b\b\b\b\b\b\b\b\b\b\b\b\b\b\b\b\b\b\b\b\b\b\b\b\b\b\b\b\b\b\b\b\b\b\b\r563/563 [==============================] - 3s 6ms/step - loss: 2941481728.0000 - root_mean_squared_error: 54235.4297 - val_loss: 3243442176.0000 - val_root_mean_squared_error: 56951.2266\n",
            "Epoch 23/100\n",
            "556/563 [============================>.] - ETA: 0s - loss: 2869960704.0000 - root_mean_squared_error: 53572.0156"
          ]
        },
        {
          "output_type": "stream",
          "name": "stderr",
          "text": [
            "WARNING:absl:Found untraced functions such as _update_step_xla while saving (showing 1 of 1). These functions will not be directly callable after loading.\n"
          ]
        },
        {
          "output_type": "stream",
          "name": "stdout",
          "text": [
            "\b\b\b\b\b\b\b\b\b\b\b\b\b\b\b\b\b\b\b\b\b\b\b\b\b\b\b\b\b\b\b\b\b\b\b\b\b\b\b\b\b\b\b\b\b\b\b\b\b\b\b\b\b\b\b\b\b\b\b\b\b\b\b\b\b\b\b\b\b\b\b\b\b\b\b\b\b\b\b\b\b\b\b\b\b\b\b\b\b\b\b\b\b\b\b\b\b\b\b\b\b\b\b\b\b\b\b\b\b\b\b\b\r563/563 [==============================] - 2s 4ms/step - loss: 2864121344.0000 - root_mean_squared_error: 53517.4883 - val_loss: 3141363456.0000 - val_root_mean_squared_error: 56047.8672\n",
            "Epoch 24/100\n",
            "563/563 [==============================] - 1s 3ms/step - loss: 2848060160.0000 - root_mean_squared_error: 53367.2188 - val_loss: 3153021440.0000 - val_root_mean_squared_error: 56151.7695\n",
            "Epoch 25/100\n",
            "550/563 [============================>.] - ETA: 0s - loss: 2883878656.0000 - root_mean_squared_error: 53701.7578"
          ]
        },
        {
          "output_type": "stream",
          "name": "stderr",
          "text": [
            "WARNING:absl:Found untraced functions such as _update_step_xla while saving (showing 1 of 1). These functions will not be directly callable after loading.\n"
          ]
        },
        {
          "output_type": "stream",
          "name": "stdout",
          "text": [
            "\b\b\b\b\b\b\b\b\b\b\b\b\b\b\b\b\b\b\b\b\b\b\b\b\b\b\b\b\b\b\b\b\b\b\b\b\b\b\b\b\b\b\b\b\b\b\b\b\b\b\b\b\b\b\b\b\b\b\b\b\b\b\b\b\b\b\b\b\b\b\b\b\b\b\b\b\b\b\b\b\b\b\b\b\b\b\b\b\b\b\b\b\b\b\b\b\b\b\b\b\b\b\b\b\b\b\b\b\b\b\b\b\r563/563 [==============================] - 3s 5ms/step - loss: 2872206592.0000 - root_mean_squared_error: 53592.9727 - val_loss: 3078190336.0000 - val_root_mean_squared_error: 55481.4414\n",
            "Epoch 26/100\n",
            "558/563 [============================>.] - ETA: 0s - loss: 2793401856.0000 - root_mean_squared_error: 52852.6445"
          ]
        },
        {
          "output_type": "stream",
          "name": "stderr",
          "text": [
            "WARNING:absl:Found untraced functions such as _update_step_xla while saving (showing 1 of 1). These functions will not be directly callable after loading.\n"
          ]
        },
        {
          "output_type": "stream",
          "name": "stdout",
          "text": [
            "\b\b\b\b\b\b\b\b\b\b\b\b\b\b\b\b\b\b\b\b\b\b\b\b\b\b\b\b\b\b\b\b\b\b\b\b\b\b\b\b\b\b\b\b\b\b\b\b\b\b\b\b\b\b\b\b\b\b\b\b\b\b\b\b\b\b\b\b\b\b\b\b\b\b\b\b\b\b\b\b\b\b\b\b\b\b\b\b\b\b\b\b\b\b\b\b\b\b\b\b\b\b\b\b\b\b\b\b\b\b\b\b\r563/563 [==============================] - 3s 5ms/step - loss: 2801416704.0000 - root_mean_squared_error: 52928.4102 - val_loss: 3045037312.0000 - val_root_mean_squared_error: 55181.8555\n",
            "Epoch 27/100\n",
            "563/563 [==============================] - 2s 4ms/step - loss: 2873284608.0000 - root_mean_squared_error: 53603.0273 - val_loss: 3212020992.0000 - val_root_mean_squared_error: 56674.6953\n",
            "Epoch 28/100\n",
            "563/563 [==============================] - 2s 4ms/step - loss: 2805224704.0000 - root_mean_squared_error: 52964.3711 - val_loss: 3168428544.0000 - val_root_mean_squared_error: 56288.7969\n",
            "Epoch 29/100\n",
            "563/563 [==============================] - 2s 3ms/step - loss: 2750085120.0000 - root_mean_squared_error: 52441.2539 - val_loss: 3095241216.0000 - val_root_mean_squared_error: 55634.8906\n",
            "Epoch 30/100\n",
            "563/563 [==============================] - 1s 3ms/step - loss: 2761799680.0000 - root_mean_squared_error: 52552.8281 - val_loss: 3272173568.0000 - val_root_mean_squared_error: 57202.9141\n",
            "Epoch 31/100\n",
            "563/563 [==============================] - 1s 3ms/step - loss: 2752195840.0000 - root_mean_squared_error: 52461.3750 - val_loss: 3196750336.0000 - val_root_mean_squared_error: 56539.8125\n",
            "Epoch 32/100\n",
            "563/563 [==============================] - 2s 3ms/step - loss: 2753790976.0000 - root_mean_squared_error: 52476.5742 - val_loss: 3119110144.0000 - val_root_mean_squared_error: 55848.9922\n",
            "Epoch 33/100\n",
            "563/563 [==============================] - 2s 3ms/step - loss: 2692164864.0000 - root_mean_squared_error: 51886.0742 - val_loss: 3372245760.0000 - val_root_mean_squared_error: 58071.0391\n",
            "Epoch 34/100\n",
            "563/563 [==============================] - 2s 3ms/step - loss: 2745599744.0000 - root_mean_squared_error: 52398.4727 - val_loss: 3109771264.0000 - val_root_mean_squared_error: 55765.3242\n",
            "Epoch 35/100\n",
            "563/563 [==============================] - 2s 4ms/step - loss: 2656783616.0000 - root_mean_squared_error: 51543.9961 - val_loss: 3494600192.0000 - val_root_mean_squared_error: 59115.1445\n",
            "Epoch 36/100\n",
            "553/563 [============================>.] - ETA: 0s - loss: 2733331712.0000 - root_mean_squared_error: 52281.2734"
          ]
        },
        {
          "output_type": "stream",
          "name": "stderr",
          "text": [
            "WARNING:absl:Found untraced functions such as _update_step_xla while saving (showing 1 of 1). These functions will not be directly callable after loading.\n"
          ]
        },
        {
          "output_type": "stream",
          "name": "stdout",
          "text": [
            "\b\b\b\b\b\b\b\b\b\b\b\b\b\b\b\b\b\b\b\b\b\b\b\b\b\b\b\b\b\b\b\b\b\b\b\b\b\b\b\b\b\b\b\b\b\b\b\b\b\b\b\b\b\b\b\b\b\b\b\b\b\b\b\b\b\b\b\b\b\b\b\b\b\b\b\b\b\b\b\b\b\b\b\b\b\b\b\b\b\b\b\b\b\b\b\b\b\b\b\b\b\b\b\b\b\b\b\b\b\b\b\b\r563/563 [==============================] - 4s 7ms/step - loss: 2727958272.0000 - root_mean_squared_error: 52229.8594 - val_loss: 3007887872.0000 - val_root_mean_squared_error: 54844.2148\n",
            "Epoch 37/100\n",
            "563/563 [==============================] - 2s 4ms/step - loss: 2696823808.0000 - root_mean_squared_error: 51930.9531 - val_loss: 3023350528.0000 - val_root_mean_squared_error: 54985.0039\n",
            "Epoch 38/100\n",
            "557/563 [============================>.] - ETA: 0s - loss: 2656958720.0000 - root_mean_squared_error: 51545.6953"
          ]
        },
        {
          "output_type": "stream",
          "name": "stderr",
          "text": [
            "WARNING:absl:Found untraced functions such as _update_step_xla while saving (showing 1 of 1). These functions will not be directly callable after loading.\n"
          ]
        },
        {
          "output_type": "stream",
          "name": "stdout",
          "text": [
            "\b\b\b\b\b\b\b\b\b\b\b\b\b\b\b\b\b\b\b\b\b\b\b\b\b\b\b\b\b\b\b\b\b\b\b\b\b\b\b\b\b\b\b\b\b\b\b\b\b\b\b\b\b\b\b\b\b\b\b\b\b\b\b\b\b\b\b\b\b\b\b\b\b\b\b\b\b\b\b\b\b\b\b\b\b\b\b\b\b\b\b\b\b\b\b\b\b\b\b\b\b\b\b\b\b\b\b\b\b\b\b\b\r563/563 [==============================] - 3s 5ms/step - loss: 2661191168.0000 - root_mean_squared_error: 51586.7344 - val_loss: 2984058624.0000 - val_root_mean_squared_error: 54626.5391\n",
            "Epoch 39/100\n",
            "563/563 [==============================] - 2s 3ms/step - loss: 2621006848.0000 - root_mean_squared_error: 51195.7695 - val_loss: 3203081472.0000 - val_root_mean_squared_error: 56595.7734\n",
            "Epoch 40/100\n",
            "563/563 [==============================] - 1s 3ms/step - loss: 2667675392.0000 - root_mean_squared_error: 51649.5430 - val_loss: 3199768064.0000 - val_root_mean_squared_error: 56566.4922\n",
            "Epoch 41/100\n",
            "563/563 [==============================] - 2s 3ms/step - loss: 2656231936.0000 - root_mean_squared_error: 51538.6445 - val_loss: 3420909056.0000 - val_root_mean_squared_error: 58488.5391\n",
            "Epoch 42/100\n",
            "563/563 [==============================] - 2s 3ms/step - loss: 2650455040.0000 - root_mean_squared_error: 51482.5703 - val_loss: 3219789824.0000 - val_root_mean_squared_error: 56743.1914\n",
            "Epoch 43/100\n",
            "563/563 [==============================] - 2s 4ms/step - loss: 2615746048.0000 - root_mean_squared_error: 51144.3633 - val_loss: 3053609984.0000 - val_root_mean_squared_error: 55259.4805\n",
            "Epoch 44/100\n",
            "563/563 [==============================] - 2s 3ms/step - loss: 2602683648.0000 - root_mean_squared_error: 51016.5039 - val_loss: 3149252352.0000 - val_root_mean_squared_error: 56118.1992\n",
            "Epoch 45/100\n",
            "563/563 [==============================] - 2s 3ms/step - loss: 2604547840.0000 - root_mean_squared_error: 51034.7695 - val_loss: 3123655936.0000 - val_root_mean_squared_error: 55889.6758\n",
            "Epoch 46/100\n",
            "563/563 [==============================] - 1s 3ms/step - loss: 2574312704.0000 - root_mean_squared_error: 50737.6836 - val_loss: 3262908672.0000 - val_root_mean_squared_error: 57121.8750\n",
            "Epoch 47/100\n",
            "563/563 [==============================] - 2s 3ms/step - loss: 2558060032.0000 - root_mean_squared_error: 50577.2695 - val_loss: 3023720192.0000 - val_root_mean_squared_error: 54988.3633\n",
            "Epoch 48/100\n",
            "563/563 [==============================] - 2s 3ms/step - loss: 2541993728.0000 - root_mean_squared_error: 50418.1875 - val_loss: 3070018304.0000 - val_root_mean_squared_error: 55407.7461\n",
            "Epoch 49/100\n",
            "563/563 [==============================] - 2s 3ms/step - loss: 2557369088.0000 - root_mean_squared_error: 50570.4375 - val_loss: 3051594496.0000 - val_root_mean_squared_error: 55241.2383\n",
            "Epoch 50/100\n",
            "563/563 [==============================] - 2s 3ms/step - loss: 2577989888.0000 - root_mean_squared_error: 50773.9102 - val_loss: 3271394048.0000 - val_root_mean_squared_error: 57196.1016\n",
            "Epoch 51/100\n",
            "563/563 [==============================] - 2s 4ms/step - loss: 2560644096.0000 - root_mean_squared_error: 50602.8086 - val_loss: 3196158976.0000 - val_root_mean_squared_error: 56534.5820\n",
            "Epoch 52/100\n",
            "563/563 [==============================] - 2s 4ms/step - loss: 2517324544.0000 - root_mean_squared_error: 50172.9453 - val_loss: 2988605440.0000 - val_root_mean_squared_error: 54668.1406\n",
            "Epoch 53/100\n",
            "563/563 [==============================] - 2s 3ms/step - loss: 2503668992.0000 - root_mean_squared_error: 50036.6758 - val_loss: 3096288000.0000 - val_root_mean_squared_error: 55644.3008\n",
            "Epoch 54/100\n",
            "563/563 [==============================] - 2s 3ms/step - loss: 2520496640.0000 - root_mean_squared_error: 50204.5469 - val_loss: 3234616320.0000 - val_root_mean_squared_error: 56873.6875\n",
            "Epoch 55/100\n",
            "563/563 [==============================] - 2s 3ms/step - loss: 2464287232.0000 - root_mean_squared_error: 49641.5859 - val_loss: 3088357120.0000 - val_root_mean_squared_error: 55572.9883\n",
            "Epoch 56/100\n",
            "563/563 [==============================] - 2s 3ms/step - loss: 2538376192.0000 - root_mean_squared_error: 50382.3008 - val_loss: 2995239168.0000 - val_root_mean_squared_error: 54728.7773\n",
            "Epoch 57/100\n",
            "563/563 [==============================] - 2s 3ms/step - loss: 2502745856.0000 - root_mean_squared_error: 50027.4492 - val_loss: 3127581952.0000 - val_root_mean_squared_error: 55924.7891\n",
            "Epoch 58/100\n",
            "563/563 [==============================] - 2s 3ms/step - loss: 2513383936.0000 - root_mean_squared_error: 50133.6602 - val_loss: 3047421952.0000 - val_root_mean_squared_error: 55203.4609\n",
            "Epoch 59/100\n",
            "563/563 [==============================] - 2s 3ms/step - loss: 2461152256.0000 - root_mean_squared_error: 49610.0000 - val_loss: 3003362304.0000 - val_root_mean_squared_error: 54802.9414\n",
            "Epoch 60/100\n",
            "563/563 [==============================] - 2s 4ms/step - loss: 2551206656.0000 - root_mean_squared_error: 50509.4727 - val_loss: 3020880384.0000 - val_root_mean_squared_error: 54962.5352\n",
            "Epoch 61/100\n",
            "563/563 [==============================] - 2s 4ms/step - loss: 2586493440.0000 - root_mean_squared_error: 50857.5781 - val_loss: 3050947328.0000 - val_root_mean_squared_error: 55235.3828\n",
            "Epoch 62/100\n",
            "558/563 [============================>.] - ETA: 0s - loss: 2484784128.0000 - root_mean_squared_error: 49847.6094"
          ]
        },
        {
          "output_type": "stream",
          "name": "stderr",
          "text": [
            "WARNING:absl:Found untraced functions such as _update_step_xla while saving (showing 1 of 1). These functions will not be directly callable after loading.\n"
          ]
        },
        {
          "output_type": "stream",
          "name": "stdout",
          "text": [
            "\b\b\b\b\b\b\b\b\b\b\b\b\b\b\b\b\b\b\b\b\b\b\b\b\b\b\b\b\b\b\b\b\b\b\b\b\b\b\b\b\b\b\b\b\b\b\b\b\b\b\b\b\b\b\b\b\b\b\b\b\b\b\b\b\b\b\b\b\b\b\b\b\b\b\b\b\b\b\b\b\b\b\b\b\b\b\b\b\b\b\b\b\b\b\b\b\b\b\b\b\b\b\b\b\b\b\b\b\b\b\b\b\r563/563 [==============================] - 2s 4ms/step - loss: 2487507968.0000 - root_mean_squared_error: 49874.9219 - val_loss: 2972711168.0000 - val_root_mean_squared_error: 54522.5742\n",
            "Epoch 63/100\n",
            "563/563 [==============================] - 1s 3ms/step - loss: 2452617984.0000 - root_mean_squared_error: 49523.9141 - val_loss: 3117177856.0000 - val_root_mean_squared_error: 55831.6914\n",
            "Epoch 64/100\n",
            "563/563 [==============================] - 1s 3ms/step - loss: 2484040448.0000 - root_mean_squared_error: 49840.1484 - val_loss: 2984369664.0000 - val_root_mean_squared_error: 54629.3828\n",
            "Epoch 65/100\n",
            "563/563 [==============================] - 1s 3ms/step - loss: 2676457984.0000 - root_mean_squared_error: 51734.4961 - val_loss: 3250793216.0000 - val_root_mean_squared_error: 57015.7266\n",
            "Epoch 66/100\n",
            "563/563 [==============================] - 2s 3ms/step - loss: 2470732544.0000 - root_mean_squared_error: 49706.4648 - val_loss: 3000055808.0000 - val_root_mean_squared_error: 54772.7656\n",
            "Epoch 67/100\n",
            "563/563 [==============================] - 2s 3ms/step - loss: 2443137024.0000 - root_mean_squared_error: 49428.0977 - val_loss: 3030235392.0000 - val_root_mean_squared_error: 55047.5742\n",
            "Epoch 68/100\n",
            "563/563 [==============================] - 2s 4ms/step - loss: 2447703552.0000 - root_mean_squared_error: 49474.2734 - val_loss: 3134771968.0000 - val_root_mean_squared_error: 55989.0352\n",
            "Epoch 69/100\n",
            "563/563 [==============================] - 2s 4ms/step - loss: 2433080064.0000 - root_mean_squared_error: 49326.2617 - val_loss: 3148719104.0000 - val_root_mean_squared_error: 56113.4492\n",
            "Epoch 70/100\n",
            "563/563 [==============================] - 1s 3ms/step - loss: 2412606464.0000 - root_mean_squared_error: 49118.2891 - val_loss: 3044007680.0000 - val_root_mean_squared_error: 55172.5273\n",
            "Epoch 71/100\n",
            "563/563 [==============================] - 1s 3ms/step - loss: 2419049728.0000 - root_mean_squared_error: 49183.8359 - val_loss: 2992894464.0000 - val_root_mean_squared_error: 54707.3516\n",
            "Epoch 72/100\n",
            "563/563 [==============================] - 1s 3ms/step - loss: 2399412992.0000 - root_mean_squared_error: 48983.8047 - val_loss: 2991704064.0000 - val_root_mean_squared_error: 54696.4727\n",
            "Epoch 73/100\n",
            "563/563 [==============================] - 1s 3ms/step - loss: 2389112576.0000 - root_mean_squared_error: 48878.5508 - val_loss: 3018779136.0000 - val_root_mean_squared_error: 54943.4180\n",
            "Epoch 74/100\n",
            "553/563 [============================>.] - ETA: 0s - loss: 2373292800.0000 - root_mean_squared_error: 48716.4531"
          ]
        },
        {
          "output_type": "stream",
          "name": "stderr",
          "text": [
            "WARNING:absl:Found untraced functions such as _update_step_xla while saving (showing 1 of 1). These functions will not be directly callable after loading.\n"
          ]
        },
        {
          "output_type": "stream",
          "name": "stdout",
          "text": [
            "\b\b\b\b\b\b\b\b\b\b\b\b\b\b\b\b\b\b\b\b\b\b\b\b\b\b\b\b\b\b\b\b\b\b\b\b\b\b\b\b\b\b\b\b\b\b\b\b\b\b\b\b\b\b\b\b\b\b\b\b\b\b\b\b\b\b\b\b\b\b\b\b\b\b\b\b\b\b\b\b\b\b\b\b\b\b\b\b\b\b\b\b\b\b\b\b\b\b\b\b\b\b\b\b\b\b\b\b\b\b\b\b\r563/563 [==============================] - 2s 4ms/step - loss: 2384618496.0000 - root_mean_squared_error: 48832.5547 - val_loss: 2950763008.0000 - val_root_mean_squared_error: 54320.9258\n",
            "Epoch 75/100\n",
            "563/563 [==============================] - 2s 3ms/step - loss: 2375553536.0000 - root_mean_squared_error: 48739.6523 - val_loss: 2993752576.0000 - val_root_mean_squared_error: 54715.1953\n",
            "Epoch 76/100\n",
            "555/563 [============================>.] - ETA: 0s - loss: 2422446336.0000 - root_mean_squared_error: 49218.3555"
          ]
        },
        {
          "output_type": "stream",
          "name": "stderr",
          "text": [
            "WARNING:absl:Found untraced functions such as _update_step_xla while saving (showing 1 of 1). These functions will not be directly callable after loading.\n"
          ]
        },
        {
          "output_type": "stream",
          "name": "stdout",
          "text": [
            "\b\b\b\b\b\b\b\b\b\b\b\b\b\b\b\b\b\b\b\b\b\b\b\b\b\b\b\b\b\b\b\b\b\b\b\b\b\b\b\b\b\b\b\b\b\b\b\b\b\b\b\b\b\b\b\b\b\b\b\b\b\b\b\b\b\b\b\b\b\b\b\b\b\b\b\b\b\b\b\b\b\b\b\b\b\b\b\b\b\b\b\b\b\b\b\b\b\b\b\b\b\b\b\b\b\b\b\b\b\b\b\b\r563/563 [==============================] - 4s 6ms/step - loss: 2430772224.0000 - root_mean_squared_error: 49302.8633 - val_loss: 2882215424.0000 - val_root_mean_squared_error: 53686.2695\n",
            "Epoch 77/100\n",
            "563/563 [==============================] - 2s 3ms/step - loss: 2385062912.0000 - root_mean_squared_error: 48837.1055 - val_loss: 3218281728.0000 - val_root_mean_squared_error: 56729.9023\n",
            "Epoch 78/100\n",
            "563/563 [==============================] - 1s 3ms/step - loss: 2430358016.0000 - root_mean_squared_error: 49298.6602 - val_loss: 3048919040.0000 - val_root_mean_squared_error: 55217.0195\n",
            "Epoch 79/100\n",
            "563/563 [==============================] - 1s 3ms/step - loss: 2359888128.0000 - root_mean_squared_error: 48578.6797 - val_loss: 3004481792.0000 - val_root_mean_squared_error: 54813.1523\n",
            "Epoch 80/100\n",
            "563/563 [==============================] - 2s 3ms/step - loss: 2334365952.0000 - root_mean_squared_error: 48315.2773 - val_loss: 3222440704.0000 - val_root_mean_squared_error: 56766.5469\n",
            "Epoch 81/100\n",
            "563/563 [==============================] - 1s 3ms/step - loss: 2390830592.0000 - root_mean_squared_error: 48896.1211 - val_loss: 3133916416.0000 - val_root_mean_squared_error: 55981.3945\n",
            "Epoch 82/100\n",
            "563/563 [==============================] - 2s 3ms/step - loss: 2333492992.0000 - root_mean_squared_error: 48306.2422 - val_loss: 2958416128.0000 - val_root_mean_squared_error: 54391.3242\n",
            "Epoch 83/100\n",
            "563/563 [==============================] - 2s 3ms/step - loss: 2329128448.0000 - root_mean_squared_error: 48261.0430 - val_loss: 3142831360.0000 - val_root_mean_squared_error: 56060.9609\n",
            "Epoch 84/100\n",
            "563/563 [==============================] - 2s 4ms/step - loss: 2401723904.0000 - root_mean_squared_error: 49007.3867 - val_loss: 3139815424.0000 - val_root_mean_squared_error: 56034.0547\n",
            "Epoch 85/100\n",
            "563/563 [==============================] - 2s 4ms/step - loss: 2326179840.0000 - root_mean_squared_error: 48230.4883 - val_loss: 3081712896.0000 - val_root_mean_squared_error: 55513.1758\n",
            "Epoch 86/100\n",
            "563/563 [==============================] - 2s 3ms/step - loss: 2335795712.0000 - root_mean_squared_error: 48330.0703 - val_loss: 3454385664.0000 - val_root_mean_squared_error: 58774.0234\n",
            "Epoch 87/100\n",
            "563/563 [==============================] - 1s 3ms/step - loss: 2334869504.0000 - root_mean_squared_error: 48320.4883 - val_loss: 2993057024.0000 - val_root_mean_squared_error: 54708.8398\n",
            "Epoch 88/100\n",
            "563/563 [==============================] - 2s 3ms/step - loss: 2316901120.0000 - root_mean_squared_error: 48134.1992 - val_loss: 3128073216.0000 - val_root_mean_squared_error: 55929.1797\n",
            "Epoch 89/100\n",
            "563/563 [==============================] - 2s 3ms/step - loss: 2805625600.0000 - root_mean_squared_error: 52968.1562 - val_loss: 3330185472.0000 - val_root_mean_squared_error: 57707.7578\n",
            "Epoch 90/100\n",
            "563/563 [==============================] - 1s 3ms/step - loss: 2595318784.0000 - root_mean_squared_error: 50944.2695 - val_loss: 2993195008.0000 - val_root_mean_squared_error: 54710.1016\n",
            "Epoch 91/100\n",
            "563/563 [==============================] - 1s 3ms/step - loss: 2474687488.0000 - root_mean_squared_error: 49746.2305 - val_loss: 2910341632.0000 - val_root_mean_squared_error: 53947.5820\n",
            "Epoch 92/100\n",
            "563/563 [==============================] - 2s 3ms/step - loss: 2441063168.0000 - root_mean_squared_error: 49407.1172 - val_loss: 3030556160.0000 - val_root_mean_squared_error: 55050.4883\n",
            "Epoch 93/100\n",
            "563/563 [==============================] - 2s 4ms/step - loss: 2353102336.0000 - root_mean_squared_error: 48508.7852 - val_loss: 2928284160.0000 - val_root_mean_squared_error: 54113.6211\n",
            "Epoch 94/100\n",
            "563/563 [==============================] - 2s 4ms/step - loss: 2370643200.0000 - root_mean_squared_error: 48689.2500 - val_loss: 2964238336.0000 - val_root_mean_squared_error: 54444.8203\n",
            "Epoch 95/100\n",
            "563/563 [==============================] - 2s 3ms/step - loss: 2352430080.0000 - root_mean_squared_error: 48501.8555 - val_loss: 3052502528.0000 - val_root_mean_squared_error: 55249.4570\n",
            "Epoch 96/100\n",
            "563/563 [==============================] - 1s 3ms/step - loss: 2337827072.0000 - root_mean_squared_error: 48351.0820 - val_loss: 3074143488.0000 - val_root_mean_squared_error: 55444.9609\n",
            "Epoch 97/100\n",
            "563/563 [==============================] - 1s 3ms/step - loss: 2487259904.0000 - root_mean_squared_error: 49872.4375 - val_loss: 3075940352.0000 - val_root_mean_squared_error: 55461.1602\n",
            "Epoch 98/100\n",
            "563/563 [==============================] - 1s 3ms/step - loss: 2344408064.0000 - root_mean_squared_error: 48419.0859 - val_loss: 3503192576.0000 - val_root_mean_squared_error: 59187.7734\n",
            "Epoch 99/100\n",
            "563/563 [==============================] - 1s 3ms/step - loss: 2338862080.0000 - root_mean_squared_error: 48361.7852 - val_loss: 3460178944.0000 - val_root_mean_squared_error: 58823.2852\n",
            "Epoch 100/100\n",
            "563/563 [==============================] - 1s 3ms/step - loss: 2337956096.0000 - root_mean_squared_error: 48352.4141 - val_loss: 3030716928.0000 - val_root_mean_squared_error: 55051.9492\n"
          ]
        },
        {
          "output_type": "execute_result",
          "data": {
            "text/plain": [
              "<keras.callbacks.History at 0x7ff03cf569b0>"
            ]
          },
          "metadata": {},
          "execution_count": 84
        }
      ]
    },
    {
      "cell_type": "code",
      "source": [
        "large_nn = load_model('models/large_nn')\n",
        "mse(large_nn.predict(X_train), y_train, squared=False), mse(large_nn.predict(X_val), y_val, squared=False)"
      ],
      "metadata": {
        "colab": {
          "base_uri": "https://localhost:8080/"
        },
        "id": "OsZMJ02X1wd2",
        "outputId": "93f21f4e-b3d1-4839-adca-c7cccb01cbf1"
      },
      "execution_count": 85,
      "outputs": [
        {
          "output_type": "stream",
          "name": "stdout",
          "text": [
            "563/563 [==============================] - 2s 3ms/step\n",
            "39/39 [==============================] - 0s 2ms/step\n"
          ]
        },
        {
          "output_type": "execute_result",
          "data": {
            "text/plain": [
              "(46821.65173126672, 53686.267768106394)"
            ]
          },
          "metadata": {},
          "execution_count": 85
        }
      ]
    },
    {
      "cell_type": "code",
      "source": [
        "mse(gbr.predict(X_test), y_test, squared=False)"
      ],
      "metadata": {
        "colab": {
          "base_uri": "https://localhost:8080/"
        },
        "id": "1zQeLNSv24Th",
        "outputId": "800388d6-505d-411f-ae02-e1f287bc804a"
      },
      "execution_count": 86,
      "outputs": [
        {
          "output_type": "execute_result",
          "data": {
            "text/plain": [
              "49342.57109417591"
            ]
          },
          "metadata": {},
          "execution_count": 86
        }
      ]
    },
    {
      "cell_type": "code",
      "source": [],
      "metadata": {
        "id": "5_bAiPgK2_Lo"
      },
      "execution_count": null,
      "outputs": []
    }
  ]
}